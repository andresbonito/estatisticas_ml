{
  "nbformat": 4,
  "nbformat_minor": 0,
  "metadata": {
    "colab": {
      "provenance": []
    },
    "kernelspec": {
      "name": "python3",
      "display_name": "Python 3"
    },
    "language_info": {
      "name": "python"
    }
  },
  "cells": [
    {
      "cell_type": "code",
      "execution_count": 11,
      "metadata": {
        "id": "hj9w52s7p3ZM"
      },
      "outputs": [],
      "source": [
        "import pandas as pd\n",
        "import numpy as np\n",
        "import seaborn as sns\n",
        "from scipy import stats\n",
        "import statistics"
      ]
    },
    {
      "cell_type": "markdown",
      "source": [
        "##Aula 1 - Distribuição Normal (Teoria e Pratica)"
      ],
      "metadata": {
        "id": "PhARMVVVs_FN"
      }
    },
    {
      "cell_type": "code",
      "source": [
        "dados_normal = stats.norm.rvs(size = 1000, random_state = 1)\n",
        "dados_normal"
      ],
      "metadata": {
        "colab": {
          "base_uri": "https://localhost:8080/"
        },
        "id": "55o7O8ngqB-8",
        "outputId": "bc4fe5f9-e1ed-4faf-ea53-0de5d206b98d"
      },
      "execution_count": 12,
      "outputs": [
        {
          "output_type": "execute_result",
          "data": {
            "text/plain": [
              "array([ 1.62434536e+00, -6.11756414e-01, -5.28171752e-01, -1.07296862e+00,\n",
              "        8.65407629e-01, -2.30153870e+00,  1.74481176e+00, -7.61206901e-01,\n",
              "        3.19039096e-01, -2.49370375e-01,  1.46210794e+00, -2.06014071e+00,\n",
              "       -3.22417204e-01, -3.84054355e-01,  1.13376944e+00, -1.09989127e+00,\n",
              "       -1.72428208e-01, -8.77858418e-01,  4.22137467e-02,  5.82815214e-01,\n",
              "       -1.10061918e+00,  1.14472371e+00,  9.01590721e-01,  5.02494339e-01,\n",
              "        9.00855949e-01, -6.83727859e-01, -1.22890226e-01, -9.35769434e-01,\n",
              "       -2.67888080e-01,  5.30355467e-01, -6.91660752e-01, -3.96753527e-01,\n",
              "       -6.87172700e-01, -8.45205641e-01, -6.71246131e-01, -1.26645989e-02,\n",
              "       -1.11731035e+00,  2.34415698e-01,  1.65980218e+00,  7.42044161e-01,\n",
              "       -1.91835552e-01, -8.87628964e-01, -7.47158294e-01,  1.69245460e+00,\n",
              "        5.08077548e-02, -6.36995647e-01,  1.90915485e-01,  2.10025514e+00,\n",
              "        1.20158952e-01,  6.17203110e-01,  3.00170320e-01, -3.52249846e-01,\n",
              "       -1.14251820e+00, -3.49342722e-01, -2.08894233e-01,  5.86623191e-01,\n",
              "        8.38983414e-01,  9.31102081e-01,  2.85587325e-01,  8.85141164e-01,\n",
              "       -7.54397941e-01,  1.25286816e+00,  5.12929820e-01, -2.98092835e-01,\n",
              "        4.88518147e-01, -7.55717130e-02,  1.13162939e+00,  1.51981682e+00,\n",
              "        2.18557541e+00, -1.39649634e+00, -1.44411381e+00, -5.04465863e-01,\n",
              "        1.60037069e-01,  8.76168921e-01,  3.15634947e-01, -2.02220122e+00,\n",
              "       -3.06204013e-01,  8.27974643e-01,  2.30094735e-01,  7.62011180e-01,\n",
              "       -2.22328143e-01, -2.00758069e-01,  1.86561391e-01,  4.10051647e-01,\n",
              "        1.98299720e-01,  1.19008646e-01, -6.70662286e-01,  3.77563786e-01,\n",
              "        1.21821271e-01,  1.12948391e+00,  1.19891788e+00,  1.85156417e-01,\n",
              "       -3.75284950e-01, -6.38730407e-01,  4.23494354e-01,  7.73400683e-02,\n",
              "       -3.43853676e-01,  4.35968568e-02, -6.20000844e-01,  6.98032034e-01,\n",
              "       -4.47128565e-01,  1.22450770e+00,  4.03491642e-01,  5.93578523e-01,\n",
              "       -1.09491185e+00,  1.69382433e-01,  7.40556451e-01, -9.53700602e-01,\n",
              "       -2.66218506e-01,  3.26145467e-02, -1.37311732e+00,  3.15159392e-01,\n",
              "        8.46160648e-01, -8.59515941e-01,  3.50545979e-01, -1.31228341e+00,\n",
              "       -3.86955093e-02, -1.61577235e+00,  1.12141771e+00,  4.08900538e-01,\n",
              "       -2.46169559e-02, -7.75161619e-01,  1.27375593e+00,  1.96710175e+00,\n",
              "       -1.85798186e+00,  1.23616403e+00,  1.62765075e+00,  3.38011697e-01,\n",
              "       -1.19926803e+00,  8.63345318e-01, -1.80920302e-01, -6.03920628e-01,\n",
              "       -1.23005814e+00,  5.50537496e-01,  7.92806866e-01, -6.23530730e-01,\n",
              "        5.20576337e-01, -1.14434139e+00,  8.01861032e-01,  4.65672984e-02,\n",
              "       -1.86569772e-01, -1.01745873e-01,  8.68886157e-01,  7.50411640e-01,\n",
              "        5.29465324e-01,  1.37701210e-01,  7.78211279e-02,  6.18380262e-01,\n",
              "        2.32494559e-01,  6.82551407e-01, -3.10116774e-01, -2.43483776e+00,\n",
              "        1.03882460e+00,  2.18697965e+00,  4.41364444e-01, -1.00155233e-01,\n",
              "       -1.36444744e-01, -1.19054188e-01,  1.74094083e-02, -1.12201873e+00,\n",
              "       -5.17094458e-01, -9.97026828e-01,  2.48799161e-01, -2.96641152e-01,\n",
              "        4.95211324e-01, -1.74703160e-01,  9.86335188e-01,  2.13533901e-01,\n",
              "        2.19069973e+00, -1.89636092e+00, -6.46916688e-01,  9.01486892e-01,\n",
              "        2.52832571e+00, -2.48634778e-01,  4.36689932e-02, -2.26314243e-01,\n",
              "        1.33145711e+00, -2.87307863e-01,  6.80069840e-01, -3.19801599e-01,\n",
              "       -1.27255876e+00,  3.13547720e-01,  5.03184813e-01,  1.29322588e+00,\n",
              "       -1.10447026e-01, -6.17362064e-01,  5.62761097e-01,  2.40737092e-01,\n",
              "        2.80665077e-01, -7.31127037e-02,  1.16033857e+00,  3.69492716e-01,\n",
              "        1.90465871e+00,  1.11105670e+00,  6.59049796e-01, -1.62743834e+00,\n",
              "        6.02319280e-01,  4.20282204e-01,  8.10951673e-01,  1.04444209e+00,\n",
              "       -4.00878192e-01,  8.24005618e-01, -5.62305431e-01,  1.95487808e+00,\n",
              "       -1.33195167e+00, -1.76068856e+00, -1.65072127e+00, -8.90555584e-01,\n",
              "       -1.11911540e+00,  1.95607890e+00, -3.26499498e-01, -1.34267579e+00,\n",
              "        1.11438298e+00, -5.86523939e-01, -1.23685338e+00,  8.75838928e-01,\n",
              "        6.23362177e-01, -4.34956683e-01,  1.40754000e+00,  1.29101580e-01,\n",
              "        1.61694960e+00,  5.02740882e-01,  1.55880554e+00,  1.09402696e-01,\n",
              "       -1.21974440e+00,  2.44936865e+00, -5.45774168e-01, -1.98837863e-01,\n",
              "       -7.00398505e-01, -2.03394449e-01,  2.42669441e-01,  2.01830179e-01,\n",
              "        6.61020288e-01,  1.79215821e+00, -1.20464572e-01, -1.23312074e+00,\n",
              "       -1.18231813e+00, -6.65754518e-01, -1.67419581e+00,  8.25029824e-01,\n",
              "       -4.98213564e-01, -3.10984978e-01, -1.89148284e-03, -1.39662042e+00,\n",
              "       -8.61316361e-01,  6.74711526e-01,  6.18539131e-01, -4.43171931e-01,\n",
              "        1.81053491e+00, -1.30572692e+00, -3.44987210e-01, -2.30839743e-01,\n",
              "       -2.79308500e+00,  1.93752881e+00,  3.66332015e-01, -1.04458938e+00,\n",
              "        2.05117344e+00,  5.85662000e-01,  4.29526140e-01, -6.06998398e-01,\n",
              "        1.06222724e-01, -1.52568032e+00,  7.95026094e-01, -3.74438319e-01,\n",
              "        1.34048197e-01,  1.20205486e+00,  2.84748111e-01,  2.62467445e-01,\n",
              "        2.76499305e-01, -7.33271604e-01,  8.36004719e-01,  1.54335911e+00,\n",
              "        7.58805660e-01,  8.84908814e-01, -8.77281519e-01, -8.67787223e-01,\n",
              "       -1.44087602e+00,  1.23225307e+00, -2.54179868e-01,  1.39984394e+00,\n",
              "       -7.81911683e-01, -4.37508983e-01,  9.54250872e-02,  9.21450069e-01,\n",
              "        6.07501958e-02,  2.11124755e-01,  1.65275673e-02,  1.77187720e-01,\n",
              "       -1.11647002e+00,  8.09271010e-02, -1.86578994e-01, -5.68244809e-02,\n",
              "        4.92336556e-01, -6.80678141e-01, -8.45080274e-02, -2.97361883e-01,\n",
              "        4.17302005e-01,  7.84770651e-01, -9.55425262e-01,  5.85910431e-01,\n",
              "        2.06578332e+00, -1.47115693e+00, -8.30171895e-01, -8.80577600e-01,\n",
              "       -2.79097722e-01,  1.62284909e+00,  1.33526763e-02, -6.94693595e-01,\n",
              "        6.21803504e-01, -5.99804531e-01,  1.12341216e+00,  3.05267040e-01,\n",
              "        1.38877940e+00, -6.61344243e-01,  3.03085711e+00,  8.24584625e-01,\n",
              "        6.54580153e-01, -5.11884476e-02, -7.25597119e-01, -8.67768678e-01,\n",
              "       -1.35977326e-01, -7.97269785e-01,  2.82675712e-01, -8.26097432e-01,\n",
              "        6.21082701e-01,  9.56121704e-01, -7.05840507e-01,  1.19268607e+00,\n",
              "       -2.37941936e-01,  1.15528789e+00,  4.38166347e-01,  1.12232832e+00,\n",
              "       -9.97019796e-01, -1.06793987e-01,  1.45142926e+00, -6.18036848e-01,\n",
              "       -2.03720123e+00, -1.94258918e+00, -2.50644065e+00, -2.11416392e+00,\n",
              "       -4.11639163e-01,  1.27852808e+00, -4.42229280e-01,  3.23527354e-01,\n",
              "       -1.09991490e-01,  8.54894544e-03, -1.68198840e-01, -1.74180344e-01,\n",
              "        4.61164100e-01, -1.17598267e+00,  1.01012718e+00,  9.20017933e-01,\n",
              "       -1.95057341e-01,  8.05393424e-01, -7.01344426e-01, -5.37223024e-01,\n",
              "        1.56263850e-01, -1.90221025e-01, -4.48738033e-01, -6.72448039e-01,\n",
              "       -5.57494722e-01,  9.39168744e-01, -1.94332341e+00,  3.52494364e-01,\n",
              "       -2.36436952e-01,  7.27813500e-01,  5.15073614e-01, -2.78253447e+00,\n",
              "        5.84646610e-01,  3.24274243e-01,  2.18628366e-02, -4.68673816e-01,\n",
              "        8.53281222e-01, -4.13029310e-01,  1.83471763e+00,  5.64382855e-01,\n",
              "        2.13782807e+00, -7.85533997e-01, -1.75592564e+00,  7.14789597e-01,\n",
              "        8.52704062e-01,  3.53600971e-02, -1.53879325e+00, -4.47895185e-01,\n",
              "        6.17985534e-01, -1.84176326e-01, -1.15985185e-01, -1.75458969e-01,\n",
              "       -9.33914656e-01, -5.33020326e-01, -1.42655542e+00,  1.76795995e+00,\n",
              "       -4.75372875e-01,  4.77610182e-01, -1.02188594e+00,  7.94528240e-01,\n",
              "       -1.87316098e+00,  9.20615118e-01, -3.53679249e-02,  2.11060505e+00,\n",
              "       -1.30653407e+00,  7.63804802e-02,  3.67231814e-01,  1.23289919e+00,\n",
              "       -4.22856961e-01,  8.64644065e-02, -2.14246673e+00, -8.30168864e-01,\n",
              "        4.51615951e-01,  1.10417433e+00, -2.81736269e-01,  2.05635552e+00,\n",
              "        1.76024923e+00, -6.06524918e-02, -2.41350300e+00, -1.77756638e+00,\n",
              "       -7.77858827e-01,  1.11584111e+00,  3.10272288e-01, -2.09424782e+00,\n",
              "       -2.28765829e-01,  1.61336137e+00, -3.74804687e-01, -7.49969617e-01,\n",
              "        2.05462410e+00,  5.34095368e-02, -4.79157099e-01,  3.50167159e-01,\n",
              "        1.71647264e-02, -4.29142278e-01,  1.20845633e+00,  1.11570180e+00,\n",
              "        8.40861558e-01, -1.02887218e-01,  1.14690038e+00, -4.97025792e-02,\n",
              "        4.66643267e-01,  1.03368687e+00,  8.08844360e-01,  1.78975468e+00,\n",
              "        4.51284016e-01, -1.68405999e+00, -1.16017010e+00,  1.35010682e+00,\n",
              "       -3.31283170e-01,  3.86539145e-01, -8.51455657e-01,  1.00088142e+00,\n",
              "       -3.84832249e-01,  1.45810824e+00, -5.32234021e-01,  1.11813340e+00,\n",
              "        6.74396105e-01, -7.22391905e-01,  1.09899633e+00, -9.01634490e-01,\n",
              "       -8.22467189e-01,  7.21711292e-01, -6.25342001e-01, -5.93843067e-01,\n",
              "       -3.43900709e-01, -1.00016919e+00,  1.04499441e+00,  6.08514698e-01,\n",
              "       -6.93286967e-02, -1.08392067e-01,  4.50155513e-01,  1.76533510e+00,\n",
              "        8.70969803e-01, -5.08457134e-01,  7.77419205e-01, -1.18771172e-01,\n",
              "       -1.98998184e-01,  1.86647138e+00, -4.18937898e-01, -4.79184915e-01,\n",
              "       -1.95210529e+00, -1.40232915e+00,  4.51122939e-01, -6.94920901e-01,\n",
              "        5.15413802e-01, -1.11487105e+00, -7.67309826e-01,  6.74570707e-01,\n",
              "        1.46089238e+00,  5.92472801e-01,  1.19783084e+00,  1.70459417e+00,\n",
              "        1.04008915e+00, -9.18440038e-01, -1.05344713e-01,  6.30195671e-01,\n",
              "       -4.14846901e-01,  4.51946037e-01, -1.57915629e+00, -8.28627979e-01,\n",
              "        5.28879746e-01, -2.23708651e+00, -1.10771250e+00, -1.77183179e-02,\n",
              "       -1.71939447e+00,  5.71209961e-02, -7.99547491e-01, -2.91594596e-01,\n",
              "       -2.58982853e-01,  1.89293198e-01, -5.63788735e-01,  8.96864073e-02,\n",
              "       -6.01156801e-01,  5.56073510e-01,  1.69380911e+00,  1.96869779e-01,\n",
              "        1.69869255e-01, -1.16400797e+00,  6.93366226e-01, -7.58067329e-01,\n",
              "       -8.08847196e-01,  5.57439453e-01,  1.81038744e-01,  1.10717545e+00,\n",
              "        1.44287693e+00, -5.39681562e-01,  1.28376990e-01,  1.76041518e+00,\n",
              "        9.66539250e-01,  7.13049050e-01,  1.30620607e+00, -6.04602969e-01,\n",
              "        6.36583409e-01,  1.40925339e+00,  1.62091229e+00, -8.06184817e-01,\n",
              "       -2.51674208e-01,  3.82715174e-01, -2.88997343e-01, -3.91816240e-01,\n",
              "        6.84001328e-01, -3.53409983e-01, -1.78791289e+00,  3.61847316e-01,\n",
              "       -4.24492791e-01, -7.31530982e-01, -1.56573815e+00,  1.01382247e+00,\n",
              "       -2.22711263e+00, -1.69933360e+00, -2.75846063e-01,  1.22895559e+00,\n",
              "        1.30970591e+00, -1.15498263e+00, -1.77632196e-01, -1.51045638e+00,\n",
              "        1.01120706e+00, -1.47656266e+00, -1.43195745e-01,  1.03298378e+00,\n",
              "       -2.22414029e-01,  1.47016034e+00, -8.70008223e-01,  3.69190470e-01,\n",
              "        8.53282186e-01, -1.39711730e-01,  1.38631426e+00,  5.48129585e-01,\n",
              "       -1.63744959e+00,  3.95860270e+00,  6.48643644e-01,  1.07343294e-01,\n",
              "       -1.39881282e+00,  8.17678188e-02, -4.59942831e-01,  6.44353666e-01,\n",
              "        3.71670291e-01,  1.85300949e+00,  1.42251373e-01,  5.13505480e-01,\n",
              "        3.72456852e-01, -1.48489803e-01, -1.83400197e-01,  1.10100020e+00,\n",
              "        7.80027135e-01, -6.29441604e-01, -1.11343610e+00, -6.74100249e-02,\n",
              "        1.16143998e+00, -2.75293863e-02,  1.74643509e+00, -7.75070287e-01,\n",
              "        1.41640538e-01, -2.51630386e+00, -5.95667881e-01, -3.09121319e-01,\n",
              "        5.10937774e-01,  1.71066184e+00,  3.49435894e-02,  1.45391758e+00,\n",
              "        6.61681076e-01,  9.86352180e-01, -4.66154857e-01,  1.38499134e+00,\n",
              "       -1.07296428e+00,  4.95158611e-01, -9.52062101e-01, -5.18145552e-01,\n",
              "       -1.46140360e+00, -5.16347909e-01,  3.51116897e-01, -6.87704631e-02,\n",
              "       -1.34776494e+00,  1.47073986e+00,  3.37220938e-01,  1.00806543e+00,\n",
              "        7.85226920e-01, -6.64867767e-01, -1.94504696e+00, -9.15424368e-01,\n",
              "        1.22515585e+00, -1.05354607e+00,  8.16043684e-01, -6.12406973e-01,\n",
              "        3.93109245e-01, -1.82391985e+00,  1.16707517e+00, -3.96687001e-02,\n",
              "        8.85825799e-01,  1.89861649e-01,  7.98063795e-01, -1.01932039e-01,\n",
              "        7.43356544e-01, -1.50957268e+00, -1.08071069e+00,  7.25474004e-01,\n",
              "       -3.91782562e-02, -2.28754171e-01, -1.79612295e-01,  5.01725109e-01,\n",
              "       -5.93343754e-01,  5.10307597e-01, -9.15791849e-01, -4.07252043e-01,\n",
              "        9.84951672e-01,  1.07125243e+00, -1.09715436e+00,  8.38634747e-01,\n",
              "       -1.03918232e+00,  7.33023232e-01, -1.89881206e+00, -1.11711069e+00,\n",
              "       -5.08972278e-01, -1.66485955e-01,  1.42361443e+00,  9.03999174e-01,\n",
              "        1.57546791e+00,  1.20660790e+00, -2.82863552e-01, -2.66326884e-01,\n",
              "        1.06897162e+00,  4.03714310e-02, -1.56993672e-01, -1.33520272e+00,\n",
              "       -1.06460122e-01, -2.79099641e+00, -4.56117555e-01, -9.79890252e-01,\n",
              "        6.92574348e-01, -4.78672356e-01, -3.29051549e-01,  1.34710546e+00,\n",
              "       -1.04906775e+00,  3.16658895e-01, -1.89526695e+00,  8.97291174e-02,\n",
              "        4.10265745e-01,  8.59870972e-01, -8.98683193e-01,  3.19656942e-01,\n",
              "        3.18154200e-01, -1.92316341e-02,  1.50016279e-01,  4.63534322e-01,\n",
              "        3.97880425e-01, -9.96010889e-01, -1.19586151e+00,  2.50598029e+00,\n",
              "        1.91979229e+00, -1.39169388e+00,  4.50217742e-01,  6.27437083e-01,\n",
              "        7.51337235e-01,  1.40395436e-01, -9.26871939e-01, -1.82420406e-01,\n",
              "       -4.91125138e-01,  1.34373116e-01, -2.68371304e-01, -1.31675626e-01,\n",
              "        1.01855247e+00,  1.23055820e+00, -1.18110317e+00, -4.59930104e-01,\n",
              "       -7.90799954e-01,  1.22372221e+00, -5.93679025e-02,  1.44898940e+00,\n",
              "       -4.77580855e-01,  2.59999942e-02, -1.34869645e+00,  1.30253554e+00,\n",
              "       -3.62612088e-01, -1.48515645e+00, -5.92461285e-01, -2.30490794e+00,\n",
              "       -3.18171727e-02,  1.12487742e-01,  2.88078167e-01,  1.49810818e+00,\n",
              "       -3.00976154e-01,  8.07455917e-01,  3.12238689e-01, -1.93321640e-01,\n",
              "       -2.07680202e+00,  9.47501167e-01, -5.03973949e-01,  1.79558917e-02,\n",
              "       -1.27046078e+00,  2.82995534e-01,  1.08030817e-01,  2.94176190e-02,\n",
              "       -1.34793129e-01,  1.04921829e+00,  9.66220863e-01,  7.25916853e-01,\n",
              "        3.32107876e+00, -6.00225330e-01, -3.79517516e-01, -1.01480369e+00,\n",
              "        4.35986196e-01, -6.87487393e-01, -2.69836174e+00, -1.21333813e+00,\n",
              "        7.22518992e-02,  1.00978733e+00, -1.55694156e+00, -6.12442128e-01,\n",
              "       -1.39351805e-01, -7.28537489e-01,  5.31163793e-01,  4.00084198e-03,\n",
              "        3.21265914e-01, -7.25214926e-01,  1.53653633e+00, -3.75008758e-04,\n",
              "        1.29354962e+00, -4.38997664e-01,  5.90039464e-01, -6.79383783e-01,\n",
              "       -9.50909251e-01, -7.04350332e-01, -4.58666861e-02, -2.18733459e-01,\n",
              "        1.53920701e+00, -1.14870423e+00, -1.09033833e+00,  1.70018815e+00,\n",
              "        6.08783659e-01, -1.88141087e+00,  4.97269099e-01,  2.37332699e-01,\n",
              "       -2.14444405e+00, -3.69562425e-01, -1.74549518e-02,  7.31402517e-01,\n",
              "        9.54495667e-01,  9.57467711e-02,  1.03345080e+00, -1.46273275e-01,\n",
              "       -8.57496825e-01, -9.34181843e-01,  5.42645295e-01, -1.95816909e+00,\n",
              "        6.77807571e-01, -1.10657307e+00, -3.59224096e-01,  5.05381903e-01,\n",
              "        1.21794090e+00, -1.94068096e+00, -8.06178212e-01,  4.90616924e-02,\n",
              "       -5.96086335e-01,  8.61623101e-01, -2.08639057e+00,  3.61801641e-01,\n",
              "        4.25920177e-01,  4.90803971e-02,  1.10223673e+00, -1.22957425e+00,\n",
              "        1.10861676e+00, -7.02920403e-01,  7.25550518e-01, -3.24204219e-01,\n",
              "        8.14343129e-01,  7.80469930e-01, -1.46405357e+00, -1.54491194e-01,\n",
              "       -9.24323185e-02, -2.37875265e-01, -7.55662765e-01,  1.85143789e+00,\n",
              "        2.09096677e-01,  1.55501599e+00, -5.69148654e-01, -1.06179676e+00,\n",
              "        1.32247779e-01, -5.63236604e-01,  2.39014596e+00,  2.45422849e-01,\n",
              "        1.15259914e+00, -2.24235772e-01, -3.26061306e-01, -3.09114176e-02,\n",
              "        3.55717262e-01,  8.49586845e-01, -1.22154015e-01, -6.80851574e-01,\n",
              "       -1.06787658e+00, -7.66793627e-02,  5.72962726e-01,  4.57947076e-01,\n",
              "       -1.78175491e-02, -6.00138799e-01,  1.46765263e-01,  5.71804879e-01,\n",
              "       -3.68176565e-02,  1.12368489e-01, -1.50504326e-01,  9.15499268e-01,\n",
              "       -4.38200267e-01,  1.85535621e-01,  3.94428030e-01,  7.25522558e-01,\n",
              "        1.49588477e+00,  6.75453809e-01,  5.99213235e-01, -1.47023709e+00,\n",
              "        6.06403944e-01,  2.29371761e+00, -8.30010986e-01, -1.01951985e+00,\n",
              "       -2.14653842e-01,  1.02124813e+00,  5.24750492e-01, -4.77124206e-01,\n",
              "       -3.59901817e-02,  1.03703898e+00,  6.72619748e-01,  2.42887697e+00,\n",
              "        1.00568668e+00,  3.53567216e-01,  6.14726276e-01, -3.48984191e-01,\n",
              "       -9.77773002e-01,  1.71957132e-01,  4.90561044e-01, -1.39528303e+00,\n",
              "       -5.22356465e-01, -3.69255902e-01,  2.65642403e-01, -2.60466059e-01,\n",
              "        4.45096710e-01,  9.81122462e-02,  1.06032751e+00, -1.71116766e+00,\n",
              "        1.65712464e+00,  1.41767401e+00,  5.03170861e-02,  6.50323214e-01,\n",
              "        6.06548400e-01, -7.37289628e-01,  1.64665066e-01,  7.78174179e-01,\n",
              "        3.09816759e-01,  1.05132077e+00,  9.49961101e-02,  8.07509886e-02,\n",
              "       -7.67803746e-01, -3.64538050e-01, -4.59717681e-01,  1.70548352e+00,\n",
              "        2.40505552e-01, -9.99426501e-01,  3.98598388e-01, -1.92003697e-01,\n",
              "       -3.05376438e+00,  4.79852371e-01, -1.55269878e+00,  5.78464420e-01,\n",
              "       -9.61263599e-01, -1.45832446e+00,  4.94341651e-01, -1.49419377e+00,\n",
              "       -4.46699203e-01,  2.04377395e-01,  6.12232523e-01,  7.44884536e-01,\n",
              "       -3.62812886e-02, -8.32395348e-01,  1.92381543e+00, -6.05981321e-01,\n",
              "        1.80358898e+00, -4.52524973e-01,  1.16128569e+00,  1.06996554e+00,\n",
              "       -1.04553425e+00,  3.55284507e-01,  7.55392029e-01,  7.00982122e-01,\n",
              "       -1.98937450e-01,  3.01960045e-01, -3.94689681e-01, -1.17181338e+00,\n",
              "        9.84012237e-01, -5.59681422e-01,  1.37975819e+00,  6.02450901e-01,\n",
              "       -8.92646674e-01, -1.61198320e-01, -2.86384915e-01, -8.70887650e-01,\n",
              "        5.01429590e-01, -4.78614074e-01,  1.63169151e+00,  8.60891241e-01,\n",
              "       -8.80189065e-01, -1.90005215e-02, -2.26760192e-01, -1.56450785e+00,\n",
              "        9.31255679e-01,  9.49808815e-01,  9.25501215e-01, -4.56987858e-01,\n",
              "        1.06898597e+00, -2.09752935e-01,  9.35147780e-01,  1.81252782e+00,\n",
              "        1.40109881e-01, -1.41914878e+00, -3.16901197e-01,  6.40985866e-01,\n",
              "        1.21987438e+00, -1.13379204e+00, -1.90548298e-01,  2.33339126e-01,\n",
              "        4.34998324e-01,  9.10423603e-01, -9.48439656e-01, -4.23478297e-01,\n",
              "        1.00796648e+00,  3.92334911e-01,  4.48380651e-01,  1.12532350e+00,\n",
              "        1.04053390e-01,  5.28003422e-01, -3.14563862e-01, -1.34501002e+00,\n",
              "       -1.29525789e+00,  7.43205537e-02, -1.99560718e-01, -6.54603169e-01,\n",
              "        3.18014296e-01, -8.90271552e-01,  1.11337266e-01, -1.95225583e-02,\n",
              "       -8.39988915e-01, -2.29820588e+00,  1.45652739e+00,  3.16637236e-01,\n",
              "       -2.66412594e+00, -4.26428618e-01,  3.93787731e-01, -2.28140691e-01,\n",
              "        5.80330113e-01, -9.73267585e-01,  1.75167729e-01, -5.34836927e-02,\n",
              "       -1.83061987e-01, -2.21028902e-01,  1.99759555e-01,  9.32721414e-01,\n",
              "       -5.30119800e-01, -4.07240024e-01,  1.60564992e-01, -1.20149976e-01,\n",
              "        3.85602292e-01,  7.18290736e-01,  1.29118890e+00, -1.16444148e-01,\n",
              "       -2.27729800e+00, -6.96245395e-02,  3.53870427e-01, -1.86955017e-01])"
            ]
          },
          "metadata": {},
          "execution_count": 12
        }
      ]
    },
    {
      "cell_type": "code",
      "source": [
        "min(dados_normal), max(dados_normal), max(dados_normal) - min(dados_normal)"
      ],
      "metadata": {
        "colab": {
          "base_uri": "https://localhost:8080/"
        },
        "id": "sJKiWeFvqZnS",
        "outputId": "caf0b4ac-3238-41ba-ea80-81757659b14e"
      },
      "execution_count": 13,
      "outputs": [
        {
          "output_type": "execute_result",
          "data": {
            "text/plain": [
              "(-3.053764380426305, 3.9586027040379634, 7.012367084464268)"
            ]
          },
          "metadata": {},
          "execution_count": 13
        }
      ]
    },
    {
      "cell_type": "code",
      "source": [
        "dados_normal.mean(), np.median(dados_normal), stats.mode(dados_normal), np.var(dados_normal), np.std(dados_normal)"
      ],
      "metadata": {
        "colab": {
          "base_uri": "https://localhost:8080/"
        },
        "id": "eHmV4HdTqnNS",
        "outputId": "8812842c-03fd-4f97-c600-39ee0360c246"
      },
      "execution_count": 14,
      "outputs": [
        {
          "output_type": "execute_result",
          "data": {
            "text/plain": [
              "(0.03881247615960185,\n",
              " 0.04129258886921605,\n",
              " ModeResult(mode=-3.053764380426305, count=1),\n",
              " 0.9623691107920885,\n",
              " 0.9810041339322116)"
            ]
          },
          "metadata": {},
          "execution_count": 14
        }
      ]
    },
    {
      "cell_type": "code",
      "source": [
        "np.sum((dados_normal >= 0.9810041339322116) & (dados_normal <= 0.9810041339322116 + 1))"
      ],
      "metadata": {
        "colab": {
          "base_uri": "https://localhost:8080/"
        },
        "id": "w3aRZYPqrzc1",
        "outputId": "781c07ea-6126-48a7-fe4f-098b5f8364fe"
      },
      "execution_count": 15,
      "outputs": [
        {
          "output_type": "execute_result",
          "data": {
            "text/plain": [
              "148"
            ]
          },
          "metadata": {},
          "execution_count": 15
        }
      ]
    },
    {
      "cell_type": "code",
      "source": [
        "np.sum((dados_normal <= 0.9810041339322116) & (dados_normal >= 0.9810041339322116 - 1))"
      ],
      "metadata": {
        "colab": {
          "base_uri": "https://localhost:8080/"
        },
        "id": "RU5xGbO1sOtS",
        "outputId": "4f11c47e-b058-4b60-86b7-81ac4bc01f08"
      },
      "execution_count": 16,
      "outputs": [
        {
          "output_type": "execute_result",
          "data": {
            "text/plain": [
              "353"
            ]
          },
          "metadata": {},
          "execution_count": 16
        }
      ]
    },
    {
      "cell_type": "code",
      "source": [
        "sns.distplot(dados_normal)"
      ],
      "metadata": {
        "colab": {
          "base_uri": "https://localhost:8080/",
          "height": 638
        },
        "id": "V6Mo-tmgsRLp",
        "outputId": "0c8ac9d4-a9b9-481d-ee5a-b82119fba107"
      },
      "execution_count": 17,
      "outputs": [
        {
          "output_type": "stream",
          "name": "stderr",
          "text": [
            "<ipython-input-17-98ab59a9086d>:1: UserWarning: \n",
            "\n",
            "`distplot` is a deprecated function and will be removed in seaborn v0.14.0.\n",
            "\n",
            "Please adapt your code to use either `displot` (a figure-level function with\n",
            "similar flexibility) or `histplot` (an axes-level function for histograms).\n",
            "\n",
            "For a guide to updating your code to use the new functions, please see\n",
            "https://gist.github.com/mwaskom/de44147ed2974457ad6372750bbe5751\n",
            "\n",
            "  sns.distplot(dados_normal)\n"
          ]
        },
        {
          "output_type": "execute_result",
          "data": {
            "text/plain": [
              "<Axes: ylabel='Density'>"
            ]
          },
          "metadata": {},
          "execution_count": 17
        },
        {
          "output_type": "display_data",
          "data": {
            "text/plain": [
              "<Figure size 640x480 with 1 Axes>"
            ],
            "image/png": "[encoded data removed]"
          },
          "metadata": {}
        }
      ]
    },
    {
      "cell_type": "code",
      "source": [
        "(148 + 353) / 1000"
      ],
      "metadata": {
        "colab": {
          "base_uri": "https://localhost:8080/"
        },
        "id": "gvUMES2nsWFi",
        "outputId": "878fa06c-040f-422c-84a9-bca77d81f2a0"
      },
      "execution_count": 18,
      "outputs": [
        {
          "output_type": "execute_result",
          "data": {
            "text/plain": [
              "0.501"
            ]
          },
          "metadata": {},
          "execution_count": 18
        }
      ]
    },
    {
      "cell_type": "markdown",
      "source": [
        "##Aula 2 - Distribuição Normal (Altura das pessoas)"
      ],
      "metadata": {
        "id": "TZvg16MHtBHc"
      }
    },
    {
      "cell_type": "code",
      "source": [
        "dados = np.array([126. , 129.5, 133. , 133. , 136.5, 136.5, 140. , 140. , 140. ,\n",
        "                  140. , 143.5, 143.5, 143.5, 143.5, 143.5, 143.5, 147. , 147. ,\n",
        "                  147. , 147. , 147. , 147. , 147. , 150.5, 150.5, 150.5, 150.5,\n",
        "                  150.5, 150.5, 150.5, 150.5, 154. , 154. , 154. , 154. , 154. ,\n",
        "                  154. , 154. , 154. , 154. , 157.5, 157.5, 157.5, 157.5, 157.5,\n",
        "                  157.5, 157.5, 157.5, 157.5, 157.5, 161. , 161. , 161. , 161. ,\n",
        "                  161. , 161. , 161. , 161. , 161. , 161. , 164.5, 164.5, 164.5,\n",
        "                  164.5, 164.5, 164.5, 164.5, 164.5, 164.5, 168. , 168. , 168. ,\n",
        "                  168. , 168. , 168. , 168. , 168. , 171.5, 171.5, 171.5, 171.5,\n",
        "                  171.5, 171.5, 171.5, 175. , 175. , 175. , 175. , 175. , 175. ,\n",
        "                  178.5, 178.5, 178.5, 178.5, 182. , 182. , 185.5, 185.5, 189., 192.5])"
      ],
      "metadata": {
        "id": "E6U-yENSswn6"
      },
      "execution_count": 19,
      "outputs": []
    },
    {
      "cell_type": "code",
      "source": [
        "dados.mean(), np.median(dados), stats.mode(dados), np.var(dados), np.std(dados)"
      ],
      "metadata": {
        "colab": {
          "base_uri": "https://localhost:8080/"
        },
        "id": "EVbnnJjGtOH7",
        "outputId": "0c25b8a6-07b6-48b6-ec73-bd39087aabd7"
      },
      "execution_count": 20,
      "outputs": [
        {
          "output_type": "execute_result",
          "data": {
            "text/plain": [
              "(159.25, 159.25, ModeResult(mode=157.5, count=10), 186.3225, 13.65)"
            ]
          },
          "metadata": {},
          "execution_count": 20
        }
      ]
    },
    {
      "cell_type": "code",
      "source": [
        "min(dados), max(dados), max(dados) - min(dados)"
      ],
      "metadata": {
        "colab": {
          "base_uri": "https://localhost:8080/"
        },
        "id": "lcaAUx61tYQq",
        "outputId": "ab7b35a9-5b40-488f-8e75-16035a77e669"
      },
      "execution_count": 21,
      "outputs": [
        {
          "output_type": "execute_result",
          "data": {
            "text/plain": [
              "(126.0, 192.5, 66.5)"
            ]
          },
          "metadata": {},
          "execution_count": 21
        }
      ]
    },
    {
      "cell_type": "code",
      "source": [
        "sns.distplot(dados, bins= 5)"
      ],
      "metadata": {
        "colab": {
          "base_uri": "https://localhost:8080/",
          "height": 643
        },
        "id": "vyCB6TfRtfcC",
        "outputId": "7b9f5e84-9a7a-4e21-b8d9-13e57e13bd24"
      },
      "execution_count": 22,
      "outputs": [
        {
          "output_type": "stream",
          "name": "stderr",
          "text": [
            "<ipython-input-22-289f43604444>:1: UserWarning: \n",
            "\n",
            "`distplot` is a deprecated function and will be removed in seaborn v0.14.0.\n",
            "\n",
            "Please adapt your code to use either `displot` (a figure-level function with\n",
            "similar flexibility) or `histplot` (an axes-level function for histograms).\n",
            "\n",
            "For a guide to updating your code to use the new functions, please see\n",
            "https://gist.github.com/mwaskom/de44147ed2974457ad6372750bbe5751\n",
            "\n",
            "  sns.distplot(dados, bins= 5)\n"
          ]
        },
        {
          "output_type": "execute_result",
          "data": {
            "text/plain": [
              "<Axes: ylabel='Density'>"
            ]
          },
          "metadata": {},
          "execution_count": 22
        },
        {
          "output_type": "display_data",
          "data": {
            "text/plain": [
              "<Figure size 640x480 with 1 Axes>"
            ],
            "image/png": "[encoded data removed]"
          },
          "metadata": {}
        }
      ]
    },
    {
      "cell_type": "markdown",
      "source": [
        "##Aula 3 - Enviesamento"
      ],
      "metadata": {
        "id": "fbosp_bASRh2"
      }
    },
    {
      "cell_type": "code",
      "source": [
        "dados_normal_2 = stats.skewnorm.rvs(a = 0, size = 1000, random_state = 1)"
      ],
      "metadata": {
        "id": "4z6UeNH1uWI6"
      },
      "execution_count": 23,
      "outputs": []
    },
    {
      "cell_type": "code",
      "source": [
        "sns.distplot(dados_normal_2)"
      ],
      "metadata": {
        "colab": {
          "base_uri": "https://localhost:8080/",
          "height": 638
        },
        "id": "jvqFNFV8VmQm",
        "outputId": "d9ceda32-4a78-456d-fdb7-fe220ba3ac03"
      },
      "execution_count": 24,
      "outputs": [
        {
          "output_type": "stream",
          "name": "stderr",
          "text": [
            "<ipython-input-24-740a895ff6a3>:1: UserWarning: \n",
            "\n",
            "`distplot` is a deprecated function and will be removed in seaborn v0.14.0.\n",
            "\n",
            "Please adapt your code to use either `displot` (a figure-level function with\n",
            "similar flexibility) or `histplot` (an axes-level function for histograms).\n",
            "\n",
            "For a guide to updating your code to use the new functions, please see\n",
            "https://gist.github.com/mwaskom/de44147ed2974457ad6372750bbe5751\n",
            "\n",
            "  sns.distplot(dados_normal_2)\n"
          ]
        },
        {
          "output_type": "execute_result",
          "data": {
            "text/plain": [
              "<Axes: ylabel='Density'>"
            ]
          },
          "metadata": {},
          "execution_count": 24
        },
        {
          "output_type": "display_data",
          "data": {
            "text/plain": [
              "<Figure size 640x480 with 1 Axes>"
            ],
            "image/png": "[encoded data removed]"
          },
          "metadata": {}
        }
      ]
    },
    {
      "cell_type": "code",
      "source": [
        "dados_normal_2.mean(), np.median(dados_normal_2), stats.mode(dados_normal_2)"
      ],
      "metadata": {
        "colab": {
          "base_uri": "https://localhost:8080/"
        },
        "id": "GwzFrQuIVt2l",
        "outputId": "ac4f9bfc-0170-4d9b-a622-df6d81e9fa43"
      },
      "execution_count": 25,
      "outputs": [
        {
          "output_type": "execute_result",
          "data": {
            "text/plain": [
              "(0.013510670918871783,\n",
              " -0.00964565629996391,\n",
              " ModeResult(mode=-3.432663431795559, count=1))"
            ]
          },
          "metadata": {},
          "execution_count": 25
        }
      ]
    },
    {
      "cell_type": "code",
      "source": [
        "dados_normal_positivo = stats.skewnorm.rvs(a = 10, size = 1000, random_state = 1)\n",
        "sns.distplot(dados_normal_positivo)"
      ],
      "metadata": {
        "colab": {
          "base_uri": "https://localhost:8080/",
          "height": 638
        },
        "id": "QvRUe7mdV9OO",
        "outputId": "830ea209-1c92-4912-919b-8954accf7cea"
      },
      "execution_count": 26,
      "outputs": [
        {
          "output_type": "stream",
          "name": "stderr",
          "text": [
            "<ipython-input-26-ad19977ebd65>:2: UserWarning: \n",
            "\n",
            "`distplot` is a deprecated function and will be removed in seaborn v0.14.0.\n",
            "\n",
            "Please adapt your code to use either `displot` (a figure-level function with\n",
            "similar flexibility) or `histplot` (an axes-level function for histograms).\n",
            "\n",
            "For a guide to updating your code to use the new functions, please see\n",
            "https://gist.github.com/mwaskom/de44147ed2974457ad6372750bbe5751\n",
            "\n",
            "  sns.distplot(dados_normal_positivo)\n"
          ]
        },
        {
          "output_type": "execute_result",
          "data": {
            "text/plain": [
              "<Axes: ylabel='Density'>"
            ]
          },
          "metadata": {},
          "execution_count": 26
        },
        {
          "output_type": "display_data",
          "data": {
            "text/plain": [
              "<Figure size 640x480 with 1 Axes>"
            ],
            "image/png": "[encoded data removed]"
          },
          "metadata": {}
        }
      ]
    },
    {
      "cell_type": "code",
      "source": [
        "dados_normal_positivo.mean(), np.median(dados_normal_positivo), stats.mode(dados_normal_positivo)"
      ],
      "metadata": {
        "colab": {
          "base_uri": "https://localhost:8080/"
        },
        "id": "GM3B_b0NWWy7",
        "outputId": "1a30bd0c-e9e7-4e15-d677-97638d600c82"
      },
      "execution_count": 27,
      "outputs": [
        {
          "output_type": "execute_result",
          "data": {
            "text/plain": [
              "(0.7747325497254626,\n",
              " 0.6517433986448076,\n",
              " ModeResult(mode=-0.15142319651973277, count=1))"
            ]
          },
          "metadata": {},
          "execution_count": 27
        }
      ]
    },
    {
      "cell_type": "code",
      "source": [
        "dados_normal_negativo = stats.skewnorm.rvs(a = -10, size = 1000, random_state = 1)\n",
        "sns.distplot(dados_normal_negativo)"
      ],
      "metadata": {
        "colab": {
          "base_uri": "https://localhost:8080/",
          "height": 638
        },
        "id": "6C57xgL4Wgzb",
        "outputId": "b229121f-b5da-489c-a871-5b362d6f9ab5"
      },
      "execution_count": 28,
      "outputs": [
        {
          "output_type": "stream",
          "name": "stderr",
          "text": [
            "<ipython-input-28-982db6e8b6cd>:2: UserWarning: \n",
            "\n",
            "`distplot` is a deprecated function and will be removed in seaborn v0.14.0.\n",
            "\n",
            "Please adapt your code to use either `displot` (a figure-level function with\n",
            "similar flexibility) or `histplot` (an axes-level function for histograms).\n",
            "\n",
            "For a guide to updating your code to use the new functions, please see\n",
            "https://gist.github.com/mwaskom/de44147ed2974457ad6372750bbe5751\n",
            "\n",
            "  sns.distplot(dados_normal_negativo)\n"
          ]
        },
        {
          "output_type": "execute_result",
          "data": {
            "text/plain": [
              "<Axes: ylabel='Density'>"
            ]
          },
          "metadata": {},
          "execution_count": 28
        },
        {
          "output_type": "display_data",
          "data": {
            "text/plain": [
              "<Figure size 640x480 with 1 Axes>"
            ],
            "image/png": "[encoded data removed]"
          },
          "metadata": {}
        }
      ]
    },
    {
      "cell_type": "code",
      "source": [
        "dados_normal_negativo.mean(), np.median(dados_normal_negativo), stats.mode(dados_normal_negativo)"
      ],
      "metadata": {
        "colab": {
          "base_uri": "https://localhost:8080/"
        },
        "id": "AcZknFdTXaNf",
        "outputId": "2b12d64c-5ae0-4aeb-bc41-df1c3f9d846a"
      },
      "execution_count": 29,
      "outputs": [
        {
          "output_type": "execute_result",
          "data": {
            "text/plain": [
              "(-0.7720438257196695,\n",
              " -0.653055158584102,\n",
              " ModeResult(mode=-3.9183367614629354, count=1))"
            ]
          },
          "metadata": {},
          "execution_count": 29
        }
      ]
    },
    {
      "cell_type": "markdown",
      "source": [
        "##Aula 4 - Distribuição Normal (Padronizada)"
      ],
      "metadata": {
        "id": "KDoJYt14Xxhv"
      }
    },
    {
      "cell_type": "code",
      "source": [
        "#não possuem mesma media e desvio padrão\n",
        "#comparação dificil entre duas ou mais bases de dados\n",
        "#util para aplicação machine learning para redução da escala dos dados"
      ],
      "metadata": {
        "id": "u_E-uRTiX0nN"
      },
      "execution_count": 30,
      "outputs": []
    },
    {
      "cell_type": "code",
      "source": [
        "# z_score = (x - media) / desvio_padrao"
      ],
      "metadata": {
        "id": "UqvkC8nyYFHF"
      },
      "execution_count": 31,
      "outputs": []
    },
    {
      "cell_type": "code",
      "source": [
        "dados_normal_padronizado = np.random.standard_normal(size = 1000)"
      ],
      "metadata": {
        "id": "CR_WV-SYYOfk"
      },
      "execution_count": 32,
      "outputs": []
    },
    {
      "cell_type": "code",
      "source": [
        "min(dados_normal_padronizado), max(dados_normal_padronizado)"
      ],
      "metadata": {
        "colab": {
          "base_uri": "https://localhost:8080/"
        },
        "id": "AmGaWYBPcaCl",
        "outputId": "bc1202b8-bbd4-4908-9b5f-63d537bb6907"
      },
      "execution_count": 33,
      "outputs": [
        {
          "output_type": "execute_result",
          "data": {
            "text/plain": [
              "(-3.842326089308391, 3.282765122555541)"
            ]
          },
          "metadata": {},
          "execution_count": 33
        }
      ]
    },
    {
      "cell_type": "code",
      "source": [
        "sns.distplot(dados_normal_padronizado)"
      ],
      "metadata": {
        "colab": {
          "base_uri": "https://localhost:8080/",
          "height": 638
        },
        "id": "M97VNVXycmD1",
        "outputId": "15ee3b90-e768-4511-fd33-bad7fd9e1f9f"
      },
      "execution_count": 34,
      "outputs": [
        {
          "output_type": "stream",
          "name": "stderr",
          "text": [
            "<ipython-input-34-dac7192c83f5>:1: UserWarning: \n",
            "\n",
            "`distplot` is a deprecated function and will be removed in seaborn v0.14.0.\n",
            "\n",
            "Please adapt your code to use either `displot` (a figure-level function with\n",
            "similar flexibility) or `histplot` (an axes-level function for histograms).\n",
            "\n",
            "For a guide to updating your code to use the new functions, please see\n",
            "https://gist.github.com/mwaskom/de44147ed2974457ad6372750bbe5751\n",
            "\n",
            "  sns.distplot(dados_normal_padronizado)\n"
          ]
        },
        {
          "output_type": "execute_result",
          "data": {
            "text/plain": [
              "<Axes: ylabel='Density'>"
            ]
          },
          "metadata": {},
          "execution_count": 34
        },
        {
          "output_type": "display_data",
          "data": {
            "text/plain": [
              "<Figure size 640x480 with 1 Axes>"
            ],
            "image/png": "[encoded data removed]"
          },
          "metadata": {}
        }
      ]
    },
    {
      "cell_type": "code",
      "source": [
        "dados_normal_padronizado.mean(), np.std(dados_normal_padronizado)"
      ],
      "metadata": {
        "colab": {
          "base_uri": "https://localhost:8080/"
        },
        "id": "mUWvZbIRcrON",
        "outputId": "e2cafa97-164d-4b02-d0e3-ac7a7f04059f"
      },
      "execution_count": 35,
      "outputs": [
        {
          "output_type": "execute_result",
          "data": {
            "text/plain": [
              "(-0.034007802996285245, 0.9855763229434855)"
            ]
          },
          "metadata": {},
          "execution_count": 35
        }
      ]
    },
    {
      "cell_type": "code",
      "source": [
        "dados"
      ],
      "metadata": {
        "colab": {
          "base_uri": "https://localhost:8080/"
        },
        "id": "TnN5K-VVcw_N",
        "outputId": "14b4cbf7-7b62-4b1b-8dc4-9667fda4b57e"
      },
      "execution_count": 36,
      "outputs": [
        {
          "output_type": "execute_result",
          "data": {
            "text/plain": [
              "array([126. , 129.5, 133. , 133. , 136.5, 136.5, 140. , 140. , 140. ,\n",
              "       140. , 143.5, 143.5, 143.5, 143.5, 143.5, 143.5, 147. , 147. ,\n",
              "       147. , 147. , 147. , 147. , 147. , 150.5, 150.5, 150.5, 150.5,\n",
              "       150.5, 150.5, 150.5, 150.5, 154. , 154. , 154. , 154. , 154. ,\n",
              "       154. , 154. , 154. , 154. , 157.5, 157.5, 157.5, 157.5, 157.5,\n",
              "       157.5, 157.5, 157.5, 157.5, 157.5, 161. , 161. , 161. , 161. ,\n",
              "       161. , 161. , 161. , 161. , 161. , 161. , 164.5, 164.5, 164.5,\n",
              "       164.5, 164.5, 164.5, 164.5, 164.5, 164.5, 168. , 168. , 168. ,\n",
              "       168. , 168. , 168. , 168. , 168. , 171.5, 171.5, 171.5, 171.5,\n",
              "       171.5, 171.5, 171.5, 175. , 175. , 175. , 175. , 175. , 175. ,\n",
              "       178.5, 178.5, 178.5, 178.5, 182. , 182. , 185.5, 185.5, 189. ,\n",
              "       192.5])"
            ]
          },
          "metadata": {},
          "execution_count": 36
        }
      ]
    },
    {
      "cell_type": "code",
      "source": [
        "media = dados.mean()\n",
        "desvio_padrao = np.std(dados)\n",
        "media, desvio_padrao"
      ],
      "metadata": {
        "colab": {
          "base_uri": "https://localhost:8080/"
        },
        "id": "Y1g0-uMDdOAd",
        "outputId": "45c869ca-1074-405f-f4a8-cbc790c09db8"
      },
      "execution_count": 37,
      "outputs": [
        {
          "output_type": "execute_result",
          "data": {
            "text/plain": [
              "(159.25, 13.65)"
            ]
          },
          "metadata": {},
          "execution_count": 37
        }
      ]
    },
    {
      "cell_type": "code",
      "source": [
        "z_scores = (dados - media) / desvio_padrao\n",
        "z_scores"
      ],
      "metadata": {
        "colab": {
          "base_uri": "https://localhost:8080/"
        },
        "id": "4VmZroc6dSm8",
        "outputId": "fe2dd732-90ac-4bf9-87bb-1b5f8c17b03d"
      },
      "execution_count": 38,
      "outputs": [
        {
          "output_type": "execute_result",
          "data": {
            "text/plain": [
              "array([-2.43589744, -2.17948718, -1.92307692, -1.92307692, -1.66666667,\n",
              "       -1.66666667, -1.41025641, -1.41025641, -1.41025641, -1.41025641,\n",
              "       -1.15384615, -1.15384615, -1.15384615, -1.15384615, -1.15384615,\n",
              "       -1.15384615, -0.8974359 , -0.8974359 , -0.8974359 , -0.8974359 ,\n",
              "       -0.8974359 , -0.8974359 , -0.8974359 , -0.64102564, -0.64102564,\n",
              "       -0.64102564, -0.64102564, -0.64102564, -0.64102564, -0.64102564,\n",
              "       -0.64102564, -0.38461538, -0.38461538, -0.38461538, -0.38461538,\n",
              "       -0.38461538, -0.38461538, -0.38461538, -0.38461538, -0.38461538,\n",
              "       -0.12820513, -0.12820513, -0.12820513, -0.12820513, -0.12820513,\n",
              "       -0.12820513, -0.12820513, -0.12820513, -0.12820513, -0.12820513,\n",
              "        0.12820513,  0.12820513,  0.12820513,  0.12820513,  0.12820513,\n",
              "        0.12820513,  0.12820513,  0.12820513,  0.12820513,  0.12820513,\n",
              "        0.38461538,  0.38461538,  0.38461538,  0.38461538,  0.38461538,\n",
              "        0.38461538,  0.38461538,  0.38461538,  0.38461538,  0.64102564,\n",
              "        0.64102564,  0.64102564,  0.64102564,  0.64102564,  0.64102564,\n",
              "        0.64102564,  0.64102564,  0.8974359 ,  0.8974359 ,  0.8974359 ,\n",
              "        0.8974359 ,  0.8974359 ,  0.8974359 ,  0.8974359 ,  1.15384615,\n",
              "        1.15384615,  1.15384615,  1.15384615,  1.15384615,  1.15384615,\n",
              "        1.41025641,  1.41025641,  1.41025641,  1.41025641,  1.66666667,\n",
              "        1.66666667,  1.92307692,  1.92307692,  2.17948718,  2.43589744])"
            ]
          },
          "metadata": {},
          "execution_count": 38
        }
      ]
    },
    {
      "cell_type": "code",
      "source": [
        "z_scores.mean(), np.std(z_scores)"
      ],
      "metadata": {
        "colab": {
          "base_uri": "https://localhost:8080/"
        },
        "id": "tc3AKasxeBmz",
        "outputId": "cb571a7f-3b29-42c5-ef9c-aa2838af460a"
      },
      "execution_count": 39,
      "outputs": [
        {
          "output_type": "execute_result",
          "data": {
            "text/plain": [
              "(0.0, 0.9999999999999999)"
            ]
          },
          "metadata": {},
          "execution_count": 39
        }
      ]
    },
    {
      "cell_type": "code",
      "source": [
        "sns.distplot(z_scores)"
      ],
      "metadata": {
        "colab": {
          "base_uri": "https://localhost:8080/",
          "height": 638
        },
        "id": "UkRxdN2UehBA",
        "outputId": "887bda27-3bae-40e4-d269-646d984fb1cd"
      },
      "execution_count": 40,
      "outputs": [
        {
          "output_type": "stream",
          "name": "stderr",
          "text": [
            "<ipython-input-40-ce2fffe3677e>:1: UserWarning: \n",
            "\n",
            "`distplot` is a deprecated function and will be removed in seaborn v0.14.0.\n",
            "\n",
            "Please adapt your code to use either `displot` (a figure-level function with\n",
            "similar flexibility) or `histplot` (an axes-level function for histograms).\n",
            "\n",
            "For a guide to updating your code to use the new functions, please see\n",
            "https://gist.github.com/mwaskom/de44147ed2974457ad6372750bbe5751\n",
            "\n",
            "  sns.distplot(z_scores)\n"
          ]
        },
        {
          "output_type": "execute_result",
          "data": {
            "text/plain": [
              "<Axes: ylabel='Density'>"
            ]
          },
          "metadata": {},
          "execution_count": 40
        },
        {
          "output_type": "display_data",
          "data": {
            "text/plain": [
              "<Figure size 640x480 with 1 Axes>"
            ],
            "image/png": "[encoded data removed]"
          },
          "metadata": {}
        }
      ]
    },
    {
      "cell_type": "markdown",
      "source": [
        "##Aula 5 - Teorema central do Limite"
      ],
      "metadata": {
        "id": "MNlQ_DS-yzyS"
      }
    },
    {
      "cell_type": "code",
      "source": [
        "alturas = np.random.randint(126, 192, 500)\n",
        "alturas.mean()"
      ],
      "metadata": {
        "colab": {
          "base_uri": "https://localhost:8080/"
        },
        "id": "5Fv8AWiDy5Nr",
        "outputId": "39a48e69-5355-4bc2-ed23-e009e7a01ec4"
      },
      "execution_count": 41,
      "outputs": [
        {
          "output_type": "execute_result",
          "data": {
            "text/plain": [
              "158.958"
            ]
          },
          "metadata": {},
          "execution_count": 41
        }
      ]
    },
    {
      "cell_type": "code",
      "source": [
        "sns.distplot(alturas)"
      ],
      "metadata": {
        "colab": {
          "base_uri": "https://localhost:8080/",
          "height": 638
        },
        "id": "1EVHFUH4zT3J",
        "outputId": "7c973515-b8bc-4858-e1a7-e54159ffdb4c"
      },
      "execution_count": 42,
      "outputs": [
        {
          "output_type": "stream",
          "name": "stderr",
          "text": [
            "<ipython-input-42-aa445700130f>:1: UserWarning: \n",
            "\n",
            "`distplot` is a deprecated function and will be removed in seaborn v0.14.0.\n",
            "\n",
            "Please adapt your code to use either `displot` (a figure-level function with\n",
            "similar flexibility) or `histplot` (an axes-level function for histograms).\n",
            "\n",
            "For a guide to updating your code to use the new functions, please see\n",
            "https://gist.github.com/mwaskom/de44147ed2974457ad6372750bbe5751\n",
            "\n",
            "  sns.distplot(alturas)\n"
          ]
        },
        {
          "output_type": "execute_result",
          "data": {
            "text/plain": [
              "<Axes: ylabel='Density'>"
            ]
          },
          "metadata": {},
          "execution_count": 42
        },
        {
          "output_type": "display_data",
          "data": {
            "text/plain": [
              "<Figure size 640x480 with 1 Axes>"
            ],
            "image/png": "[encoded data removed]"
          },
          "metadata": {}
        }
      ]
    },
    {
      "cell_type": "code",
      "source": [
        "medias = [np.mean(np.random.randint(126, 192, 500)) for _ in range(1000)]\n",
        "medias"
      ],
      "metadata": {
        "colab": {
          "base_uri": "https://localhost:8080/"
        },
        "id": "N3Vww8FUzkIU",
        "outputId": "b5a5fe00-b6c9-41c5-d902-0e59f23196ee"
      },
      "execution_count": 43,
      "outputs": [
        {
          "output_type": "execute_result",
          "data": {
            "text/plain": [
              "[158.326,\n",
              " 158.46,\n",
              " 158.43,\n",
              " 159.4,\n",
              " 157.304,\n",
              " 157.6,\n",
              " 158.78,\n",
              " 158.634,\n",
              " 157.986,\n",
              " 160.81,\n",
              " 158.526,\n",
              " 157.53,\n",
              " 157.99,\n",
              " 159.452,\n",
              " 157.292,\n",
              " 159.986,\n",
              " 157.162,\n",
              " 157.21,\n",
              " 158.866,\n",
              " 159.198,\n",
              " 159.102,\n",
              " 159.398,\n",
              " 158.856,\n",
              " 157.094,\n",
              " 157.24,\n",
              " 158.766,\n",
              " 159.404,\n",
              " 160.208,\n",
              " 159.236,\n",
              " 160.29,\n",
              " 157.908,\n",
              " 159.352,\n",
              " 160.782,\n",
              " 157.9,\n",
              " 156.84,\n",
              " 158.696,\n",
              " 158.478,\n",
              " 158.67,\n",
              " 158.98,\n",
              " 159.016,\n",
              " 157.298,\n",
              " 159.066,\n",
              " 158.908,\n",
              " 158.764,\n",
              " 157.582,\n",
              " 158.796,\n",
              " 159.304,\n",
              " 159.25,\n",
              " 158.048,\n",
              " 158.678,\n",
              " 158.64,\n",
              " 158.816,\n",
              " 160.018,\n",
              " 158.38,\n",
              " 158.712,\n",
              " 157.898,\n",
              " 158.854,\n",
              " 159.176,\n",
              " 157.006,\n",
              " 158.584,\n",
              " 159.816,\n",
              " 159.636,\n",
              " 158.14,\n",
              " 159.548,\n",
              " 158.472,\n",
              " 159.096,\n",
              " 157.304,\n",
              " 158.386,\n",
              " 157.44,\n",
              " 157.186,\n",
              " 157.242,\n",
              " 158.392,\n",
              " 157.26,\n",
              " 158.702,\n",
              " 158.32,\n",
              " 157.552,\n",
              " 157.954,\n",
              " 158.386,\n",
              " 158.524,\n",
              " 156.458,\n",
              " 157.738,\n",
              " 156.888,\n",
              " 157.73,\n",
              " 160.274,\n",
              " 158.9,\n",
              " 158.328,\n",
              " 158.286,\n",
              " 155.582,\n",
              " 159.226,\n",
              " 159.56,\n",
              " 158.412,\n",
              " 157.846,\n",
              " 158.384,\n",
              " 157.312,\n",
              " 157.344,\n",
              " 158.182,\n",
              " 157.33,\n",
              " 158.74,\n",
              " 158.126,\n",
              " 157.436,\n",
              " 157.47,\n",
              " 157.876,\n",
              " 160.65,\n",
              " 157.252,\n",
              " 159.058,\n",
              " 159.718,\n",
              " 158.268,\n",
              " 157.512,\n",
              " 157.084,\n",
              " 157.938,\n",
              " 159.604,\n",
              " 159.246,\n",
              " 158.586,\n",
              " 158.188,\n",
              " 157.492,\n",
              " 159.684,\n",
              " 157.7,\n",
              " 156.412,\n",
              " 158.862,\n",
              " 159.152,\n",
              " 159.558,\n",
              " 159.28,\n",
              " 158.428,\n",
              " 158.65,\n",
              " 159.162,\n",
              " 159.224,\n",
              " 158.678,\n",
              " 159.386,\n",
              " 158.702,\n",
              " 158.582,\n",
              " 158.542,\n",
              " 159.406,\n",
              " 158.798,\n",
              " 158.448,\n",
              " 159.412,\n",
              " 158.344,\n",
              " 159.05,\n",
              " 159.256,\n",
              " 157.82,\n",
              " 158.132,\n",
              " 160.594,\n",
              " 158.034,\n",
              " 156.924,\n",
              " 158.948,\n",
              " 158.422,\n",
              " 157.344,\n",
              " 158.058,\n",
              " 158.416,\n",
              " 158.372,\n",
              " 159.826,\n",
              " 157.14,\n",
              " 156.512,\n",
              " 158.166,\n",
              " 158.37,\n",
              " 158.96,\n",
              " 157.66,\n",
              " 156.988,\n",
              " 157.802,\n",
              " 158.86,\n",
              " 159.5,\n",
              " 159.228,\n",
              " 158.1,\n",
              " 158.048,\n",
              " 158.614,\n",
              " 158.034,\n",
              " 158.338,\n",
              " 158.514,\n",
              " 161.058,\n",
              " 157.04,\n",
              " 158.346,\n",
              " 158.148,\n",
              " 157.708,\n",
              " 160.028,\n",
              " 158.478,\n",
              " 158.158,\n",
              " 158.226,\n",
              " 157.374,\n",
              " 159.392,\n",
              " 157.746,\n",
              " 158.726,\n",
              " 158.632,\n",
              " 158.474,\n",
              " 157.398,\n",
              " 158.256,\n",
              " 158.808,\n",
              " 158.89,\n",
              " 158.916,\n",
              " 157.764,\n",
              " 159.28,\n",
              " 159.328,\n",
              " 159.438,\n",
              " 159.292,\n",
              " 158.416,\n",
              " 158.934,\n",
              " 158.154,\n",
              " 159.156,\n",
              " 159.118,\n",
              " 157.306,\n",
              " 157.472,\n",
              " 158.042,\n",
              " 157.85,\n",
              " 159.95,\n",
              " 158.716,\n",
              " 158.93,\n",
              " 157.888,\n",
              " 156.718,\n",
              " 157.11,\n",
              " 158.296,\n",
              " 159.128,\n",
              " 157.674,\n",
              " 157.816,\n",
              " 157.912,\n",
              " 158.034,\n",
              " 159.264,\n",
              " 158.41,\n",
              " 157.884,\n",
              " 158.598,\n",
              " 156.918,\n",
              " 157.732,\n",
              " 158.024,\n",
              " 159.114,\n",
              " 158.408,\n",
              " 159.306,\n",
              " 158.582,\n",
              " 157.898,\n",
              " 156.906,\n",
              " 158.124,\n",
              " 159.748,\n",
              " 157.772,\n",
              " 158.204,\n",
              " 158.892,\n",
              " 158.152,\n",
              " 158.73,\n",
              " 157.846,\n",
              " 158.604,\n",
              " 157.816,\n",
              " 158.766,\n",
              " 158.034,\n",
              " 158.716,\n",
              " 159.67,\n",
              " 158.372,\n",
              " 157.976,\n",
              " 157.95,\n",
              " 157.97,\n",
              " 157.218,\n",
              " 158.154,\n",
              " 158.502,\n",
              " 158.178,\n",
              " 157.866,\n",
              " 157.11,\n",
              " 160.118,\n",
              " 157.538,\n",
              " 156.99,\n",
              " 158.06,\n",
              " 158.076,\n",
              " 158.424,\n",
              " 157.904,\n",
              " 158.794,\n",
              " 157.678,\n",
              " 157.954,\n",
              " 158.786,\n",
              " 157.928,\n",
              " 158.5,\n",
              " 157.972,\n",
              " 158.064,\n",
              " 158.9,\n",
              " 158.48,\n",
              " 157.188,\n",
              " 158.926,\n",
              " 157.57,\n",
              " 158.926,\n",
              " 158.068,\n",
              " 159.02,\n",
              " 156.348,\n",
              " 159.02,\n",
              " 158.162,\n",
              " 159.816,\n",
              " 158.33,\n",
              " 159.174,\n",
              " 158.972,\n",
              " 159.106,\n",
              " 157.62,\n",
              " 157.594,\n",
              " 157.798,\n",
              " 157.664,\n",
              " 159.502,\n",
              " 158.268,\n",
              " 158.796,\n",
              " 158.624,\n",
              " 158.282,\n",
              " 157.498,\n",
              " 159.106,\n",
              " 161.102,\n",
              " 159.41,\n",
              " 159.302,\n",
              " 158.75,\n",
              " 158.636,\n",
              " 158.474,\n",
              " 157.846,\n",
              " 159.014,\n",
              " 157.016,\n",
              " 158.656,\n",
              " 159.774,\n",
              " 159.108,\n",
              " 156.502,\n",
              " 157.844,\n",
              " 157.026,\n",
              " 157.738,\n",
              " 158.602,\n",
              " 158.95,\n",
              " 159.512,\n",
              " 157.41,\n",
              " 157.462,\n",
              " 157.944,\n",
              " 157.92,\n",
              " 159.474,\n",
              " 158.756,\n",
              " 157.104,\n",
              " 157.864,\n",
              " 158.462,\n",
              " 157.366,\n",
              " 158.728,\n",
              " 159.296,\n",
              " 158.542,\n",
              " 158.192,\n",
              " 158.42,\n",
              " 158.532,\n",
              " 157.184,\n",
              " 158.634,\n",
              " 157.124,\n",
              " 159.514,\n",
              " 159.192,\n",
              " 158.438,\n",
              " 159.008,\n",
              " 158.102,\n",
              " 156.178,\n",
              " 158.158,\n",
              " 158.388,\n",
              " 159.21,\n",
              " 159.85,\n",
              " 159.728,\n",
              " 159.758,\n",
              " 159.106,\n",
              " 157.84,\n",
              " 158.376,\n",
              " 159.006,\n",
              " 159.624,\n",
              " 157.374,\n",
              " 157.47,\n",
              " 157.728,\n",
              " 158.846,\n",
              " 158.834,\n",
              " 158.212,\n",
              " 156.326,\n",
              " 159.158,\n",
              " 159.584,\n",
              " 158.504,\n",
              " 160.012,\n",
              " 157.664,\n",
              " 158.258,\n",
              " 157.798,\n",
              " 158.07,\n",
              " 158.82,\n",
              " 158.442,\n",
              " 158.836,\n",
              " 156.612,\n",
              " 158.748,\n",
              " 158.928,\n",
              " 156.626,\n",
              " 158.268,\n",
              " 158.732,\n",
              " 158.412,\n",
              " 158.366,\n",
              " 159.022,\n",
              " 157.506,\n",
              " 159.054,\n",
              " 157.808,\n",
              " 157.78,\n",
              " 157.24,\n",
              " 158.806,\n",
              " 157.64,\n",
              " 159.178,\n",
              " 158.546,\n",
              " 158.39,\n",
              " 157.458,\n",
              " 161.342,\n",
              " 158.142,\n",
              " 156.382,\n",
              " 157.322,\n",
              " 158.648,\n",
              " 158.738,\n",
              " 159.184,\n",
              " 159.756,\n",
              " 158.798,\n",
              " 160.26,\n",
              " 158.49,\n",
              " 158.972,\n",
              " 157.784,\n",
              " 158.186,\n",
              " 159.268,\n",
              " 157.624,\n",
              " 158.776,\n",
              " 158.544,\n",
              " 159.134,\n",
              " 157.23,\n",
              " 158.622,\n",
              " 157.932,\n",
              " 158.168,\n",
              " 159.0,\n",
              " 158.044,\n",
              " 157.316,\n",
              " 156.81,\n",
              " 159.264,\n",
              " 159.114,\n",
              " 157.31,\n",
              " 159.286,\n",
              " 157.58,\n",
              " 158.614,\n",
              " 158.512,\n",
              " 158.104,\n",
              " 158.848,\n",
              " 159.5,\n",
              " 157.904,\n",
              " 158.614,\n",
              " 158.508,\n",
              " 159.844,\n",
              " 157.924,\n",
              " 157.382,\n",
              " 157.826,\n",
              " 159.138,\n",
              " 159.044,\n",
              " 159.128,\n",
              " 160.56,\n",
              " 158.796,\n",
              " 158.306,\n",
              " 157.836,\n",
              " 157.318,\n",
              " 159.146,\n",
              " 159.37,\n",
              " 158.768,\n",
              " 157.954,\n",
              " 157.566,\n",
              " 157.968,\n",
              " 158.346,\n",
              " 160.068,\n",
              " 159.418,\n",
              " 157.432,\n",
              " 160.224,\n",
              " 158.614,\n",
              " 156.796,\n",
              " 159.452,\n",
              " 158.386,\n",
              " 158.472,\n",
              " 159.762,\n",
              " 158.228,\n",
              " 158.326,\n",
              " 158.394,\n",
              " 157.414,\n",
              " 158.022,\n",
              " 158.8,\n",
              " 158.54,\n",
              " 158.226,\n",
              " 158.866,\n",
              " 157.708,\n",
              " 159.51,\n",
              " 159.868,\n",
              " 158.216,\n",
              " 159.17,\n",
              " 159.652,\n",
              " 159.766,\n",
              " 157.464,\n",
              " 158.91,\n",
              " 158.05,\n",
              " 158.404,\n",
              " 159.228,\n",
              " 160.196,\n",
              " 158.622,\n",
              " 158.45,\n",
              " 157.898,\n",
              " 157.88,\n",
              " 158.224,\n",
              " 158.592,\n",
              " 158.958,\n",
              " 158.04,\n",
              " 158.77,\n",
              " 158.316,\n",
              " 159.144,\n",
              " 157.922,\n",
              " 157.914,\n",
              " 159.272,\n",
              " 157.6,\n",
              " 158.356,\n",
              " 158.266,\n",
              " 158.944,\n",
              " 158.106,\n",
              " 158.148,\n",
              " 158.47,\n",
              " 159.902,\n",
              " 159.356,\n",
              " 157.742,\n",
              " 159.656,\n",
              " 157.988,\n",
              " 156.942,\n",
              " 158.182,\n",
              " 157.994,\n",
              " 157.52,\n",
              " 160.2,\n",
              " 159.388,\n",
              " 158.4,\n",
              " 158.684,\n",
              " 157.996,\n",
              " 158.046,\n",
              " 158.536,\n",
              " 157.92,\n",
              " 158.224,\n",
              " 155.822,\n",
              " 158.384,\n",
              " 157.384,\n",
              " 158.584,\n",
              " 160.17,\n",
              " 159.17,\n",
              " 156.872,\n",
              " 158.54,\n",
              " 155.94,\n",
              " 159.724,\n",
              " 157.66,\n",
              " 157.272,\n",
              " 160.364,\n",
              " 159.642,\n",
              " 157.786,\n",
              " 158.534,\n",
              " 157.57,\n",
              " 158.944,\n",
              " 158.962,\n",
              " 157.922,\n",
              " 158.83,\n",
              " 158.976,\n",
              " 158.778,\n",
              " 158.27,\n",
              " 157.536,\n",
              " 157.66,\n",
              " 157.724,\n",
              " 157.904,\n",
              " 157.632,\n",
              " 159.174,\n",
              " 158.098,\n",
              " 158.298,\n",
              " 158.384,\n",
              " 158.594,\n",
              " 158.36,\n",
              " 157.774,\n",
              " 160.472,\n",
              " 158.792,\n",
              " 158.418,\n",
              " 157.32,\n",
              " 157.84,\n",
              " 158.3,\n",
              " 158.938,\n",
              " 158.742,\n",
              " 160.138,\n",
              " 158.21,\n",
              " 157.04,\n",
              " 157.47,\n",
              " 159.668,\n",
              " 157.926,\n",
              " 158.728,\n",
              " 158.56,\n",
              " 159.688,\n",
              " 158.072,\n",
              " 159.018,\n",
              " 159.126,\n",
              " 157.906,\n",
              " 157.806,\n",
              " 157.986,\n",
              " 158.212,\n",
              " 157.852,\n",
              " 157.87,\n",
              " 157.482,\n",
              " 158.324,\n",
              " 159.03,\n",
              " 158.948,\n",
              " 158.456,\n",
              " 158.706,\n",
              " 159.816,\n",
              " 158.23,\n",
              " 158.442,\n",
              " 158.186,\n",
              " 159.854,\n",
              " 159.982,\n",
              " 157.856,\n",
              " 159.996,\n",
              " 158.264,\n",
              " 158.382,\n",
              " 159.372,\n",
              " 158.098,\n",
              " 158.788,\n",
              " 158.408,\n",
              " 158.672,\n",
              " 159.146,\n",
              " 157.48,\n",
              " 159.258,\n",
              " 158.22,\n",
              " 158.258,\n",
              " 158.174,\n",
              " 158.096,\n",
              " 158.342,\n",
              " 159.328,\n",
              " 158.2,\n",
              " 159.32,\n",
              " 159.94,\n",
              " 159.168,\n",
              " 158.7,\n",
              " 158.866,\n",
              " 158.19,\n",
              " 157.59,\n",
              " 158.016,\n",
              " 159.678,\n",
              " 159.158,\n",
              " 156.82,\n",
              " 159.47,\n",
              " 158.49,\n",
              " 157.9,\n",
              " 159.972,\n",
              " 160.07,\n",
              " 157.478,\n",
              " 158.314,\n",
              " 159.314,\n",
              " 158.806,\n",
              " 159.628,\n",
              " 159.268,\n",
              " 157.576,\n",
              " 159.68,\n",
              " 157.998,\n",
              " 158.026,\n",
              " 158.814,\n",
              " 158.616,\n",
              " 158.508,\n",
              " 157.776,\n",
              " 156.954,\n",
              " 157.48,\n",
              " 157.902,\n",
              " 158.544,\n",
              " 156.902,\n",
              " 158.128,\n",
              " 157.854,\n",
              " 158.002,\n",
              " 158.728,\n",
              " 158.066,\n",
              " 157.932,\n",
              " 159.396,\n",
              " 157.872,\n",
              " 157.114,\n",
              " 159.846,\n",
              " 159.95,\n",
              " 158.46,\n",
              " 157.672,\n",
              " 158.564,\n",
              " 158.192,\n",
              " 158.386,\n",
              " 157.796,\n",
              " 156.996,\n",
              " 157.514,\n",
              " 157.124,\n",
              " 157.314,\n",
              " 159.596,\n",
              " 159.146,\n",
              " 158.75,\n",
              " 158.61,\n",
              " 158.65,\n",
              " 158.202,\n",
              " 158.912,\n",
              " 156.496,\n",
              " 160.198,\n",
              " 158.688,\n",
              " 159.254,\n",
              " 158.764,\n",
              " 159.65,\n",
              " 158.858,\n",
              " 158.122,\n",
              " 158.534,\n",
              " 157.646,\n",
              " 159.074,\n",
              " 158.4,\n",
              " 158.766,\n",
              " 158.386,\n",
              " 158.036,\n",
              " 157.586,\n",
              " 157.84,\n",
              " 158.084,\n",
              " 158.936,\n",
              " 157.734,\n",
              " 158.374,\n",
              " 159.37,\n",
              " 158.094,\n",
              " 158.586,\n",
              " 159.244,\n",
              " 159.294,\n",
              " 159.382,\n",
              " 159.89,\n",
              " 159.468,\n",
              " 157.902,\n",
              " 157.102,\n",
              " 158.94,\n",
              " 158.884,\n",
              " 158.346,\n",
              " 157.998,\n",
              " 159.548,\n",
              " 160.366,\n",
              " 157.664,\n",
              " 158.522,\n",
              " 158.198,\n",
              " 158.394,\n",
              " 158.456,\n",
              " 157.86,\n",
              " 158.654,\n",
              " 158.55,\n",
              " 157.052,\n",
              " 159.306,\n",
              " 159.05,\n",
              " 158.268,\n",
              " 158.568,\n",
              " 157.846,\n",
              " 159.182,\n",
              " 158.924,\n",
              " 158.512,\n",
              " 159.22,\n",
              " 158.652,\n",
              " 158.368,\n",
              " 157.806,\n",
              " 159.2,\n",
              " 158.006,\n",
              " 158.428,\n",
              " 158.622,\n",
              " 158.282,\n",
              " 157.438,\n",
              " 158.92,\n",
              " 157.48,\n",
              " 158.952,\n",
              " 157.936,\n",
              " 158.306,\n",
              " 159.086,\n",
              " 158.328,\n",
              " 160.19,\n",
              " 159.13,\n",
              " 159.224,\n",
              " 157.758,\n",
              " 159.25,\n",
              " 158.48,\n",
              " 158.188,\n",
              " 158.088,\n",
              " 159.558,\n",
              " 159.226,\n",
              " 159.174,\n",
              " 157.766,\n",
              " 156.928,\n",
              " 158.248,\n",
              " 158.466,\n",
              " 157.946,\n",
              " 159.596,\n",
              " 159.588,\n",
              " 158.284,\n",
              " 158.712,\n",
              " 157.192,\n",
              " 157.358,\n",
              " 157.834,\n",
              " 158.854,\n",
              " 159.684,\n",
              " 158.572,\n",
              " 157.786,\n",
              " 159.626,\n",
              " 158.874,\n",
              " 159.334,\n",
              " 158.19,\n",
              " 157.878,\n",
              " 159.74,\n",
              " 159.25,\n",
              " 158.664,\n",
              " 157.71,\n",
              " 158.1,\n",
              " 159.852,\n",
              " 156.698,\n",
              " 157.792,\n",
              " 158.222,\n",
              " 158.422,\n",
              " 158.79,\n",
              " 159.486,\n",
              " 157.882,\n",
              " 156.978,\n",
              " 160.332,\n",
              " 158.132,\n",
              " 157.668,\n",
              " 159.48,\n",
              " 158.266,\n",
              " 158.432,\n",
              " 158.804,\n",
              " 157.514,\n",
              " 157.676,\n",
              " 156.89,\n",
              " 160.206,\n",
              " 156.87,\n",
              " 158.258,\n",
              " 159.918,\n",
              " 158.568,\n",
              " 157.596,\n",
              " 158.986,\n",
              " 157.78,\n",
              " 158.702,\n",
              " 158.722,\n",
              " 157.754,\n",
              " 158.122,\n",
              " 158.034,\n",
              " 156.686,\n",
              " 157.118,\n",
              " 159.484,\n",
              " 159.026,\n",
              " 158.874,\n",
              " 159.372,\n",
              " 159.164,\n",
              " 159.416,\n",
              " 157.688,\n",
              " 158.146,\n",
              " 158.832,\n",
              " 159.598,\n",
              " 158.656,\n",
              " 158.044,\n",
              " 157.944,\n",
              " 159.896,\n",
              " 157.622,\n",
              " 157.868,\n",
              " 158.77,\n",
              " 158.854,\n",
              " 158.324,\n",
              " 158.29,\n",
              " 158.59,\n",
              " 160.048,\n",
              " 158.234,\n",
              " 157.724,\n",
              " 158.258,\n",
              " 159.272,\n",
              " 158.202,\n",
              " 159.388,\n",
              " 159.728,\n",
              " 159.382,\n",
              " 159.768,\n",
              " 159.31,\n",
              " 158.972,\n",
              " 159.404,\n",
              " 156.546,\n",
              " 158.742,\n",
              " 159.078,\n",
              " 157.084,\n",
              " 158.396,\n",
              " 158.804,\n",
              " 158.782,\n",
              " 157.834,\n",
              " 158.962,\n",
              " 158.442,\n",
              " 158.886,\n",
              " 157.918,\n",
              " 157.292,\n",
              " 157.88,\n",
              " 158.498,\n",
              " 158.862,\n",
              " 159.172,\n",
              " 159.724,\n",
              " 158.096,\n",
              " 158.916,\n",
              " 159.916,\n",
              " 158.358,\n",
              " 159.028,\n",
              " 157.024,\n",
              " 159.016,\n",
              " 157.826,\n",
              " 159.01,\n",
              " 158.41,\n",
              " 158.118,\n",
              " 159.5,\n",
              " 157.256,\n",
              " 157.538,\n",
              " 157.052,\n",
              " 159.672,\n",
              " 157.292,\n",
              " 158.212,\n",
              " 159.868,\n",
              " 157.912,\n",
              " 159.084,\n",
              " 159.778,\n",
              " 158.974,\n",
              " 157.672,\n",
              " 156.552,\n",
              " 160.08,\n",
              " 156.812,\n",
              " 158.13,\n",
              " 158.824,\n",
              " 159.908,\n",
              " 159.584,\n",
              " 157.78,\n",
              " 157.492,\n",
              " 160.246,\n",
              " 158.048,\n",
              " 159.49,\n",
              " 157.368,\n",
              " 157.822,\n",
              " 159.45,\n",
              " 159.916,\n",
              " 157.856,\n",
              " 157.324,\n",
              " 159.384,\n",
              " 160.202,\n",
              " 159.048,\n",
              " 158.234,\n",
              " 156.918,\n",
              " 158.11,\n",
              " 158.472,\n",
              " 158.81,\n",
              " 159.226,\n",
              " 158.022,\n",
              " 156.742,\n",
              " 158.762,\n",
              " 158.872,\n",
              " 158.51,\n",
              " 157.452,\n",
              " 159.076,\n",
              " 158.416,\n",
              " 158.92,\n",
              " 157.858,\n",
              " 158.94,\n",
              " 157.064,\n",
              " 158.146,\n",
              " 158.64,\n",
              " 158.662,\n",
              " 158.686,\n",
              " 158.374,\n",
              " 158.158,\n",
              " 158.056,\n",
              " 158.128,\n",
              " 157.954,\n",
              " 159.422,\n",
              " 157.762,\n",
              " 158.578,\n",
              " 159.494,\n",
              " 159.394,\n",
              " 157.288,\n",
              " 159.212,\n",
              " 159.58,\n",
              " 157.958,\n",
              " 159.17,\n",
              " 158.48,\n",
              " 157.384,\n",
              " 157.996,\n",
              " 157.868,\n",
              " 158.324,\n",
              " 159.292,\n",
              " 159.482,\n",
              " 157.256,\n",
              " 159.548,\n",
              " 157.61,\n",
              " 158.474,\n",
              " 159.618,\n",
              " 157.178,\n",
              " 157.64,\n",
              " 158.376,\n",
              " 158.492,\n",
              " 157.272,\n",
              " 157.274,\n",
              " 159.138,\n",
              " 157.862,\n",
              " 159.46,\n",
              " 158.258,\n",
              " 159.312,\n",
              " 158.932,\n",
              " 158.712,\n",
              " 157.194,\n",
              " 160.198,\n",
              " 158.136,\n",
              " 158.85,\n",
              " 159.666,\n",
              " 158.126,\n",
              " 158.988,\n",
              " 158.378,\n",
              " 158.742,\n",
              " 160.41,\n",
              " 158.578,\n",
              " 157.83,\n",
              " 158.9,\n",
              " 158.768,\n",
              " 158.074,\n",
              " 158.344,\n",
              " 159.034,\n",
              " 159.548,\n",
              " 158.544,\n",
              " 157.512,\n",
              " 158.372,\n",
              " 158.052,\n",
              " 157.876,\n",
              " 158.054,\n",
              " 157.704,\n",
              " 158.914,\n",
              " 157.632,\n",
              " 159.046]"
            ]
          },
          "metadata": {},
          "execution_count": 43
        }
      ]
    },
    {
      "cell_type": "code",
      "source": [
        "sns.distplot(medias)"
      ],
      "metadata": {
        "colab": {
          "base_uri": "https://localhost:8080/",
          "height": 638
        },
        "id": "M3K91Muaz2O7",
        "outputId": "f54ee1c4-455d-4959-fe89-f2906c5908cc"
      },
      "execution_count": 44,
      "outputs": [
        {
          "output_type": "stream",
          "name": "stderr",
          "text": [
            "<ipython-input-44-74f8139aa97e>:1: UserWarning: \n",
            "\n",
            "`distplot` is a deprecated function and will be removed in seaborn v0.14.0.\n",
            "\n",
            "Please adapt your code to use either `displot` (a figure-level function with\n",
            "similar flexibility) or `histplot` (an axes-level function for histograms).\n",
            "\n",
            "For a guide to updating your code to use the new functions, please see\n",
            "https://gist.github.com/mwaskom/de44147ed2974457ad6372750bbe5751\n",
            "\n",
            "  sns.distplot(medias)\n"
          ]
        },
        {
          "output_type": "execute_result",
          "data": {
            "text/plain": [
              "<Axes: ylabel='Density'>"
            ]
          },
          "metadata": {},
          "execution_count": 44
        },
        {
          "output_type": "display_data",
          "data": {
            "text/plain": [
              "<Figure size 640x480 with 1 Axes>"
            ],
            "image/png": "[encoded data removed]"
          },
          "metadata": {}
        }
      ]
    },
    {
      "cell_type": "markdown",
      "source": [
        "##Aula 6- Distribuição Gamma"
      ],
      "metadata": {
        "id": "n7VkYaok0wtj"
      }
    },
    {
      "cell_type": "code",
      "source": [
        "from scipy.stats import gamma"
      ],
      "metadata": {
        "id": "rgqQJKw60c2U"
      },
      "execution_count": 45,
      "outputs": []
    },
    {
      "cell_type": "code",
      "source": [
        "dados_gama = gamma.rvs(a = 1, size = 1000)\n",
        "dados_gama"
      ],
      "metadata": {
        "colab": {
          "base_uri": "https://localhost:8080/"
        },
        "id": "-he1xqY_06Rx",
        "outputId": "d685e3e6-1b41-4ce0-9441-afebf46f666d"
      },
      "execution_count": 46,
      "outputs": [
        {
          "output_type": "execute_result",
          "data": {
            "text/plain": [
              "array([2.22350877e+00, 2.87031162e-01, 1.28230603e+00, 1.34951307e+00,\n",
              "       1.61511208e-01, 5.53112640e-01, 3.45183072e-02, 9.89574473e-01,\n",
              "       1.65708323e-01, 1.99500367e-01, 1.90031234e-01, 5.94123340e-01,\n",
              "       2.77926663e+00, 1.41397385e+00, 1.35546481e-01, 2.45648935e+00,\n",
              "       2.92405364e+00, 1.76526839e+00, 5.10354998e-01, 4.19987318e-01,\n",
              "       1.98189724e+00, 2.05599803e-01, 2.27787836e+00, 1.57398317e+00,\n",
              "       2.25285195e-01, 1.90792961e+00, 6.74898125e-01, 1.18588885e+00,\n",
              "       1.22822479e+00, 2.06139308e+00, 9.19851695e-01, 2.60230917e+00,\n",
              "       1.41310201e+00, 2.20770782e+00, 3.78168407e-01, 3.38133327e+00,\n",
              "       1.95959287e+00, 4.49438200e-01, 1.03737571e-01, 2.68976854e-01,\n",
              "       2.21044298e+00, 6.01530185e-01, 9.68830728e-01, 7.01168446e-01,\n",
              "       1.27171404e-01, 1.50793497e-01, 8.99571252e-01, 1.03462305e-02,\n",
              "       3.48802133e-01, 2.78628953e-01, 1.59771355e+00, 7.11633265e-01,\n",
              "       9.94377313e-01, 1.07135486e+00, 5.37538149e-02, 7.58754406e-02,\n",
              "       1.54129904e+00, 2.65471769e+00, 4.20942860e-01, 8.88946509e-02,\n",
              "       2.00592769e-01, 6.91651908e-01, 2.03472912e+00, 7.29519991e-01,\n",
              "       1.31376453e-01, 9.39467229e-01, 6.60371633e-03, 6.05419774e-01,\n",
              "       1.16919805e+00, 2.07354942e-01, 1.18110865e+00, 1.11377612e+00,\n",
              "       9.57463471e-03, 1.42143605e-01, 5.37781058e-01, 4.44233153e-01,\n",
              "       9.21620615e-02, 3.50918503e-01, 2.53721344e-01, 2.05695066e-01,\n",
              "       7.94919284e-01, 2.91274317e-01, 1.36789060e+00, 1.19832615e+00,\n",
              "       5.44597131e-01, 1.07908807e+00, 7.29990003e-01, 4.98353326e-01,\n",
              "       1.91349311e-01, 2.02088013e+00, 3.77549508e+00, 4.60778143e-01,\n",
              "       9.13341460e-01, 1.12894881e+00, 2.55005609e+00, 9.58211656e-01,\n",
              "       6.75192226e+00, 5.69108828e-02, 5.75267242e-01, 1.72169025e+00,\n",
              "       7.24112113e-02, 1.16361821e-01, 3.66152306e-01, 2.91876373e-01,\n",
              "       1.50399524e+00, 2.89940762e-01, 2.22391620e+00, 3.66881352e-02,\n",
              "       6.06995753e-01, 5.59871571e-01, 2.60375105e+00, 3.35350690e-01,\n",
              "       1.03003828e+00, 1.93593161e+00, 1.86210463e+00, 1.20395954e-01,\n",
              "       6.67453395e-01, 2.40677770e-01, 1.65894169e+00, 6.97954333e-02,\n",
              "       1.65973283e+00, 2.33011853e-01, 1.50491744e+00, 1.09893844e+00,\n",
              "       3.79920915e-01, 3.16585231e-01, 6.59293968e-01, 1.92612023e+00,\n",
              "       4.38683670e-01, 2.92643654e-01, 1.22209399e+00, 2.33864314e-01,\n",
              "       2.70551843e-01, 2.33005688e-01, 4.22907355e-01, 2.71775307e-01,\n",
              "       9.42994292e-01, 5.42414226e-01, 6.60438538e-01, 4.27675827e-01,\n",
              "       2.77433798e-02, 3.84308786e+00, 1.11974055e+00, 5.20067067e-01,\n",
              "       5.59855105e-02, 1.40984285e-01, 2.69141302e-01, 5.89426880e-01,\n",
              "       1.02810207e+00, 7.50204632e-01, 4.04374491e+00, 2.31920428e+00,\n",
              "       6.18483577e-01, 2.94512441e-01, 6.20732095e-02, 9.37699845e-01,\n",
              "       7.37135263e-01, 2.54493897e+00, 6.27506819e-02, 1.65083556e+00,\n",
              "       1.02536780e+00, 2.57249098e-01, 2.44249132e-01, 2.91733449e+00,\n",
              "       2.33145296e+00, 9.56743736e-01, 8.40781770e-01, 4.53989539e-01,\n",
              "       1.06241735e+00, 1.48879224e+00, 6.82671587e-01, 5.28743401e-01,\n",
              "       7.59251771e-01, 3.35795594e+00, 1.15215921e+00, 2.95392224e-01,\n",
              "       2.13286714e+00, 1.03589697e+00, 2.86921847e-01, 3.04493198e-03,\n",
              "       2.98606197e+00, 1.55183610e-01, 1.64007540e+00, 1.54601646e+00,\n",
              "       2.85431079e-01, 1.27246716e+00, 2.43439681e+00, 1.88166379e+00,\n",
              "       1.27961518e+00, 8.02619614e-01, 8.60803081e-01, 1.13420838e+00,\n",
              "       3.39730032e+00, 1.72977254e+00, 8.51287109e-01, 1.64168296e+00,\n",
              "       1.20128416e-02, 9.18888052e-01, 3.21367266e-01, 2.10297642e-01,\n",
              "       9.27605122e-01, 3.07211630e+00, 5.83507232e-01, 2.13103385e+00,\n",
              "       3.29963641e-01, 9.81957725e-01, 3.52488758e-02, 1.61271558e+00,\n",
              "       6.07663644e-01, 2.32132971e+00, 3.74717629e-01, 2.85981935e+00,\n",
              "       1.74703336e-01, 7.26661034e-01, 4.54025062e-01, 7.30607929e-01,\n",
              "       6.08602993e-01, 1.44056523e+00, 2.48438245e-01, 9.96723760e-01,\n",
              "       4.95986887e-01, 2.08539649e-01, 2.55090843e+00, 8.47230999e-01,\n",
              "       4.84521669e-01, 5.29517397e-01, 3.55631954e-01, 1.09503351e+00,\n",
              "       1.47683932e+00, 2.67478940e+00, 3.72315658e-02, 4.70611648e-01,\n",
              "       1.39653988e+00, 4.40586903e-01, 2.28715194e+00, 3.97757476e-01,\n",
              "       1.81292629e+00, 1.42898349e+00, 5.72518366e-01, 2.77008072e+00,\n",
              "       1.19121398e+00, 5.87921235e-01, 4.18962850e-01, 4.22295659e-01,\n",
              "       3.86474322e-02, 6.25181380e-01, 5.67920918e-01, 5.38882323e-01,\n",
              "       1.69009225e-02, 3.08027741e-01, 1.01158913e+00, 1.66803451e-02,\n",
              "       7.24188167e-01, 1.73360017e-02, 3.78856887e-02, 2.26133388e-01,\n",
              "       5.62817556e-02, 3.60899504e-01, 2.15246257e+00, 7.49013039e-01,\n",
              "       6.58978368e-01, 2.44860340e-01, 1.03882871e+00, 5.60334065e-01,\n",
              "       1.83435748e+00, 3.82727651e-01, 5.89924836e-01, 3.42992411e+00,\n",
              "       1.48525874e-01, 1.50734552e-01, 1.39398258e+00, 4.19515057e+00,\n",
              "       7.36992132e-01, 6.37058025e-01, 5.31846647e-01, 2.03447732e+00,\n",
              "       2.03434931e+00, 1.21616655e+00, 1.67993604e-01, 2.31678767e+00,\n",
              "       6.08307861e-01, 1.21146370e+00, 4.25985448e+00, 1.07452171e+00,\n",
              "       1.15549888e+00, 1.08781163e-01, 2.57225292e-01, 7.79596462e-01,\n",
              "       1.43060627e-01, 1.38963250e+00, 7.66625234e-01, 1.64423938e+00,\n",
              "       1.14422207e+00, 7.25375023e-01, 1.40099854e+00, 5.16542006e-01,\n",
              "       8.51695713e-01, 5.55301534e-01, 1.15649001e+00, 1.14982025e+00,\n",
              "       2.80677911e+00, 9.27602807e-02, 1.24329343e+00, 1.67761161e+00,\n",
              "       8.06312380e-01, 4.31017100e-01, 5.46667297e-02, 2.08284900e+00,\n",
              "       7.06030750e-01, 1.86013933e-01, 1.37596825e+00, 1.33954074e+00,\n",
              "       6.86531443e-01, 9.09955131e-01, 3.64026994e-01, 4.21285752e-01,\n",
              "       1.18752342e+00, 8.17515729e-02, 9.31009696e-01, 9.87016200e-01,\n",
              "       6.58064114e-01, 1.83089528e-01, 2.98135481e-02, 1.00877507e+00,\n",
              "       6.36239359e-01, 1.15097396e+00, 2.41585549e+00, 1.53248643e+00,\n",
              "       5.34687798e-01, 1.58606421e+00, 4.49101622e-01, 4.64411422e-01,\n",
              "       3.41868462e+00, 1.27521520e+00, 1.29033342e+00, 4.62276550e-01,\n",
              "       6.77356896e-01, 9.76453613e-01, 1.49005450e+00, 1.51327785e+00,\n",
              "       1.63895453e+00, 1.39003055e-01, 1.77260849e+00, 7.52814918e-01,\n",
              "       9.89214760e-01, 6.90171912e-01, 8.52869970e-01, 2.48298937e-01,\n",
              "       1.74699476e+00, 2.00521569e+00, 6.06937930e-01, 1.12716402e-01,\n",
              "       2.26655053e+00, 5.06811890e-01, 1.76267937e+00, 8.54027466e-01,\n",
              "       6.13769269e-01, 8.52835140e-02, 2.21499173e+00, 3.22657624e+00,\n",
              "       6.95465527e-01, 2.12602912e-01, 2.27146143e+00, 2.86040563e-02,\n",
              "       2.79960908e-01, 2.78298509e-01, 1.49482594e+00, 2.28582010e+00,\n",
              "       4.39260066e-02, 1.94249372e+00, 1.32547911e-02, 2.22136934e+00,\n",
              "       1.39999644e-01, 1.26791002e+00, 2.09105459e+00, 1.71328156e+00,\n",
              "       3.11285479e+00, 3.72767429e-01, 2.34864681e-01, 2.45469257e+00,\n",
              "       4.23489618e-01, 5.88993901e-01, 9.30217129e-02, 3.18428306e+00,\n",
              "       1.62520132e-01, 8.66036842e-01, 3.81304243e-02, 4.13211069e-01,\n",
              "       1.83942289e-01, 3.60820868e-01, 3.83264213e-02, 3.23970563e-01,\n",
              "       2.51857478e-03, 3.14519321e+00, 2.34688486e-01, 4.56616127e-01,\n",
              "       4.02364272e-01, 8.61362448e-01, 1.15622550e+00, 3.89823759e-01,\n",
              "       5.25572333e-01, 6.46834096e-01, 1.94598145e+00, 1.81050958e-01,\n",
              "       6.70872175e-01, 1.97778890e-01, 3.27102785e-01, 5.68448867e-01,\n",
              "       4.94758128e-01, 2.67459454e-01, 5.93551278e-02, 9.50319301e-01,\n",
              "       5.10091230e-02, 2.03051525e+00, 6.71368598e-01, 6.11003443e-01,\n",
              "       5.02885638e-01, 1.15330100e+00, 1.51840167e-01, 2.46795986e+00,\n",
              "       1.43581326e+00, 5.23490812e-01, 2.41290081e-01, 2.94437074e+00,\n",
              "       8.62358192e-01, 3.03859132e+00, 7.21363003e-03, 2.87759009e-01,\n",
              "       1.06031524e+00, 1.34509576e+00, 3.54103927e-01, 1.98469217e-02,\n",
              "       1.01375971e-01, 1.25593187e+00, 1.96389771e-01, 1.72835175e-01,\n",
              "       3.94540733e-01, 7.69355519e-02, 1.39658527e+00, 7.84509662e-02,\n",
              "       6.45829237e-01, 1.68539963e-01, 5.69005504e-01, 2.94897355e-01,\n",
              "       1.28974614e+00, 4.09338114e-01, 5.85220305e-02, 3.14377176e+00,\n",
              "       2.02596689e+00, 6.44440568e-02, 1.45917315e+00, 4.24837324e-02,\n",
              "       1.77176090e+00, 1.08349200e+00, 1.62555002e-02, 1.78884508e+00,\n",
              "       7.56066451e-01, 4.03069893e-01, 2.70146423e-01, 3.69201576e-01,\n",
              "       4.61622230e-01, 9.62398395e-02, 8.30798042e-02, 4.06197093e-01,\n",
              "       5.78860267e-01, 1.53719725e+00, 8.97635044e-01, 2.55458550e-01,\n",
              "       3.59297374e-01, 7.11462266e-01, 1.02553628e+00, 1.23977922e-01,\n",
              "       3.84076049e-02, 5.95308679e-01, 7.25345545e-01, 1.12490179e+00,\n",
              "       1.17649193e+00, 3.46970040e+00, 1.27281530e+00, 3.46046732e-01,\n",
              "       4.47188100e+00, 1.11461954e+00, 8.86778728e-01, 9.69151826e-02,\n",
              "       1.76507242e+00, 1.96698110e+00, 2.09103907e+00, 6.71527319e-01,\n",
              "       1.00449818e+00, 1.70695581e+00, 1.34661979e-01, 9.93674756e-01,\n",
              "       1.74159828e+00, 1.51506955e-01, 3.45174746e-01, 1.99067108e+00,\n",
              "       1.38786597e-01, 1.02342651e+00, 1.15239519e-01, 6.55189234e-01,\n",
              "       1.00724548e+00, 1.62195703e+00, 2.40978939e+00, 1.49038424e+00,\n",
              "       7.69668244e-01, 3.19598458e-01, 7.09469934e-02, 3.18141431e-01,\n",
              "       5.37303573e-01, 3.60152573e-02, 4.15596220e-01, 9.44179509e-02,\n",
              "       8.27876533e-01, 8.45618251e-02, 1.14412411e-01, 4.86486672e-01,\n",
              "       3.12826215e-01, 2.07278508e+00, 8.46463184e-01, 2.37632218e+00,\n",
              "       5.95206695e-01, 4.49750487e-01, 3.84896627e+00, 1.04465027e-02,\n",
              "       1.72942102e+00, 5.88651725e-01, 1.83930088e-01, 1.49913767e+00,\n",
              "       2.94609443e-01, 1.15968814e+00, 1.18165625e-01, 8.80965207e-01,\n",
              "       2.52384483e-01, 2.99127341e-01, 3.20940440e-01, 8.68850974e-01,\n",
              "       5.15588264e-01, 1.05724432e+00, 2.56708731e-01, 9.53210963e-01,\n",
              "       3.65990781e-01, 2.06872702e+00, 2.51707023e+00, 1.40585610e+00,\n",
              "       3.27469191e-01, 1.22879185e-01, 6.99652008e-02, 1.62116130e+00,\n",
              "       6.80360926e-01, 2.22539935e+00, 8.43758005e-01, 7.72124571e-02,\n",
              "       5.54613919e-01, 7.85656762e-01, 8.35597981e-02, 1.93968345e+00,\n",
              "       9.42092623e-01, 2.09045479e+00, 1.20948816e-01, 3.72665418e+00,\n",
              "       7.55885497e-01, 3.16967181e-01, 2.21904757e+00, 5.71782792e-01,\n",
              "       1.24878151e+00, 1.13787838e+00, 3.81415726e-01, 6.01446884e-01,\n",
              "       9.18860594e-01, 8.20512453e-01, 2.21308547e+00, 7.96685545e-01,\n",
              "       9.49451116e-02, 1.02006977e+00, 8.78094758e-01, 4.57765121e-01,\n",
              "       1.74744449e+00, 7.94897678e-01, 1.99616935e-01, 6.45756971e-01,\n",
              "       1.49920140e+00, 4.81299594e-01, 1.79221306e+00, 1.73751047e-01,\n",
              "       1.08648138e+00, 8.76995561e-01, 1.50590744e+00, 3.96271934e-01,\n",
              "       4.56071688e-01, 3.03202819e-02, 5.30035524e-01, 2.20278013e+00,\n",
              "       9.63450474e-01, 1.95496434e-01, 4.37934428e-01, 1.42510427e+00,\n",
              "       5.59691023e-01, 2.36571029e+00, 8.48049204e-01, 1.74591392e-01,\n",
              "       4.87114295e-01, 3.11252738e+00, 2.47423043e+00, 4.49693091e-01,\n",
              "       6.62574904e-02, 6.37738178e-01, 3.07793963e-01, 1.92955731e+00,\n",
              "       5.98807986e-01, 4.67907260e-01, 1.49086594e+00, 4.19269757e+00,\n",
              "       2.83468795e-01, 2.00990992e+00, 2.18718689e+00, 8.75012788e-01,\n",
              "       2.62815325e-01, 2.99570343e-02, 2.27436834e+00, 6.35871621e-01,\n",
              "       8.57797079e-01, 1.70773874e+00, 2.48684104e+00, 1.61352961e+00,\n",
              "       4.32276028e-01, 5.12195104e-01, 6.41019116e-01, 3.64591283e+00,\n",
              "       1.54612735e+00, 2.83898197e-01, 1.81413192e+00, 6.20640039e-01,\n",
              "       6.15342857e-02, 2.82542647e-01, 7.41502034e-02, 4.44528965e-02,\n",
              "       2.61946559e-01, 8.29395578e-01, 7.46417779e-01, 3.82319113e+00,\n",
              "       1.54941340e+00, 2.02852869e+00, 1.00439646e-01, 3.08546942e+00,\n",
              "       4.14050161e+00, 1.31926379e+00, 6.99757104e-01, 1.42826051e+00,\n",
              "       1.13038780e+00, 3.25406708e-01, 4.97681248e-01, 6.62999611e-03,\n",
              "       9.10640988e-01, 8.46572758e-01, 3.12495704e-01, 4.28113833e-01,\n",
              "       1.36485655e+00, 2.63118405e+00, 2.93255734e-01, 6.02535973e-01,\n",
              "       4.43394760e-01, 4.89471167e-01, 2.25155536e+00, 7.98094490e-02,\n",
              "       1.56389823e-01, 1.65988929e+00, 2.74973852e-01, 2.21981126e+00,\n",
              "       1.67651897e-01, 5.53012971e+00, 9.11216303e-02, 1.38484950e+00,\n",
              "       1.14862623e+00, 2.67336492e-01, 8.44653462e-02, 1.80393303e-01,\n",
              "       1.76877131e+00, 2.84452926e-01, 5.38986845e-01, 1.38761321e+00,\n",
              "       1.83138924e+00, 2.37068182e+00, 1.08507785e+00, 3.22534579e+00,\n",
              "       3.70013902e-01, 1.07433594e+00, 1.26505321e-01, 1.04391174e+00,\n",
              "       9.20475849e-01, 5.50135844e-02, 1.17486108e+00, 2.33124822e+00,\n",
              "       5.34709835e-01, 1.75903116e-01, 6.13125936e-01, 2.12212327e+00,\n",
              "       1.13972316e+00, 1.22193608e-01, 1.35319120e-01, 3.02653136e-01,\n",
              "       1.67506370e-01, 6.59544352e-01, 1.15010348e-01, 1.24805371e+00,\n",
              "       1.48097703e-01, 2.73814709e-01, 1.05442552e+00, 3.07608611e+00,\n",
              "       3.51141315e-02, 5.40170933e-01, 1.44171124e+00, 9.22693753e-01,\n",
              "       2.41334699e+00, 2.62964758e-01, 7.21213165e-01, 8.99251721e-01,\n",
              "       1.05449777e+00, 1.79450131e+00, 1.52225434e+00, 2.66447223e-01,\n",
              "       1.13357634e-01, 2.48812726e-01, 3.94516752e-01, 1.40875247e+00,\n",
              "       3.12656785e+00, 5.50678907e-02, 6.50165808e-01, 1.28199967e+00,\n",
              "       3.42822687e+00, 4.26939835e-02, 9.40424758e-02, 6.45859019e-02,\n",
              "       6.93675245e-01, 8.00701404e-01, 4.90066874e-02, 2.19393414e-02,\n",
              "       1.24209473e+00, 7.28260368e-01, 4.27219739e+00, 3.79437109e-01,\n",
              "       7.57426729e-01, 2.55037932e-01, 3.15292551e-01, 2.91658407e-01,\n",
              "       1.01590179e+00, 4.76395923e-02, 1.54337580e+00, 3.49023973e-01,\n",
              "       2.41864547e+00, 2.65755876e-01, 2.71773067e+00, 3.15753523e+00,\n",
              "       3.97286523e-01, 4.16087643e-01, 4.20600859e-01, 1.15830476e+00,\n",
              "       5.15403340e-01, 1.20289837e+00, 1.47577747e-01, 6.11906914e-01,\n",
              "       3.83629298e-02, 8.01341681e-02, 2.98348113e-01, 3.72520576e-01,\n",
              "       2.31156408e+00, 1.91106417e+00, 3.86862640e-01, 3.13029205e-01,\n",
              "       5.26186269e-01, 1.24051125e+00, 5.18132284e-01, 2.97630761e-02,\n",
              "       2.02826086e+00, 2.10549095e+00, 3.95124962e-01, 8.21618305e-01,\n",
              "       9.02289352e-01, 1.44126441e+00, 2.14590738e+00, 4.45465202e-03,\n",
              "       7.85008551e-01, 8.26590062e-01, 1.21001641e+00, 7.37364883e-02,\n",
              "       7.31142943e-01, 1.13234833e+00, 1.22308972e-03, 4.14227569e-01,\n",
              "       9.53259541e-01, 3.45704544e+00, 1.18049512e+00, 1.80780313e+00,\n",
              "       8.28234764e-01, 2.19493345e-01, 2.14506441e+00, 1.42532239e-01,\n",
              "       6.88590298e-02, 1.36557267e+00, 6.19127703e-01, 2.35785240e-01,\n",
              "       1.19515576e+00, 1.02483413e+00, 1.40571523e+00, 3.26540767e-01,\n",
              "       4.46522831e-01, 6.99204545e-02, 3.23303907e-01, 1.19909933e-02,\n",
              "       6.41898034e-01, 1.03997248e-02, 9.05046546e-02, 1.86524593e+00,\n",
              "       5.27093633e-01, 9.74711411e-01, 2.55075446e-01, 1.33405388e+00,\n",
              "       3.65332478e-01, 5.97454014e-01, 6.58774552e-01, 4.86847768e-01,\n",
              "       2.32645838e-01, 5.09785752e-01, 4.97335897e-01, 1.40862018e+00,\n",
              "       1.17923738e-01, 3.05498095e-01, 1.89752701e+00, 6.28567688e-01,\n",
              "       3.91248128e-01, 8.72191559e-02, 1.25201952e-02, 2.09751945e+00,\n",
              "       5.18596551e-01, 1.92230540e+00, 4.95745480e-02, 5.96804752e-01,\n",
              "       1.32021546e+00, 9.33060727e-01, 7.26663665e-02, 3.10139582e+00,\n",
              "       1.68763517e+00, 2.68460697e-01, 3.58643007e-01, 2.13271577e-01,\n",
              "       1.08962158e+00, 1.01871929e+00, 1.69345142e-02, 1.01638519e+00,\n",
              "       2.93953204e-02, 4.41333255e-01, 3.89360067e-01, 1.61962478e-01,\n",
              "       3.61107769e-01, 1.04662589e+00, 2.72696180e+00, 2.97354785e-02,\n",
              "       2.07736923e+00, 6.77051107e-01, 2.82475212e+00, 2.87050775e-01,\n",
              "       1.24442461e+00, 1.56607129e+00, 3.80437935e-01, 3.09172202e-01,\n",
              "       2.19913469e+00, 2.09511001e-01, 1.18616290e+00, 2.85089001e+00,\n",
              "       1.30799398e+00, 6.84535878e-01, 2.48120860e-01, 1.96462555e-02,\n",
              "       3.14596551e-02, 2.84228992e-02, 1.28771053e+00, 7.40175913e-01,\n",
              "       2.71255133e+00, 3.16002739e-01, 1.08431498e+00, 4.61743543e-01,\n",
              "       1.45613789e-01, 3.47026178e-03, 2.37934558e-01, 7.50247766e-01,\n",
              "       5.23311912e-01, 2.65396979e+00, 9.01751183e-01, 7.74351224e-02,\n",
              "       2.37476055e+00, 2.20708957e+00, 4.62573022e-01, 3.54635127e-01,\n",
              "       1.72634035e+00, 1.96508227e-01, 3.68325160e+00, 8.28016281e-01,\n",
              "       2.53960932e+00, 3.19108913e-01, 1.65156640e+00, 3.41754997e-01,\n",
              "       2.28784639e+00, 4.15501163e-01, 4.64203660e-01, 6.98634298e-02,\n",
              "       4.71157793e+00, 1.34744410e-01, 1.01932596e+00, 1.39297654e+00,\n",
              "       1.29795393e+00, 8.67683645e-02, 2.63006351e+00, 1.75953969e+00,\n",
              "       8.04029678e-02, 6.80878078e-01, 4.14337629e-01, 1.22017579e+00,\n",
              "       7.25168969e-02, 1.85509668e-01, 8.15526326e-01, 2.44337263e+00,\n",
              "       4.42948381e-01, 6.17598753e-02, 1.62532125e+00, 1.43412549e+00,\n",
              "       5.56799044e-02, 1.21207097e+00, 1.23378770e+00, 8.54068028e-02,\n",
              "       6.40128911e-01, 1.69516844e+00, 2.05301792e+00, 2.78717762e+00,\n",
              "       2.46831723e-01, 1.00832544e+00, 6.47280299e-02, 1.13899027e-01,\n",
              "       3.30913542e-01, 8.49070965e-02, 4.01052275e-01, 1.50381385e+00,\n",
              "       1.72749811e+00, 6.44215729e-01, 8.33650752e-01, 2.26462003e+00,\n",
              "       1.32298115e-01, 4.52539543e-01, 1.54690166e+00, 3.33531240e-01,\n",
              "       2.98342128e+00, 1.30077599e-01, 1.60892278e-01, 1.76934019e+00,\n",
              "       5.25984948e-01, 2.30434565e+00, 1.31604604e+00, 1.40275157e+00,\n",
              "       9.65821685e-01, 3.21538649e-01, 1.64180162e-02, 3.50560085e-01,\n",
              "       7.65437030e-01, 6.47300831e-01, 2.43508708e+00, 2.74287810e-01,\n",
              "       8.33140640e-02, 1.49534304e+00, 1.58281060e+00, 8.94051362e-01,\n",
              "       1.08058641e+00, 1.96463097e-01, 7.85413855e-01, 3.41217483e+00,\n",
              "       1.26818236e+00, 5.97704160e-01, 7.23523659e-01, 7.44813069e-01,\n",
              "       2.58961360e+00, 4.43139066e-02, 8.74553024e-01, 2.67807921e+00,\n",
              "       3.79916042e-01, 1.54982042e+00, 1.49287717e+00, 2.00141737e-01,\n",
              "       2.76012344e-01, 4.83493302e-01, 3.59763882e-01, 9.84823178e-01,\n",
              "       1.69622312e+00, 9.78880975e-01, 1.62414657e+00, 1.03357525e+00,\n",
              "       3.78811053e-01, 5.72667918e-02, 3.62310189e-01, 9.12929536e-01,\n",
              "       2.96545694e+00, 3.22727979e+00, 1.23279711e+00, 8.72945867e-01])"
            ]
          },
          "metadata": {},
          "execution_count": 46
        }
      ]
    },
    {
      "cell_type": "code",
      "source": [
        "sns.distplot(dados_gama)"
      ],
      "metadata": {
        "colab": {
          "base_uri": "https://localhost:8080/",
          "height": 638
        },
        "id": "N9EfVJ2h0_9L",
        "outputId": "d7ce9988-06ee-4e88-db23-22d2a5f2ee80"
      },
      "execution_count": 47,
      "outputs": [
        {
          "output_type": "stream",
          "name": "stderr",
          "text": [
            "<ipython-input-47-86a440846f91>:1: UserWarning: \n",
            "\n",
            "`distplot` is a deprecated function and will be removed in seaborn v0.14.0.\n",
            "\n",
            "Please adapt your code to use either `displot` (a figure-level function with\n",
            "similar flexibility) or `histplot` (an axes-level function for histograms).\n",
            "\n",
            "For a guide to updating your code to use the new functions, please see\n",
            "https://gist.github.com/mwaskom/de44147ed2974457ad6372750bbe5751\n",
            "\n",
            "  sns.distplot(dados_gama)\n"
          ]
        },
        {
          "output_type": "execute_result",
          "data": {
            "text/plain": [
              "<Axes: ylabel='Density'>"
            ]
          },
          "metadata": {},
          "execution_count": 47
        },
        {
          "output_type": "display_data",
          "data": {
            "text/plain": [
              "<Figure size 640x480 with 1 Axes>"
            ],
            "image/png": "[encoded data removed]"
          },
          "metadata": {}
        }
      ]
    },
    {
      "cell_type": "code",
      "source": [
        "min(dados_gama), max(dados_gama)"
      ],
      "metadata": {
        "colab": {
          "base_uri": "https://localhost:8080/"
        },
        "id": "TihSRrPv1C8i",
        "outputId": "b844336b-d1d7-4265-cda0-9b37c7027866"
      },
      "execution_count": 48,
      "outputs": [
        {
          "output_type": "execute_result",
          "data": {
            "text/plain": [
              "(0.0012230897174281804, 6.7519222638836425)"
            ]
          },
          "metadata": {},
          "execution_count": 48
        }
      ]
    },
    {
      "cell_type": "markdown",
      "source": [
        "##Aula 7 - Distribuição Exponencial"
      ],
      "metadata": {
        "id": "0kDmd0DU3UP8"
      }
    },
    {
      "cell_type": "code",
      "source": [
        "from scipy.stats import expon"
      ],
      "metadata": {
        "id": "OpzB7WW91eKj"
      },
      "execution_count": 49,
      "outputs": []
    },
    {
      "cell_type": "code",
      "source": [
        "dados_exponencial = expon.rvs(size = 1000)\n",
        "dados_exponencial"
      ],
      "metadata": {
        "colab": {
          "base_uri": "https://localhost:8080/"
        },
        "id": "zB4tTNwK3fas",
        "outputId": "94abdd53-7270-4a10-9f3a-0d51359d94bb"
      },
      "execution_count": 50,
      "outputs": [
        {
          "output_type": "execute_result",
          "data": {
            "text/plain": [
              "array([1.16214483e+00, 3.45231007e-02, 1.08096370e-01, 8.88749664e-01,\n",
              "       3.57153185e+00, 1.58098559e+00, 1.85083249e-02, 2.77808494e+00,\n",
              "       1.33850675e+00, 1.42063554e+00, 1.55445281e+00, 1.48249420e+00,\n",
              "       1.96691273e-01, 8.05645736e-02, 1.40112470e+00, 3.14356525e-01,\n",
              "       1.41168464e+00, 7.20301869e+00, 2.27923626e+00, 5.95665325e-01,\n",
              "       1.80217136e-02, 4.10025957e+00, 4.05737741e+00, 2.11062934e+00,\n",
              "       7.02414962e-01, 1.01493756e-01, 1.18613815e+00, 2.58214853e-01,\n",
              "       9.30611470e-01, 5.49789169e-01, 3.23583507e+00, 2.30422610e-02,\n",
              "       3.26728949e-01, 1.68162751e-01, 2.19235658e+00, 4.19233951e-02,\n",
              "       3.57782566e-01, 1.13400233e+00, 3.22110903e-01, 6.03053843e-01,\n",
              "       1.29948445e+00, 1.51402446e+00, 1.73717523e+00, 8.96311394e-01,\n",
              "       1.51048948e+00, 4.32392545e-01, 1.72131972e+00, 5.13463493e-01,\n",
              "       8.41541470e-01, 4.01950721e-01, 6.87090598e-01, 2.17848320e-01,\n",
              "       1.01350163e-01, 4.90868803e-01, 1.16426732e+00, 8.06688785e-01,\n",
              "       5.65342753e-01, 7.08568094e-01, 9.38602521e-01, 3.44177074e-01,\n",
              "       1.18796513e+00, 1.55474599e-01, 1.74266162e+00, 3.71771362e-02,\n",
              "       5.48638554e-01, 3.45935034e-01, 4.37763344e-01, 2.72268119e+00,\n",
              "       4.25169247e-01, 3.11224638e-01, 2.04205773e-01, 5.27049189e-02,\n",
              "       1.66931694e-01, 9.65364285e-02, 1.70849841e-02, 1.15027074e-02,\n",
              "       9.68390403e-01, 4.32322717e+00, 1.03864360e+00, 9.09078883e-01,\n",
              "       1.59964980e-01, 4.40451856e+00, 5.79794713e-01, 2.36159802e-01,\n",
              "       1.14317159e+00, 1.04923245e+00, 4.88232161e+00, 3.31582866e-01,\n",
              "       1.43826920e+00, 9.62913040e-02, 1.84882617e-01, 1.05735234e+00,\n",
              "       4.34442099e-01, 3.28505466e-01, 8.92224419e-01, 1.87872724e+00,\n",
              "       2.69960652e-01, 1.01483564e+00, 7.52671678e-01, 2.31069573e-02,\n",
              "       4.89681216e-01, 2.65808592e+00, 1.39224730e-01, 8.79613098e-01,\n",
              "       7.36515172e-01, 6.58319242e-01, 9.57967633e-01, 9.24438871e-02,\n",
              "       4.48953355e-02, 7.82662295e-01, 5.57789134e-01, 5.10826008e-01,\n",
              "       2.20046926e+00, 1.14960834e+00, 2.37161187e+00, 1.37916080e+00,\n",
              "       2.80428977e-01, 7.58674471e-02, 3.02574342e-01, 8.69324100e-01,\n",
              "       1.19388644e+00, 7.09215341e-01, 3.55905346e-01, 1.99636339e+00,\n",
              "       3.78095874e+00, 4.99707625e-01, 4.32391734e-02, 1.28162883e+00,\n",
              "       2.23547972e-01, 6.33544250e-02, 1.77763288e-01, 7.64118932e-01,\n",
              "       1.67245120e-01, 2.54282508e-01, 3.13593988e-01, 4.85161334e-01,\n",
              "       4.46480167e-01, 2.54337541e+00, 1.84985835e+00, 5.76022055e-02,\n",
              "       4.67080590e-02, 2.92824957e-01, 1.69943868e+00, 1.31855762e+00,\n",
              "       9.29701607e-01, 2.55277726e-01, 1.87994974e+00, 1.81738901e+00,\n",
              "       7.10860360e-01, 2.60343465e-01, 1.08952182e+00, 1.41819655e+00,\n",
              "       9.06330105e-01, 1.17387352e+00, 2.39462348e+00, 2.42038388e-01,\n",
              "       1.65078242e+00, 4.34664008e+00, 1.58530180e+00, 9.79495691e-01,\n",
              "       5.37760755e-01, 1.45494478e-02, 1.89669543e-03, 4.12679405e-01,\n",
              "       3.83934362e-01, 3.36208302e+00, 4.90218753e-01, 2.07428577e+00,\n",
              "       1.66527828e-01, 1.44321648e-01, 1.77705573e-02, 4.13555739e-01,\n",
              "       2.07830531e+00, 1.87927340e-01, 1.07298703e+00, 2.00122380e+00,\n",
              "       1.79124427e-01, 2.73168855e-02, 3.93383878e-02, 1.18903112e-01,\n",
              "       5.13467104e-01, 1.05941851e-01, 2.35550460e+00, 1.13729711e+00,\n",
              "       1.16270522e+00, 2.16723675e+00, 5.84007676e-01, 2.40910609e+00,\n",
              "       1.01461244e+00, 1.02509200e+00, 1.59074874e+00, 2.08963836e+00,\n",
              "       5.03035205e-02, 1.93676344e-01, 6.44084298e-01, 8.54358519e-01,\n",
              "       1.28539611e+00, 1.05731822e+00, 1.64151556e-01, 3.97367370e-01,\n",
              "       5.07767558e-01, 8.09001065e-02, 8.57486690e-01, 2.32046972e-02,\n",
              "       5.88822735e-02, 3.86097627e-01, 1.30133953e-01, 1.43587187e-01,\n",
              "       4.30407505e-01, 8.01679679e-01, 8.16745016e-01, 3.41847328e-01,\n",
              "       1.25080710e-01, 3.78984298e-02, 8.56783850e-01, 8.45154328e-01,\n",
              "       5.16129792e-01, 1.83699374e+00, 9.87988187e-01, 7.91307722e-01,\n",
              "       6.55286043e-01, 4.84830947e-01, 7.55950269e-01, 7.38657580e-01,\n",
              "       9.16130700e-01, 1.84313495e+00, 4.40922976e-01, 2.73616833e+00,\n",
              "       8.38431255e-01, 1.13052235e+00, 9.09605529e-01, 3.83329271e-01,\n",
              "       6.46089749e-01, 2.71350086e-02, 4.42957006e-01, 7.31871912e-03,\n",
              "       2.63749523e-01, 5.88804102e-01, 9.45199608e-01, 1.55287266e-01,\n",
              "       1.29142284e-01, 7.59454049e-01, 2.25035332e-01, 2.41996655e-02,\n",
              "       5.47263883e-02, 2.56972823e+00, 1.10332737e+00, 1.55238507e+00,\n",
              "       1.27846446e-01, 5.67852593e-02, 5.66482254e-01, 2.27243834e-01,\n",
              "       1.16935180e+00, 1.84949352e+00, 7.77669500e-02, 1.74660735e+00,\n",
              "       2.73166919e-02, 1.04161049e+00, 5.39791204e-01, 6.96411509e-03,\n",
              "       1.01612094e+00, 9.98434020e-01, 5.33640732e-01, 2.21409106e+00,\n",
              "       1.27452770e+00, 3.23874048e-01, 1.50779823e-01, 1.51960887e+00,\n",
              "       3.09398185e-01, 9.82549446e-02, 1.08757911e+00, 7.83796347e-01,\n",
              "       3.12099883e-01, 2.87424180e-01, 2.00987231e+00, 8.24221353e-01,\n",
              "       1.03960369e+00, 1.48534802e-03, 1.61940207e+00, 9.83654463e-01,\n",
              "       1.39984732e+00, 1.03819972e+00, 3.35349787e-01, 5.05968806e-02,\n",
              "       4.62650051e-01, 1.58814330e-01, 2.59607178e+00, 6.00928683e-01,\n",
              "       1.56886290e+00, 2.55655028e+00, 2.10584525e-01, 5.20100481e-01,\n",
              "       7.71815928e-01, 7.48286881e-01, 1.77858200e+00, 1.24634593e+00,\n",
              "       2.04323156e+00, 1.65709051e+00, 4.39865493e-01, 1.33744557e+00,\n",
              "       5.25573861e-01, 1.00353956e+00, 4.15631628e+00, 6.21182826e-01,\n",
              "       6.40197313e-01, 8.10313223e-01, 9.65908333e-01, 1.36733371e+00,\n",
              "       3.67243769e-01, 3.66009602e-01, 2.77077636e+00, 3.05682013e+00,\n",
              "       2.86074472e+00, 6.92169880e-01, 1.31571922e-01, 1.65767161e+00,\n",
              "       1.82505415e+00, 1.13121390e+00, 2.78084486e-02, 1.96676396e+00,\n",
              "       2.73224279e+00, 2.89197223e-01, 1.93911180e+00, 1.96224486e+00,\n",
              "       1.07078361e-01, 1.75567651e+00, 1.72527253e-01, 8.62096232e-01,\n",
              "       1.86183084e+00, 2.28121740e+00, 3.07358059e-01, 2.30767741e+00,\n",
              "       4.78439256e-01, 1.63362253e+00, 1.11577531e-01, 1.01479337e+00,\n",
              "       7.33479403e-02, 1.79864092e+00, 5.23661322e-01, 8.19115168e-01,\n",
              "       1.00288407e+00, 5.80608032e-01, 6.19852841e-01, 9.44637115e-01,\n",
              "       2.43075152e+00, 2.10580886e+00, 7.12310284e-01, 5.28690987e-02,\n",
              "       3.48066050e+00, 2.92724551e+00, 5.80241473e-01, 1.88432340e-01,\n",
              "       4.62234735e-02, 3.33549048e-01, 1.88327761e+00, 2.92928527e-02,\n",
              "       1.71509969e+00, 1.05409737e+00, 1.37935963e-01, 1.46870822e-02,\n",
              "       4.96158267e-01, 9.01087098e-01, 1.26984489e+00, 1.18378205e+00,\n",
              "       2.59434051e-02, 1.46278044e-01, 1.99579377e-01, 2.66791488e+00,\n",
              "       1.00840238e+00, 2.53738294e+00, 5.00026326e-01, 7.77515890e-03,\n",
              "       2.53626831e+00, 1.47739694e-01, 5.34600108e-01, 8.50170104e-01,\n",
              "       1.31529959e-01, 3.66177870e+00, 6.65568939e-01, 1.08667403e+00,\n",
              "       1.18887600e+00, 2.33353363e+00, 3.57250263e-01, 6.89386002e-02,\n",
              "       9.91868768e-02, 2.21538588e+00, 2.93659646e+00, 4.28318700e-03,\n",
              "       2.81663565e+00, 9.38123856e-01, 1.67698594e-01, 2.24233553e-01,\n",
              "       1.29312726e+00, 1.37515578e-01, 2.87381301e-01, 1.73181309e-01,\n",
              "       1.13856506e+00, 2.21389763e+00, 1.40797837e+00, 1.22254195e-01,\n",
              "       3.63349346e-01, 7.74551076e-01, 3.05269213e-01, 1.20148427e-01,\n",
              "       1.28929925e+00, 8.10720624e-01, 4.21869166e+00, 1.15061393e-01,\n",
              "       1.19795492e-01, 1.33931799e+00, 6.42749252e-01, 9.57516353e-01,\n",
              "       1.96794640e+00, 2.80830985e+00, 1.89092626e-01, 5.84614608e-01,\n",
              "       2.10150898e+00, 7.72544669e-01, 6.17405369e-02, 3.38223530e-02,\n",
              "       1.36925980e+00, 4.46810462e-02, 1.08120038e+00, 7.18845149e-01,\n",
              "       1.28526295e+00, 1.40993765e-01, 1.27426127e-01, 1.43291984e+00,\n",
              "       7.38919988e+00, 1.02720075e-01, 1.18960075e+00, 2.22817365e-01,\n",
              "       8.08311874e-01, 9.07763059e-01, 1.28843278e+00, 8.53472727e-03,\n",
              "       3.60513248e+00, 1.17915560e+00, 5.25503836e-01, 7.04201983e-01,\n",
              "       8.62511591e-02, 1.21130430e-01, 1.20616505e+00, 4.15440190e-01,\n",
              "       5.06952713e-01, 1.50332688e-01, 6.97125857e-01, 6.36585058e-01,\n",
              "       3.15004046e-02, 1.56919856e+00, 1.04760717e-01, 2.88610484e-02,\n",
              "       5.47699689e+00, 1.37734615e+00, 4.78906888e-01, 3.16917356e+00,\n",
              "       1.08047734e+00, 5.15207308e-01, 1.60598887e-01, 1.62143933e+00,\n",
              "       1.49233323e+00, 1.52926718e-02, 5.28559122e-01, 1.62482488e-01,\n",
              "       1.27011499e-01, 5.04967312e-01, 4.26583648e-02, 3.21124720e-02,\n",
              "       2.20906700e-01, 1.12840923e+00, 6.19054595e-01, 1.40561625e+00,\n",
              "       2.57551090e+00, 2.52358550e-01, 2.14570945e+00, 9.62993906e-02,\n",
              "       3.38960879e-01, 1.15408676e+00, 1.19624270e-01, 1.94150012e+00,\n",
              "       9.53617707e-01, 3.13205960e-01, 8.63332782e-02, 2.21372778e-01,\n",
              "       3.17034023e+00, 1.97495134e-01, 1.32335338e+00, 1.25654243e-01,\n",
              "       1.37884935e-01, 2.13004652e-01, 1.83445444e+00, 2.22792566e+00,\n",
              "       2.69380410e-01, 1.47026528e-01, 1.22580810e+00, 5.17424855e-02,\n",
              "       1.02562076e+00, 3.03591153e+00, 1.59075832e+00, 7.31876652e-02,\n",
              "       1.74814436e+00, 4.76428909e-04, 1.66552833e+00, 7.73306010e-01,\n",
              "       5.10124639e-01, 6.31684036e-01, 5.31111643e-01, 3.31971504e-01,\n",
              "       3.54762624e-01, 4.04894215e+00, 1.39796549e+00, 3.50367197e-01,\n",
              "       3.83593753e+00, 4.66275143e-02, 5.43657857e-01, 8.95933835e-01,\n",
              "       1.12603634e+00, 6.45426273e-01, 1.15479489e-02, 3.28894175e-01,\n",
              "       5.52479389e-01, 3.40863403e-01, 1.68423166e-01, 7.52285795e-01,\n",
              "       3.25212144e-01, 9.01483926e-01, 1.35216109e+00, 2.74855084e+00,\n",
              "       1.77598248e-01, 6.23101609e-01, 8.54693835e-01, 1.72803704e+00,\n",
              "       4.19974690e-03, 2.98313303e-01, 4.63873869e-01, 1.99335615e-01,\n",
              "       1.57829897e+00, 6.52510786e-03, 2.32335857e+00, 3.50465387e-01,\n",
              "       1.57058120e+00, 5.35761954e-01, 1.50323027e+00, 7.55406119e-01,\n",
              "       1.18182507e+00, 6.64910141e-01, 3.00047406e-01, 1.24470016e+00,\n",
              "       3.41435356e-01, 1.04005316e+00, 5.38983136e-01, 2.30640022e+00,\n",
              "       2.58136602e-01, 2.29321252e+00, 5.07080775e-01, 2.01281197e+00,\n",
              "       2.29283588e+00, 3.28986989e+00, 1.32198334e+00, 5.21339126e-01,\n",
              "       1.39517402e+00, 4.70512036e-02, 4.15896367e-01, 1.25429746e-01,\n",
              "       2.67793959e-01, 4.08131596e-01, 8.15163327e-01, 2.72965524e+00,\n",
              "       9.57548860e-01, 2.52500464e-01, 2.41256883e+00, 1.60847912e+00,\n",
              "       5.33811651e-01, 1.21905028e-01, 2.63036970e+00, 4.61030955e-01,\n",
              "       1.69424735e+00, 1.44466864e+00, 1.90701268e+00, 2.26357197e+00,\n",
              "       1.49126776e+00, 6.38004862e-02, 5.59657683e-01, 2.84298769e-01,\n",
              "       4.70414623e-01, 2.25486050e+00, 1.31616680e+00, 5.13223835e-01,\n",
              "       7.43913128e-01, 3.63750492e-01, 3.24158688e-01, 3.04046262e-01,\n",
              "       1.23083937e-02, 5.96411207e-02, 1.74300081e+00, 8.85830779e-01,\n",
              "       4.58420321e-02, 3.03925653e-01, 1.83101350e+00, 3.57973685e-01,\n",
              "       3.25117977e-01, 1.82232243e+00, 1.25681199e-01, 7.11706304e-01,\n",
              "       3.11279620e+00, 5.17697180e-01, 2.97417453e+00, 3.94675003e-01,\n",
              "       2.17044408e-02, 3.07703865e+00, 4.46571278e-02, 4.37038556e+00,\n",
              "       4.21118509e-01, 3.24456166e-01, 6.53688829e-01, 1.75733924e-01,\n",
              "       9.66939288e-01, 3.22396706e-01, 1.72524704e+00, 2.89184201e+00,\n",
              "       5.70317966e-01, 3.53584881e+00, 2.64498674e+00, 3.49329813e-01,\n",
              "       6.17120128e+00, 1.20275781e+00, 9.22098115e-01, 2.65844478e-01,\n",
              "       1.24550202e+00, 3.71958634e-01, 1.19310274e+00, 2.22963522e+00,\n",
              "       1.70197367e-01, 5.66252714e-02, 4.03681103e+00, 2.11932358e-01,\n",
              "       1.83664795e+00, 3.66360016e-01, 3.05594582e-01, 3.36345485e+00,\n",
              "       3.09949984e+00, 6.80798884e-01, 1.84107085e+00, 6.75036791e-01,\n",
              "       1.13937589e+00, 5.10412747e-01, 2.06297912e+00, 1.61696371e+00,\n",
              "       2.63483297e-01, 1.63755036e+00, 8.37966688e-01, 3.77872437e-01,\n",
              "       6.29454856e-01, 8.51853017e-01, 3.54060627e-01, 2.03785754e-01,\n",
              "       7.28709399e-02, 9.76332405e-01, 5.10896490e-01, 5.09000564e-01,\n",
              "       3.82849891e+00, 1.40908132e+00, 1.40921310e+00, 1.13655246e+00,\n",
              "       3.03345779e+00, 1.66887384e-02, 1.50525501e+00, 1.20035653e+00,\n",
              "       1.02610374e-01, 3.88901133e+00, 1.77142130e+00, 2.11274141e-01,\n",
              "       6.47352315e-01, 2.42340930e-01, 1.45341868e+00, 1.29564703e+00,\n",
              "       2.76762722e-01, 3.48902620e+00, 2.57332634e-01, 2.72673965e+00,\n",
              "       1.01063719e+00, 7.26132630e-01, 1.22034925e+00, 9.55966727e-02,\n",
              "       6.93554223e-01, 2.75009950e+00, 1.00309252e-01, 2.73970625e+00,\n",
              "       7.94798507e-01, 3.99403248e-01, 2.91392641e-01, 2.00939889e+00,\n",
              "       6.49392901e-01, 3.95503091e-01, 3.87149505e-01, 6.22173870e-02,\n",
              "       1.28865423e+00, 3.09707972e+00, 1.01252314e+00, 2.14618492e+00,\n",
              "       4.60125148e+00, 5.00785183e-01, 5.57107261e-01, 1.75976058e-01,\n",
              "       1.18222037e+00, 2.21178508e+00, 6.37653950e-01, 6.41038516e-02,\n",
              "       4.87477421e-01, 9.33909520e-01, 7.02726995e-01, 1.04136843e-01,\n",
              "       1.92477049e+00, 3.80164841e-01, 5.79039963e-02, 5.89444169e-02,\n",
              "       1.49597212e-01, 1.75248134e+00, 3.68015298e-01, 1.11479724e-01,\n",
              "       6.33761231e-01, 1.36730914e+00, 4.01947925e-01, 2.49394856e+00,\n",
              "       1.29973756e+00, 5.45559009e-01, 1.25787766e+00, 8.34788241e-02,\n",
              "       4.73170361e-01, 8.17283339e-01, 5.31153324e-01, 1.68377525e-01,\n",
              "       6.67081641e-01, 1.44994855e+00, 9.65407688e-01, 1.12629100e-01,\n",
              "       3.73176286e+00, 3.70236852e-01, 8.19710798e-01, 1.22091453e+00,\n",
              "       7.26528072e-01, 1.92278515e-02, 2.13784604e+00, 5.32230038e-01,\n",
              "       8.81147840e-01, 1.45269142e+00, 1.87140730e-01, 6.28173737e-01,\n",
              "       3.17879863e-01, 7.41458105e-01, 1.10206610e+00, 1.79098199e+00,\n",
              "       1.00926247e-01, 1.90744080e+00, 5.58901318e-01, 2.45105176e-01,\n",
              "       3.56315965e-01, 2.60141021e-01, 1.83398977e+00, 1.75760168e-01,\n",
              "       9.96184922e-02, 6.06982442e-01, 2.32968968e+00, 1.34825870e+00,\n",
              "       5.78889458e-01, 6.95127634e-01, 3.62793844e-02, 7.39195399e-02,\n",
              "       1.34030718e+00, 3.55287975e-01, 3.59183063e-02, 1.60435064e+00,\n",
              "       1.16922442e+00, 1.41406032e-01, 1.59873540e+00, 1.55217936e+00,\n",
              "       5.84911745e-01, 5.79750916e-01, 5.71485894e-01, 8.36968401e-01,\n",
              "       1.77717760e+00, 1.30967092e+00, 2.53335270e-01, 7.81399731e-01,\n",
              "       6.41892266e-01, 2.04791943e+00, 3.93178849e-01, 6.15710042e-01,\n",
              "       5.36511895e-02, 7.10229295e-01, 2.48877703e-01, 8.67221586e-02,\n",
              "       2.49509302e-01, 2.03182232e+00, 5.38854208e-01, 5.00455227e-01,\n",
              "       2.46001719e-01, 2.04286424e+00, 3.48082682e-01, 1.73887403e+00,\n",
              "       1.05582158e-01, 1.66927093e+00, 6.19308711e-01, 1.42625367e+00,\n",
              "       2.07475403e-01, 5.69366723e-02, 1.37310916e+00, 2.53348388e+00,\n",
              "       2.73671243e+00, 4.23028099e-01, 8.00457121e-01, 5.56115737e-02,\n",
              "       3.86379484e-03, 5.10873842e-01, 2.46631040e-01, 4.93714558e-01,\n",
              "       8.04919638e-01, 2.21663826e+00, 3.22547306e-01, 2.99306975e-01,\n",
              "       4.40889583e+00, 4.28104925e+00, 6.26294764e-01, 4.82461760e-02,\n",
              "       4.29426621e-02, 3.77268130e-01, 1.27027296e+00, 1.95083913e+00,\n",
              "       5.32267521e-01, 4.69910504e-01, 9.16951479e-02, 3.51789934e-01,\n",
              "       3.50104908e+00, 1.54508113e-01, 1.84178178e-01, 2.24795742e+00,\n",
              "       1.27085293e+00, 4.33969204e-01, 9.18216424e-01, 1.68261763e-01,\n",
              "       1.87440542e+00, 2.19605846e-01, 4.75297215e-01, 8.64303304e-01,\n",
              "       4.34965573e-01, 2.53743282e-01, 1.34175982e-01, 6.72027675e-01,\n",
              "       1.50150078e-01, 4.43448070e-01, 1.30932624e-01, 1.72562259e+00,\n",
              "       9.42478471e-01, 3.87587575e-01, 3.17372452e-02, 1.89644286e-01,\n",
              "       7.04670612e-01, 9.68614613e-03, 1.61090751e+00, 9.39337607e-01,\n",
              "       2.91683479e-02, 4.09701329e-01, 1.30757579e+00, 3.49832264e+00,\n",
              "       3.54763782e+00, 7.79185605e-01, 4.37622487e-01, 2.85813798e-01,\n",
              "       1.82691874e-01, 1.96613331e+00, 1.04388236e+00, 2.78991662e+00,\n",
              "       5.63461278e-01, 4.93562715e-01, 1.43279600e+00, 6.27079252e-01,\n",
              "       3.86998549e-01, 7.56043270e-02, 1.42279724e+00, 1.07667327e+00,\n",
              "       4.17273606e-01, 8.87137584e-01, 3.84705213e-01, 1.43305454e-01,\n",
              "       1.07670271e+00, 2.53736570e+00, 4.27730300e-01, 8.37018525e-01,\n",
              "       1.73490566e+00, 1.27346547e+00, 8.47189080e-01, 2.84118298e-01,\n",
              "       4.02534965e-01, 1.17730635e+00, 4.55946749e-01, 4.84433580e-01,\n",
              "       2.34800367e-04, 6.95272870e-02, 1.13965792e-01, 2.04714647e+00,\n",
              "       9.29794676e-03, 1.60738429e+00, 1.38685280e-01, 3.77814639e+00,\n",
              "       4.06206876e+00, 1.02029600e-01, 1.33464324e+00, 4.43204498e-01,\n",
              "       3.77568643e+00, 6.47795986e+00, 7.90144459e-01, 9.47450829e-02,\n",
              "       3.74632682e+00, 8.25561062e-01, 7.11627681e-01, 1.10337350e+00,\n",
              "       8.86758204e-03, 5.36213359e-01, 2.77941853e-02, 2.43743552e+00,\n",
              "       1.26603183e+00, 1.12902151e-01, 8.28694521e-01, 8.30358581e-01,\n",
              "       5.58515246e-01, 1.57416339e+00, 3.21915971e+00, 1.49414250e+00,\n",
              "       8.61765944e-01, 2.83961973e+00, 1.84226105e-01, 1.63494223e+00,\n",
              "       1.08085914e+00, 3.86779372e-01, 3.02193261e-01, 3.32519736e-01,\n",
              "       1.59075518e+00, 3.84993557e-02, 1.37963752e+00, 7.81023940e-01,\n",
              "       4.53652974e-01, 1.61650732e-01, 6.42363430e-02, 1.45374210e+00,\n",
              "       1.90559829e+00, 5.96213160e-02, 2.81991983e+00, 3.38635573e-01,\n",
              "       6.77035903e-01, 1.58828029e+00, 6.67898376e-01, 3.52278766e-02,\n",
              "       1.56949350e+00, 7.42817845e-01, 3.70679152e-01, 1.63387253e+00,\n",
              "       1.92948393e+00, 4.24642067e-01, 5.91565527e-01, 1.47281363e+00,\n",
              "       4.45533131e+00, 3.70355382e-01, 3.05105258e-02, 1.42936030e+00,\n",
              "       1.88305550e+00, 2.82111297e-01, 3.35243758e-01, 5.51051548e-01,\n",
              "       9.21850066e-01, 1.03255313e+00, 2.19490564e+00, 4.86572493e+00,\n",
              "       2.16107921e+00, 3.78952437e-03, 1.15328346e-01, 3.33359135e+00,\n",
              "       1.72079133e-01, 6.02683582e-01, 1.16653630e+00, 3.21736614e-01,\n",
              "       2.21927339e-02, 5.40616687e-01, 3.99167800e-01, 3.29252100e-01,\n",
              "       1.48803125e+00, 2.02141238e-01, 1.00505841e+00, 4.41804041e+00,\n",
              "       7.25263093e-02, 7.27290841e-01, 1.97835318e-01, 1.60145836e+00,\n",
              "       2.03027190e+00, 1.08376293e+00, 1.40103273e-01, 8.72254224e-01,\n",
              "       2.96838813e-01, 5.10916714e-01, 3.32829210e+00, 4.50310674e-02])"
            ]
          },
          "metadata": {},
          "execution_count": 50
        }
      ]
    },
    {
      "cell_type": "code",
      "source": [
        "sns.distplot(dados_exponencial)"
      ],
      "metadata": {
        "colab": {
          "base_uri": "https://localhost:8080/",
          "height": 638
        },
        "id": "m6cf_sKo3kwy",
        "outputId": "c89e458e-2f7e-44c2-b75f-3b92abd677a3"
      },
      "execution_count": 51,
      "outputs": [
        {
          "output_type": "stream",
          "name": "stderr",
          "text": [
            "<ipython-input-51-0c624aad00f7>:1: UserWarning: \n",
            "\n",
            "`distplot` is a deprecated function and will be removed in seaborn v0.14.0.\n",
            "\n",
            "Please adapt your code to use either `displot` (a figure-level function with\n",
            "similar flexibility) or `histplot` (an axes-level function for histograms).\n",
            "\n",
            "For a guide to updating your code to use the new functions, please see\n",
            "https://gist.github.com/mwaskom/de44147ed2974457ad6372750bbe5751\n",
            "\n",
            "  sns.distplot(dados_exponencial)\n"
          ]
        },
        {
          "output_type": "execute_result",
          "data": {
            "text/plain": [
              "<Axes: ylabel='Density'>"
            ]
          },
          "metadata": {},
          "execution_count": 51
        },
        {
          "output_type": "display_data",
          "data": {
            "text/plain": [
              "<Figure size 640x480 with 1 Axes>"
            ],
            "image/png": "[encoded data removed]"
          },
          "metadata": {}
        }
      ]
    },
    {
      "cell_type": "code",
      "source": [
        "min(dados_exponencial), max(dados_exponencial)"
      ],
      "metadata": {
        "colab": {
          "base_uri": "https://localhost:8080/"
        },
        "id": "BTPu2UZr3nu8",
        "outputId": "b1af7216-10da-42ee-b1b0-65ce80bcf510"
      },
      "execution_count": 52,
      "outputs": [
        {
          "output_type": "execute_result",
          "data": {
            "text/plain": [
              "(0.00023480036735906598, 7.3891998787576805)"
            ]
          },
          "metadata": {},
          "execution_count": 52
        }
      ]
    },
    {
      "cell_type": "markdown",
      "source": [
        "##Aula 8 - Distribuição Uniforme"
      ],
      "metadata": {
        "id": "egF23xHK3zws"
      }
    },
    {
      "cell_type": "code",
      "source": [
        "from scipy.stats import uniform"
      ],
      "metadata": {
        "id": "mD2CoNe13zG8"
      },
      "execution_count": 53,
      "outputs": []
    },
    {
      "cell_type": "code",
      "source": [
        "dados_uniform = uniform.rvs(size = 1000)\n",
        "sns.distplot(dados_uniform)"
      ],
      "metadata": {
        "colab": {
          "base_uri": "https://localhost:8080/",
          "height": 638
        },
        "id": "D96rICDs4Kmk",
        "outputId": "14281072-7cdc-47d6-b5e3-b536110ef270"
      },
      "execution_count": 54,
      "outputs": [
        {
          "output_type": "stream",
          "name": "stderr",
          "text": [
            "<ipython-input-54-bb159dcdc45b>:2: UserWarning: \n",
            "\n",
            "`distplot` is a deprecated function and will be removed in seaborn v0.14.0.\n",
            "\n",
            "Please adapt your code to use either `displot` (a figure-level function with\n",
            "similar flexibility) or `histplot` (an axes-level function for histograms).\n",
            "\n",
            "For a guide to updating your code to use the new functions, please see\n",
            "https://gist.github.com/mwaskom/de44147ed2974457ad6372750bbe5751\n",
            "\n",
            "  sns.distplot(dados_uniform)\n"
          ]
        },
        {
          "output_type": "execute_result",
          "data": {
            "text/plain": [
              "<Axes: ylabel='Density'>"
            ]
          },
          "metadata": {},
          "execution_count": 54
        },
        {
          "output_type": "display_data",
          "data": {
            "text/plain": [
              "<Figure size 640x480 with 1 Axes>"
            ],
            "image/png": "[encoded data removed]"
          },
          "metadata": {}
        }
      ]
    },
    {
      "cell_type": "code",
      "source": [
        "min(dados_uniform), max(dados_uniform)"
      ],
      "metadata": {
        "colab": {
          "base_uri": "https://localhost:8080/"
        },
        "id": "ej-bq03-4RRD",
        "outputId": "f1b51ef2-76b1-4d9e-81ff-3a2517df0af7"
      },
      "execution_count": 55,
      "outputs": [
        {
          "output_type": "execute_result",
          "data": {
            "text/plain": [
              "(0.0011228391212385613, 0.9969938042661926)"
            ]
          },
          "metadata": {},
          "execution_count": 55
        }
      ]
    },
    {
      "cell_type": "code",
      "source": [
        "np.unique(dados_uniform)"
      ],
      "metadata": {
        "colab": {
          "base_uri": "https://localhost:8080/"
        },
        "id": "8Yyb-fr-4cMN",
        "outputId": "24906a01-4b3e-418c-bd37-058564b7b972"
      },
      "execution_count": 56,
      "outputs": [
        {
          "output_type": "execute_result",
          "data": {
            "text/plain": [
              "array([0.00112284, 0.00134056, 0.00162437, 0.00229165, 0.00295246,\n",
              "       0.00305693, 0.00321517, 0.00489969, 0.00528823, 0.00560612,\n",
              "       0.00607935, 0.00610173, 0.00704736, 0.00734508, 0.00798352,\n",
              "       0.00905397, 0.00906582, 0.01006536, 0.01037556, 0.01204404,\n",
              "       0.01205885, 0.01317643, 0.0134537 , 0.0144067 , 0.01501526,\n",
              "       0.01710578, 0.01889741, 0.01931615, 0.02095735, 0.0213833 ,\n",
              "       0.02207122, 0.02694786, 0.02767237, 0.02826539, 0.03069001,\n",
              "       0.03116548, 0.03475513, 0.03545933, 0.03678279, 0.03719092,\n",
              "       0.03742751, 0.03759355, 0.03971949, 0.0400868 , 0.0407971 ,\n",
              "       0.04436741, 0.04777905, 0.04885801, 0.05102001, 0.05234349,\n",
              "       0.05432159, 0.05867389, 0.05869596, 0.05941773, 0.06278286,\n",
              "       0.06295207, 0.0630185 , 0.06422279, 0.06460898, 0.0649571 ,\n",
              "       0.0664947 , 0.0677448 , 0.0697772 , 0.07165952, 0.07642248,\n",
              "       0.07867487, 0.08043924, 0.08121003, 0.08160203, 0.0819274 ,\n",
              "       0.08204347, 0.08216578, 0.08274619, 0.084612  , 0.08532579,\n",
              "       0.08658495, 0.08666105, 0.08794661, 0.08841556, 0.09185627,\n",
              "       0.09247195, 0.09568361, 0.09589368, 0.09677038, 0.09762026,\n",
              "       0.09961792, 0.10132095, 0.10208303, 0.10235027, 0.10246038,\n",
              "       0.1025259 , 0.10255631, 0.10364431, 0.10566331, 0.1064976 ,\n",
              "       0.10854887, 0.10918696, 0.11153582, 0.11234222, 0.11324624,\n",
              "       0.11336514, 0.11369115, 0.11374935, 0.11400687, 0.11430215,\n",
              "       0.11452444, 0.11533902, 0.11669092, 0.11879799, 0.12034092,\n",
              "       0.12234589, 0.12364926, 0.12486694, 0.12494991, 0.12604924,\n",
              "       0.12650558, 0.12771249, 0.12864431, 0.12883253, 0.12903366,\n",
              "       0.12920592, 0.13353222, 0.13426927, 0.13495556, 0.1374342 ,\n",
              "       0.13754026, 0.13918424, 0.14260881, 0.1453    , 0.14565624,\n",
              "       0.14577356, 0.14598758, 0.14760057, 0.14954271, 0.1506192 ,\n",
              "       0.15190267, 0.15352601, 0.15465036, 0.15546528, 0.1570888 ,\n",
              "       0.15745033, 0.15830076, 0.16121418, 0.16409093, 0.16805985,\n",
              "       0.17047374, 0.17136093, 0.17216786, 0.17306016, 0.17360478,\n",
              "       0.17413741, 0.17555502, 0.17600971, 0.17639109, 0.17719607,\n",
              "       0.17900247, 0.1795982 , 0.18059568, 0.18065944, 0.18156933,\n",
              "       0.18274163, 0.18292709, 0.18409889, 0.18443234, 0.18465388,\n",
              "       0.1885446 , 0.1891923 , 0.18954911, 0.19111711, 0.19390811,\n",
              "       0.19414184, 0.19611589, 0.19642449, 0.19727379, 0.1979903 ,\n",
              "       0.19804372, 0.1981479 , 0.19956447, 0.19970312, 0.19998934,\n",
              "       0.20115387, 0.20133445, 0.2022019 , 0.20426803, 0.20461562,\n",
              "       0.20497561, 0.20508238, 0.20879959, 0.20927408, 0.20928141,\n",
              "       0.20977031, 0.21101253, 0.21105141, 0.21222741, 0.21270482,\n",
              "       0.21273185, 0.21462135, 0.21490738, 0.21583139, 0.21701263,\n",
              "       0.21816227, 0.22042928, 0.22057108, 0.22218897, 0.22229574,\n",
              "       0.22563903, 0.22661642, 0.22939423, 0.23053605, 0.23122898,\n",
              "       0.23137368, 0.23176899, 0.23217709, 0.23286977, 0.23307223,\n",
              "       0.23412546, 0.23468685, 0.23563453, 0.23671532, 0.23854446,\n",
              "       0.23933699, 0.24000401, 0.24018077, 0.24027758, 0.24050264,\n",
              "       0.24375841, 0.24431152, 0.24498202, 0.24519579, 0.24930019,\n",
              "       0.2494255 , 0.2494769 , 0.25061797, 0.25138763, 0.2515183 ,\n",
              "       0.2521866 , 0.25321285, 0.25343992, 0.25347548, 0.2541032 ,\n",
              "       0.25423911, 0.25465886, 0.25492324, 0.25728917, 0.25849742,\n",
              "       0.25856391, 0.25865394, 0.25902487, 0.26043543, 0.26047341,\n",
              "       0.26395275, 0.26429976, 0.26667943, 0.26671758, 0.26785281,\n",
              "       0.26845743, 0.27048676, 0.27247821, 0.27250626, 0.27336051,\n",
              "       0.27540141, 0.27634932, 0.27726539, 0.2781449 , 0.27900099,\n",
              "       0.28239388, 0.28465751, 0.28742089, 0.28813432, 0.28865565,\n",
              "       0.28916366, 0.28982117, 0.29212505, 0.29310471, 0.2937715 ,\n",
              "       0.29446233, 0.29492007, 0.2950761 , 0.29546152, 0.29552338,\n",
              "       0.29700467, 0.29726438, 0.3003687 , 0.30116453, 0.30127853,\n",
              "       0.30273915, 0.30314732, 0.30466615, 0.30472879, 0.30522799,\n",
              "       0.30532669, 0.30661574, 0.3072281 , 0.30738217, 0.30798098,\n",
              "       0.30948295, 0.31012218, 0.31308034, 0.31624083, 0.3181423 ,\n",
              "       0.31838201, 0.32085209, 0.32087423, 0.32119831, 0.32160881,\n",
              "       0.3218149 , 0.32267942, 0.32276974, 0.32586517, 0.32681706,\n",
              "       0.32756645, 0.33032288, 0.33135702, 0.33315023, 0.33374905,\n",
              "       0.33400227, 0.3346841 , 0.33609292, 0.33677215, 0.33685172,\n",
              "       0.33697781, 0.336991  , 0.33785538, 0.33822497, 0.33865682,\n",
              "       0.33890492, 0.34125088, 0.34356929, 0.3446117 , 0.34470615,\n",
              "       0.34652081, 0.34701686, 0.34709126, 0.34740618, 0.34935453,\n",
              "       0.35017343, 0.35045094, 0.35202678, 0.35242116, 0.35265379,\n",
              "       0.35554486, 0.35599496, 0.35628504, 0.35691854, 0.35798369,\n",
              "       0.3584394 , 0.35893347, 0.359282  , 0.35983073, 0.36120126,\n",
              "       0.36261341, 0.36376919, 0.36529991, 0.36587327, 0.36648572,\n",
              "       0.36703403, 0.36800565, 0.36841534, 0.37039246, 0.37111646,\n",
              "       0.37151762, 0.37343647, 0.37358006, 0.37403672, 0.37412012,\n",
              "       0.37564511, 0.37587831, 0.37615411, 0.37674215, 0.37841737,\n",
              "       0.37870264, 0.38044287, 0.38064245, 0.38134497, 0.3819136 ,\n",
              "       0.38228751, 0.38265011, 0.38548612, 0.38744174, 0.38761793,\n",
              "       0.38884463, 0.39100979, 0.39224945, 0.39406131, 0.39413382,\n",
              "       0.39469559, 0.39560145, 0.39572365, 0.39738322, 0.3974603 ,\n",
              "       0.3978148 , 0.39890617, 0.39922503, 0.40026964, 0.4002956 ,\n",
              "       0.40121108, 0.40158659, 0.40164597, 0.40726679, 0.40823835,\n",
              "       0.4088373 , 0.40972815, 0.41017708, 0.41073764, 0.41127539,\n",
              "       0.41157886, 0.41333327, 0.41346641, 0.41492095, 0.41498356,\n",
              "       0.41547059, 0.41551953, 0.41602947, 0.4162049 , 0.41670597,\n",
              "       0.41743059, 0.41891824, 0.42185862, 0.42208376, 0.42413589,\n",
              "       0.42637301, 0.42653719, 0.42698003, 0.42738662, 0.42995427,\n",
              "       0.43197747, 0.43294802, 0.43361687, 0.43390279, 0.434519  ,\n",
              "       0.43607456, 0.43951465, 0.44009994, 0.44083193, 0.44086111,\n",
              "       0.44148002, 0.44197568, 0.44279726, 0.44337867, 0.44378482,\n",
              "       0.44428395, 0.44428668, 0.44472644, 0.44483465, 0.44488431,\n",
              "       0.44518068, 0.44586447, 0.4477565 , 0.44867822, 0.44996704,\n",
              "       0.45066276, 0.45668042, 0.45669618, 0.45730021, 0.45841403,\n",
              "       0.46156494, 0.4624449 , 0.46274655, 0.46401842, 0.46461417,\n",
              "       0.46508232, 0.46570767, 0.46617127, 0.47213716, 0.47299681,\n",
              "       0.47334793, 0.47353008, 0.47451   , 0.47669232, 0.4774936 ,\n",
              "       0.47790988, 0.47915236, 0.47975537, 0.48328035, 0.48367471,\n",
              "       0.48423392, 0.48434649, 0.48555199, 0.48617911, 0.48716853,\n",
              "       0.48729547, 0.48866684, 0.48953816, 0.49063451, 0.49323827,\n",
              "       0.49447386, 0.49493428, 0.49534425, 0.49546204, 0.49667191,\n",
              "       0.49707534, 0.49710555, 0.49817712, 0.5002051 , 0.50334432,\n",
              "       0.50336026, 0.50350272, 0.50366192, 0.50572487, 0.50661879,\n",
              "       0.50832822, 0.51069652, 0.51090836, 0.51209137, 0.51232587,\n",
              "       0.51370337, 0.51501517, 0.51507466, 0.51591893, 0.51779943,\n",
              "       0.52017952, 0.5208153 , 0.52131998, 0.52500095, 0.52696095,\n",
              "       0.52726473, 0.52955495, 0.53112725, 0.53172201, 0.53238181,\n",
              "       0.53263917, 0.53275868, 0.53282223, 0.53385711, 0.53398761,\n",
              "       0.53469448, 0.53524639, 0.53539973, 0.53546097, 0.53755744,\n",
              "       0.53915378, 0.53924555, 0.54003016, 0.54019055, 0.54020922,\n",
              "       0.54075381, 0.54228277, 0.54453573, 0.54483403, 0.544928  ,\n",
              "       0.54598479, 0.5461137 , 0.54631255, 0.54712255, 0.54768449,\n",
              "       0.55051364, 0.55247551, 0.55318554, 0.55353726, 0.55528237,\n",
              "       0.55530959, 0.55867439, 0.55980027, 0.56112156, 0.56206336,\n",
              "       0.56296756, 0.56316327, 0.56530178, 0.56568424, 0.56838673,\n",
              "       0.5698178 , 0.57000684, 0.5707368 , 0.57113555, 0.57218513,\n",
              "       0.57221234, 0.57244041, 0.5743577 , 0.57524321, 0.57698525,\n",
              "       0.57922548, 0.58124351, 0.58177474, 0.58267309, 0.58444885,\n",
              "       0.58549211, 0.58576384, 0.58767101, 0.58902139, 0.58938099,\n",
              "       0.59008524, 0.59069039, 0.59091193, 0.59156385, 0.5946114 ,\n",
              "       0.59469668, 0.59495294, 0.5952682 , 0.59701629, 0.59943895,\n",
              "       0.59989284, 0.60150432, 0.6016478 , 0.60378937, 0.60380089,\n",
              "       0.60733385, 0.60920275, 0.6093592 , 0.60972037, 0.60999076,\n",
              "       0.61191574, 0.61339889, 0.61414898, 0.61511203, 0.61570555,\n",
              "       0.61710422, 0.61796313, 0.61860293, 0.61885144, 0.6195904 ,\n",
              "       0.61976831, 0.62169079, 0.62208023, 0.62265361, 0.62413559,\n",
              "       0.62468128, 0.62588828, 0.62692624, 0.627087  , 0.62807877,\n",
              "       0.6305969 , 0.63284182, 0.63288106, 0.63352475, 0.63420499,\n",
              "       0.63534342, 0.63584233, 0.63734514, 0.64012237, 0.64162625,\n",
              "       0.64184472, 0.64186181, 0.64237684, 0.64262164, 0.6445728 ,\n",
              "       0.64522601, 0.64524311, 0.64656605, 0.64667841, 0.64696926,\n",
              "       0.65087012, 0.65088097, 0.65132204, 0.65461625, 0.6552137 ,\n",
              "       0.65542519, 0.65572565, 0.6558062 , 0.65699185, 0.65726144,\n",
              "       0.65854469, 0.65886016, 0.6592285 , 0.65993037, 0.66007284,\n",
              "       0.661074  , 0.66437705, 0.66463319, 0.66498405, 0.66651687,\n",
              "       0.66771523, 0.668293  , 0.66854436, 0.66905652, 0.66936552,\n",
              "       0.66947633, 0.67093064, 0.67188354, 0.67221661, 0.67444924,\n",
              "       0.67474771, 0.67613823, 0.6762546 , 0.67657208, 0.67722438,\n",
              "       0.67741463, 0.67786505, 0.6788336 , 0.67914372, 0.67952152,\n",
              "       0.6801133 , 0.68090661, 0.68238649, 0.68344212, 0.68436588,\n",
              "       0.68445109, 0.68476222, 0.68536082, 0.68613749, 0.68648431,\n",
              "       0.68670008, 0.68865965, 0.68960874, 0.68974009, 0.69035253,\n",
              "       0.69038994, 0.6914181 , 0.69294873, 0.69319708, 0.69422968,\n",
              "       0.69532   , 0.69544197, 0.69633619, 0.69656346, 0.69699713,\n",
              "       0.69752694, 0.69801869, 0.69879444, 0.69960624, 0.70203824,\n",
              "       0.70233741, 0.70275093, 0.70344173, 0.70348887, 0.70349948,\n",
              "       0.70502861, 0.70596571, 0.70700185, 0.70703024, 0.70708234,\n",
              "       0.70794946, 0.70961575, 0.7103648 , 0.71153833, 0.71174851,\n",
              "       0.71279577, 0.71857182, 0.71944098, 0.71974338, 0.72028694,\n",
              "       0.72035633, 0.72154879, 0.72202804, 0.72643876, 0.72736211,\n",
              "       0.72760777, 0.72851944, 0.72863592, 0.72914172, 0.73062217,\n",
              "       0.73170928, 0.73335468, 0.73431131, 0.7349217 , 0.73589357,\n",
              "       0.73712376, 0.73906233, 0.73916503, 0.73927199, 0.73964132,\n",
              "       0.74058723, 0.74108677, 0.74393418, 0.74558877, 0.74732938,\n",
              "       0.74796514, 0.74817407, 0.74822913, 0.74964727, 0.75065638,\n",
              "       0.75223776, 0.75268518, 0.75424275, 0.75472554, 0.75535856,\n",
              "       0.75671715, 0.75906904, 0.75924121, 0.76022655, 0.76542927,\n",
              "       0.7661999 , 0.76653833, 0.76776637, 0.76791905, 0.76844597,\n",
              "       0.76908248, 0.76998263, 0.77070592, 0.77241216, 0.77245141,\n",
              "       0.77262372, 0.77287394, 0.77293792, 0.77352805, 0.77452543,\n",
              "       0.7747157 , 0.77864787, 0.77870899, 0.77902948, 0.78138039,\n",
              "       0.78223445, 0.78274325, 0.78298303, 0.78312775, 0.78314952,\n",
              "       0.78371942, 0.78489609, 0.78500026, 0.78501207, 0.78550885,\n",
              "       0.78591501, 0.78679149, 0.78694381, 0.78922673, 0.78997527,\n",
              "       0.79236353, 0.79243399, 0.79284256, 0.79497878, 0.7957832 ,\n",
              "       0.79601594, 0.79628881, 0.79684214, 0.7997515 , 0.80131413,\n",
              "       0.80140418, 0.80369707, 0.80534672, 0.80722772, 0.80726038,\n",
              "       0.80764276, 0.81096002, 0.81108117, 0.81270156, 0.8135985 ,\n",
              "       0.81451853, 0.81499834, 0.81615421, 0.81627606, 0.81965802,\n",
              "       0.81990891, 0.82206558, 0.82341374, 0.82428476, 0.82625156,\n",
              "       0.82654928, 0.82693325, 0.82710541, 0.82853027, 0.82903648,\n",
              "       0.82981356, 0.83042849, 0.83182257, 0.83186672, 0.8320938 ,\n",
              "       0.83282284, 0.83534127, 0.83582633, 0.83760521, 0.83823703,\n",
              "       0.83920023, 0.83935456, 0.83936967, 0.84008613, 0.84391795,\n",
              "       0.84513519, 0.84577801, 0.84632114, 0.84689946, 0.84732009,\n",
              "       0.84816553, 0.84919323, 0.84940548, 0.85001089, 0.85086528,\n",
              "       0.85251021, 0.85288537, 0.8547526 , 0.85580443, 0.85697296,\n",
              "       0.85802602, 0.86185992, 0.86239054, 0.86273019, 0.86328558,\n",
              "       0.86518178, 0.86519494, 0.865999  , 0.8685453 , 0.86871223,\n",
              "       0.87001286, 0.87011194, 0.87133916, 0.87458796, 0.8753885 ,\n",
              "       0.87569861, 0.87651344, 0.87725642, 0.87895969, 0.87973325,\n",
              "       0.88099756, 0.88126025, 0.88150092, 0.88176378, 0.88341646,\n",
              "       0.8843316 , 0.88443168, 0.88485811, 0.88721091, 0.88779593,\n",
              "       0.8888058 , 0.88915388, 0.89199782, 0.89260486, 0.89361085,\n",
              "       0.89413767, 0.8946362 , 0.89520996, 0.89822712, 0.89906177,\n",
              "       0.90156174, 0.90406045, 0.90414275, 0.9043861 , 0.90474054,\n",
              "       0.90575473, 0.90843397, 0.91393186, 0.91575525, 0.9161995 ,\n",
              "       0.91622493, 0.91829409, 0.91836735, 0.91941239, 0.9210792 ,\n",
              "       0.92234344, 0.92328288, 0.92352087, 0.92422602, 0.92603882,\n",
              "       0.9261129 , 0.92925602, 0.93083544, 0.93096723, 0.93171351,\n",
              "       0.93331134, 0.93363902, 0.93383373, 0.93403665, 0.93415884,\n",
              "       0.93449464, 0.93595256, 0.93757696, 0.93759241, 0.93866736,\n",
              "       0.93884364, 0.94061733, 0.94068894, 0.94119095, 0.94366138,\n",
              "       0.94580172, 0.94946301, 0.95071204, 0.95172754, 0.95173862,\n",
              "       0.95209403, 0.95257857, 0.95463123, 0.9555669 , 0.95664825,\n",
              "       0.96002423, 0.96040643, 0.96113397, 0.96172987, 0.9632406 ,\n",
              "       0.96374851, 0.96427441, 0.96557376, 0.9660331 , 0.96627496,\n",
              "       0.9663072 , 0.97049555, 0.97133807, 0.97133956, 0.9714004 ,\n",
              "       0.97153123, 0.97168183, 0.97190114, 0.97233518, 0.97339017,\n",
              "       0.97458954, 0.97557772, 0.97643997, 0.97897658, 0.97966308,\n",
              "       0.98021805, 0.98184751, 0.98190982, 0.98277243, 0.98548334,\n",
              "       0.9858469 , 0.98872039, 0.98904016, 0.98923699, 0.99033866,\n",
              "       0.99260016, 0.99593299, 0.99606437, 0.996906  , 0.9969938 ])"
            ]
          },
          "metadata": {},
          "execution_count": 56
        }
      ]
    },
    {
      "cell_type": "markdown",
      "source": [
        "###Utilizando uma base com exemplos reais"
      ],
      "metadata": {
        "id": "p_ReEZme5EHa"
      }
    },
    {
      "cell_type": "code",
      "source": [
        "from google.colab import drive\n",
        "drive.mount('/content/drive')"
      ],
      "metadata": {
        "colab": {
          "base_uri": "https://localhost:8080/"
        },
        "id": "DtcobqYR4prj",
        "outputId": "ae7321b5-5835-434e-c1f2-1bf4bb5e1746"
      },
      "execution_count": 57,
      "outputs": [
        {
          "output_type": "stream",
          "name": "stdout",
          "text": [
            "Mounted at /content/drive\n"
          ]
        }
      ]
    },
    {
      "cell_type": "code",
      "source": [
        "path = '/content/drive/MyDrive/EstatisticaUdemy/Arquivos/BasesDeDados/credit_data.csv'\n",
        "\n",
        "dataset = pd.read_csv(path)\n",
        "dataset.head()"
      ],
      "metadata": {
        "colab": {
          "base_uri": "https://localhost:8080/",
          "height": 206
        },
        "id": "rITX0Zrp5N-M",
        "outputId": "7a8a7e69-6f36-475c-d47c-3e0aa8c0a92f"
      },
      "execution_count": 58,
      "outputs": [
        {
          "output_type": "execute_result",
          "data": {
            "text/plain": [
              "   i#clientid        income        age         loan  c#default\n",
              "0           1  66155.925095  59.017015  8106.532131          0\n",
              "1           2  34415.153966  48.117153  6564.745018          0\n",
              "2           3  57317.170063  63.108049  8020.953296          0\n",
              "3           4  42709.534201  45.751972  6103.642260          0\n",
              "4           5  66952.688845  18.584336  8770.099235          1"
            ],
            "text/html": [
              "\n",
              "  <div id=\"df-8c52b8ca-61ad-45dc-ab23-4d31879433f2\" class=\"colab-df-container\">\n",
              "    <div>\n",
              "<style scoped>\n",
              "    .dataframe tbody tr th:only-of-type {\n",
              "        vertical-align: middle;\n",
              "    }\n",
              "\n",
              "    .dataframe tbody tr th {\n",
              "        vertical-align: top;\n",
              "    }\n",
              "\n",
              "    .dataframe thead th {\n",
              "        text-align: right;\n",
              "    }\n",
              "</style>\n",
              "<table border=\"1\" class=\"dataframe\">\n",
              "  <thead>\n",
              "    <tr style=\"text-align: right;\">\n",
              "      <th></th>\n",
              "      <th>i#clientid</th>\n",
              "      <th>income</th>\n",
              "      <th>age</th>\n",
              "      <th>loan</th>\n",
              "      <th>c#default</th>\n",
              "    </tr>\n",
              "  </thead>\n",
              "  <tbody>\n",
              "    <tr>\n",
              "      <th>0</th>\n",
              "      <td>1</td>\n",
              "      <td>66155.925095</td>\n",
              "      <td>59.017015</td>\n",
              "      <td>8106.532131</td>\n",
              "      <td>0</td>\n",
              "    </tr>\n",
              "    <tr>\n",
              "      <th>1</th>\n",
              "      <td>2</td>\n",
              "      <td>34415.153966</td>\n",
              "      <td>48.117153</td>\n",
              "      <td>6564.745018</td>\n",
              "      <td>0</td>\n",
              "    </tr>\n",
              "    <tr>\n",
              "      <th>2</th>\n",
              "      <td>3</td>\n",
              "      <td>57317.170063</td>\n",
              "      <td>63.108049</td>\n",
              "      <td>8020.953296</td>\n",
              "      <td>0</td>\n",
              "    </tr>\n",
              "    <tr>\n",
              "      <th>3</th>\n",
              "      <td>4</td>\n",
              "      <td>42709.534201</td>\n",
              "      <td>45.751972</td>\n",
              "      <td>6103.642260</td>\n",
              "      <td>0</td>\n",
              "    </tr>\n",
              "    <tr>\n",
              "      <th>4</th>\n",
              "      <td>5</td>\n",
              "      <td>66952.688845</td>\n",
              "      <td>18.584336</td>\n",
              "      <td>8770.099235</td>\n",
              "      <td>1</td>\n",
              "    </tr>\n",
              "  </tbody>\n",
              "</table>\n",
              "</div>\n",
              "    <div class=\"colab-df-buttons\">\n",
              "\n",
              "  <div class=\"colab-df-container\">\n",
              "    <button class=\"colab-df-convert\" onclick=\"convertToInteractive('df-8c52b8ca-61ad-45dc-ab23-4d31879433f2')\"\n",
              "            title=\"Convert this dataframe to an interactive table.\"\n",
              "            style=\"display:none;\">\n",
              "\n",
              "  <svg xmlns=\"http://www.w3.org/2000/svg\" height=\"24px\" viewBox=\"0 -960 960 960\">\n",
              "    <path d=\"M120-120v-720h720v720H120Zm60-500h600v-160H180v160Zm220 220h160v-160H400v160Zm0 220h160v-160H400v160ZM180-400h160v-160H180v160Zm440 0h160v-160H620v160ZM180-180h160v-160H180v160Zm440 0h160v-160H620v160Z\"/>\n",
              "  </svg>\n",
              "    </button>\n",
              "\n",
              "  <style>\n",
              "    .colab-df-container {\n",
              "      display:flex;\n",
              "      gap: 12px;\n",
              "    }\n",
              "\n",
              "    .colab-df-convert {\n",
              "      background-color: #E8F0FE;\n",
              "      border: none;\n",
              "      border-radius: 50%;\n",
              "      cursor: pointer;\n",
              "      display: none;\n",
              "      fill: #1967D2;\n",
              "      height: 32px;\n",
              "      padding: 0 0 0 0;\n",
              "      width: 32px;\n",
              "    }\n",
              "\n",
              "    .colab-df-convert:hover {\n",
              "      background-color: #E2EBFA;\n",
              "      box-shadow: 0px 1px 2px rgba(60, 64, 67, 0.3), 0px 1px 3px 1px rgba(60, 64, 67, 0.15);\n",
              "      fill: #174EA6;\n",
              "    }\n",
              "\n",
              "    .colab-df-buttons div {\n",
              "      margin-bottom: 4px;\n",
              "    }\n",
              "\n",
              "    [theme=dark] .colab-df-convert {\n",
              "      background-color: #3B4455;\n",
              "      fill: #D2E3FC;\n",
              "    }\n",
              "\n",
              "    [theme=dark] .colab-df-convert:hover {\n",
              "      background-color: #434B5C;\n",
              "      box-shadow: 0px 1px 3px 1px rgba(0, 0, 0, 0.15);\n",
              "      filter: drop-shadow(0px 1px 2px rgba(0, 0, 0, 0.3));\n",
              "      fill: #FFFFFF;\n",
              "    }\n",
              "  </style>\n",
              "\n",
              "    <script>\n",
              "      const buttonEl =\n",
              "        document.querySelector('#df-8c52b8ca-61ad-45dc-ab23-4d31879433f2 button.colab-df-convert');\n",
              "      buttonEl.style.display =\n",
              "        google.colab.kernel.accessAllowed ? 'block' : 'none';\n",
              "\n",
              "      async function convertToInteractive(key) {\n",
              "        const element = document.querySelector('#df-8c52b8ca-61ad-45dc-ab23-4d31879433f2');\n",
              "        const dataTable =\n",
              "          await google.colab.kernel.invokeFunction('convertToInteractive',\n",
              "                                                    [key], {});\n",
              "        if (!dataTable) return;\n",
              "\n",
              "        const docLinkHtml = 'Like what you see? Visit the ' +\n",
              "          '<a target=\"_blank\" href=https://colab.research.google.com/notebooks/data_table.ipynb>data table notebook</a>'\n",
              "          + ' to learn more about interactive tables.';\n",
              "        element.innerHTML = '';\n",
              "        dataTable['output_type'] = 'display_data';\n",
              "        await google.colab.output.renderOutput(dataTable, element);\n",
              "        const docLink = document.createElement('div');\n",
              "        docLink.innerHTML = docLinkHtml;\n",
              "        element.appendChild(docLink);\n",
              "      }\n",
              "    </script>\n",
              "  </div>\n",
              "\n",
              "\n",
              "<div id=\"df-58b71380-26bb-4022-8a8c-d2a9f91c0077\">\n",
              "  <button class=\"colab-df-quickchart\" onclick=\"quickchart('df-58b71380-26bb-4022-8a8c-d2a9f91c0077')\"\n",
              "            title=\"Suggest charts\"\n",
              "            style=\"display:none;\">\n",
              "\n",
              "<svg xmlns=\"http://www.w3.org/2000/svg\" height=\"24px\"viewBox=\"0 0 24 24\"\n",
              "     width=\"24px\">\n",
              "    <g>\n",
              "        <path d=\"M19 3H5c-1.1 0-2 .9-2 2v14c0 1.1.9 2 2 2h14c1.1 0 2-.9 2-2V5c0-1.1-.9-2-2-2zM9 17H7v-7h2v7zm4 0h-2V7h2v10zm4 0h-2v-4h2v4z\"/>\n",
              "    </g>\n",
              "</svg>\n",
              "  </button>\n",
              "\n",
              "<style>\n",
              "  .colab-df-quickchart {\n",
              "      --bg-color: #E8F0FE;\n",
              "      --fill-color: #1967D2;\n",
              "      --hover-bg-color: #E2EBFA;\n",
              "      --hover-fill-color: #174EA6;\n",
              "      --disabled-fill-color: #AAA;\n",
              "      --disabled-bg-color: #DDD;\n",
              "  }\n",
              "\n",
              "  [theme=dark] .colab-df-quickchart {\n",
              "      --bg-color: #3B4455;\n",
              "      --fill-color: #D2E3FC;\n",
              "      --hover-bg-color: #434B5C;\n",
              "      --hover-fill-color: #FFFFFF;\n",
              "      --disabled-bg-color: #3B4455;\n",
              "      --disabled-fill-color: #666;\n",
              "  }\n",
              "\n",
              "  .colab-df-quickchart {\n",
              "    background-color: var(--bg-color);\n",
              "    border: none;\n",
              "    border-radius: 50%;\n",
              "    cursor: pointer;\n",
              "    display: none;\n",
              "    fill: var(--fill-color);\n",
              "    height: 32px;\n",
              "    padding: 0;\n",
              "    width: 32px;\n",
              "  }\n",
              "\n",
              "  .colab-df-quickchart:hover {\n",
              "    background-color: var(--hover-bg-color);\n",
              "    box-shadow: 0 1px 2px rgba(60, 64, 67, 0.3), 0 1px 3px 1px rgba(60, 64, 67, 0.15);\n",
              "    fill: var(--button-hover-fill-color);\n",
              "  }\n",
              "\n",
              "  .colab-df-quickchart-complete:disabled,\n",
              "  .colab-df-quickchart-complete:disabled:hover {\n",
              "    background-color: var(--disabled-bg-color);\n",
              "    fill: var(--disabled-fill-color);\n",
              "    box-shadow: none;\n",
              "  }\n",
              "\n",
              "  .colab-df-spinner {\n",
              "    border: 2px solid var(--fill-color);\n",
              "    border-color: transparent;\n",
              "    border-bottom-color: var(--fill-color);\n",
              "    animation:\n",
              "      spin 1s steps(1) infinite;\n",
              "  }\n",
              "\n",
              "  @keyframes spin {\n",
              "    0% {\n",
              "      border-color: transparent;\n",
              "      border-bottom-color: var(--fill-color);\n",
              "      border-left-color: var(--fill-color);\n",
              "    }\n",
              "    20% {\n",
              "      border-color: transparent;\n",
              "      border-left-color: var(--fill-color);\n",
              "      border-top-color: var(--fill-color);\n",
              "    }\n",
              "    30% {\n",
              "      border-color: transparent;\n",
              "      border-left-color: var(--fill-color);\n",
              "      border-top-color: var(--fill-color);\n",
              "      border-right-color: var(--fill-color);\n",
              "    }\n",
              "    40% {\n",
              "      border-color: transparent;\n",
              "      border-right-color: var(--fill-color);\n",
              "      border-top-color: var(--fill-color);\n",
              "    }\n",
              "    60% {\n",
              "      border-color: transparent;\n",
              "      border-right-color: var(--fill-color);\n",
              "    }\n",
              "    80% {\n",
              "      border-color: transparent;\n",
              "      border-right-color: var(--fill-color);\n",
              "      border-bottom-color: var(--fill-color);\n",
              "    }\n",
              "    90% {\n",
              "      border-color: transparent;\n",
              "      border-bottom-color: var(--fill-color);\n",
              "    }\n",
              "  }\n",
              "</style>\n",
              "\n",
              "  <script>\n",
              "    async function quickchart(key) {\n",
              "      const quickchartButtonEl =\n",
              "        document.querySelector('#' + key + ' button');\n",
              "      quickchartButtonEl.disabled = true;  // To prevent multiple clicks.\n",
              "      quickchartButtonEl.classList.add('colab-df-spinner');\n",
              "      try {\n",
              "        const charts = await google.colab.kernel.invokeFunction(\n",
              "            'suggestCharts', [key], {});\n",
              "      } catch (error) {\n",
              "        console.error('Error during call to suggestCharts:', error);\n",
              "      }\n",
              "      quickchartButtonEl.classList.remove('colab-df-spinner');\n",
              "      quickchartButtonEl.classList.add('colab-df-quickchart-complete');\n",
              "    }\n",
              "    (() => {\n",
              "      let quickchartButtonEl =\n",
              "        document.querySelector('#df-58b71380-26bb-4022-8a8c-d2a9f91c0077 button');\n",
              "      quickchartButtonEl.style.display =\n",
              "        google.colab.kernel.accessAllowed ? 'block' : 'none';\n",
              "    })();\n",
              "  </script>\n",
              "</div>\n",
              "\n",
              "    </div>\n",
              "  </div>\n"
            ],
            "application/vnd.google.colaboratory.intrinsic+json": {
              "type": "dataframe",
              "variable_name": "dataset",
              "summary": "{\n  \"name\": \"dataset\",\n  \"rows\": 2000,\n  \"fields\": [\n    {\n      \"column\": \"i#clientid\",\n      \"properties\": {\n        \"dtype\": \"number\",\n        \"std\": 577,\n        \"min\": 1,\n        \"max\": 2000,\n        \"num_unique_values\": 2000,\n        \"samples\": [\n          1861,\n          354,\n          1334\n        ],\n        \"semantic_type\": \"\",\n        \"description\": \"\"\n      }\n    },\n    {\n      \"column\": \"income\",\n      \"properties\": {\n        \"dtype\": \"number\",\n        \"std\": 14326.327118850028,\n        \"min\": 20014.4894700497,\n        \"max\": 69995.6855783239,\n        \"num_unique_values\": 2000,\n        \"samples\": [\n          40240.7275559381,\n          46706.4588610083,\n          51211.6540386342\n        ],\n        \"semantic_type\": \"\",\n        \"description\": \"\"\n      }\n    },\n    {\n      \"column\": \"age\",\n      \"properties\": {\n        \"dtype\": \"number\",\n        \"std\": 13.62446945559601,\n        \"min\": -52.4232799196616,\n        \"max\": 63.971795841120205,\n        \"num_unique_values\": 1997,\n        \"samples\": [\n          36.6687041711994,\n          43.0130229773931,\n          32.553030352108195\n        ],\n        \"semantic_type\": \"\",\n        \"description\": \"\"\n      }\n    },\n    {\n      \"column\": \"loan\",\n      \"properties\": {\n        \"dtype\": \"number\",\n        \"std\": 3045.410024391518,\n        \"min\": 1.37762959325451,\n        \"max\": 13766.0512393337,\n        \"num_unique_values\": 2000,\n        \"samples\": [\n          7498.630446855849,\n          7084.263509070559,\n          4093.360006036261\n        ],\n        \"semantic_type\": \"\",\n        \"description\": \"\"\n      }\n    },\n    {\n      \"column\": \"c#default\",\n      \"properties\": {\n        \"dtype\": \"number\",\n        \"std\": 0,\n        \"min\": 0,\n        \"max\": 1,\n        \"num_unique_values\": 2,\n        \"samples\": [\n          1,\n          0\n        ],\n        \"semantic_type\": \"\",\n        \"description\": \"\"\n      }\n    }\n  ]\n}"
            }
          },
          "metadata": {},
          "execution_count": 58
        }
      ]
    },
    {
      "cell_type": "code",
      "source": [
        "dataset.dropna(inplace=True)"
      ],
      "metadata": {
        "id": "air-gwXj8HYo"
      },
      "execution_count": 59,
      "outputs": []
    },
    {
      "cell_type": "code",
      "source": [
        "X = dataset.iloc[:, 1:4].values\n",
        "y = dataset.iloc[:, 4].values"
      ],
      "metadata": {
        "id": "1mV6Oj_O5z8T"
      },
      "execution_count": 60,
      "outputs": []
    },
    {
      "cell_type": "code",
      "source": [
        "from sklearn.naive_bayes import GaussianNB\n",
        "from sklearn.metrics import accuracy_score\n",
        "from sklearn.model_selection import train_test_split"
      ],
      "metadata": {
        "id": "F_FzJZDK6tT-"
      },
      "execution_count": 61,
      "outputs": []
    },
    {
      "cell_type": "code",
      "source": [
        "resultados_naive_bayes = []\n",
        "for i in range(30):\n",
        "  X_treinamento, X_teste, y_treinamento, y_teste = train_test_split(X, y, test_size = 0.2, stratify = y, random_state = i)\n",
        "  naive_bayes = GaussianNB()\n",
        "  naive_bayes.fit(X_treinamento, y_treinamento)\n",
        "  resultados_naive_bayes.append(accuracy_score(y_teste, naive_bayes.predict(X_teste)))\n",
        "\n",
        "resultados_naive_bayes"
      ],
      "metadata": {
        "colab": {
          "base_uri": "https://localhost:8080/"
        },
        "id": "40tNWlgE69mt",
        "outputId": "aaa74978-594b-469d-a0b1-ecc8ce4e4182"
      },
      "execution_count": 62,
      "outputs": [
        {
          "output_type": "execute_result",
          "data": {
            "text/plain": [
              "[0.925,\n",
              " 0.925,\n",
              " 0.9325,\n",
              " 0.925,\n",
              " 0.92,\n",
              " 0.905,\n",
              " 0.9175,\n",
              " 0.9175,\n",
              " 0.9125,\n",
              " 0.9325,\n",
              " 0.9225,\n",
              " 0.9125,\n",
              " 0.935,\n",
              " 0.9175,\n",
              " 0.925,\n",
              " 0.9175,\n",
              " 0.9275,\n",
              " 0.92,\n",
              " 0.9325,\n",
              " 0.92,\n",
              " 0.93,\n",
              " 0.905,\n",
              " 0.9175,\n",
              " 0.9325,\n",
              " 0.9425,\n",
              " 0.9375,\n",
              " 0.94,\n",
              " 0.92,\n",
              " 0.935,\n",
              " 0.925]"
            ]
          },
          "metadata": {},
          "execution_count": 62
        }
      ]
    },
    {
      "cell_type": "code",
      "source": [
        "sns.distplot(resultados_naive_bayes, bins = 5)"
      ],
      "metadata": {
        "colab": {
          "base_uri": "https://localhost:8080/",
          "height": 638
        },
        "id": "GK2tUGm67fY8",
        "outputId": "cfe6d052-5fe6-437e-ce55-9ad9d6446d96"
      },
      "execution_count": 63,
      "outputs": [
        {
          "output_type": "stream",
          "name": "stderr",
          "text": [
            "<ipython-input-63-188413b12ba9>:1: UserWarning: \n",
            "\n",
            "`distplot` is a deprecated function and will be removed in seaborn v0.14.0.\n",
            "\n",
            "Please adapt your code to use either `displot` (a figure-level function with\n",
            "similar flexibility) or `histplot` (an axes-level function for histograms).\n",
            "\n",
            "For a guide to updating your code to use the new functions, please see\n",
            "https://gist.github.com/mwaskom/de44147ed2974457ad6372750bbe5751\n",
            "\n",
            "  sns.distplot(resultados_naive_bayes, bins = 5)\n"
          ]
        },
        {
          "output_type": "execute_result",
          "data": {
            "text/plain": [
              "<Axes: ylabel='Density'>"
            ]
          },
          "metadata": {},
          "execution_count": 63
        },
        {
          "output_type": "display_data",
          "data": {
            "text/plain": [
              "<Figure size 640x480 with 1 Axes>"
            ],
            "image/png": "[encoded data removed]"
          },
          "metadata": {}
        }
      ]
    },
    {
      "cell_type": "markdown",
      "source": [
        "##Aula 9 - Distribuição de Bernoulli"
      ],
      "metadata": {
        "id": "QwX3kAeWHre4"
      }
    },
    {
      "cell_type": "code",
      "source": [
        "from scipy.stats import bernoulli"
      ],
      "metadata": {
        "id": "OUDqYrT9HuoM"
      },
      "execution_count": 64,
      "outputs": []
    },
    {
      "cell_type": "code",
      "source": [
        "dados_bernoulli = bernoulli.rvs(size = 1000, p = 0.3)\n",
        "dados_bernoulli"
      ],
      "metadata": {
        "colab": {
          "base_uri": "https://localhost:8080/"
        },
        "id": "_4vj3H-DYWt-",
        "outputId": "2f9565c8-91ea-445f-9108-3b549092e890"
      },
      "execution_count": 65,
      "outputs": [
        {
          "output_type": "execute_result",
          "data": {
            "text/plain": [
              "array([0, 0, 0, 0, 0, 0, 0, 1, 0, 1, 0, 0, 0, 0, 0, 0, 1, 0, 1, 1, 0, 0,\n",
              "       0, 0, 0, 0, 0, 1, 0, 0, 0, 0, 1, 0, 0, 0, 1, 1, 0, 0, 0, 1, 0, 0,\n",
              "       1, 1, 0, 1, 0, 1, 0, 0, 1, 1, 0, 0, 0, 0, 1, 1, 0, 0, 0, 1, 1, 0,\n",
              "       0, 0, 0, 0, 1, 1, 0, 1, 0, 0, 0, 0, 1, 0, 1, 0, 1, 0, 0, 0, 1, 1,\n",
              "       1, 0, 1, 0, 1, 0, 0, 0, 0, 0, 1, 1, 0, 0, 0, 1, 1, 0, 0, 1, 1, 0,\n",
              "       0, 0, 0, 0, 0, 0, 0, 0, 1, 0, 0, 0, 1, 0, 0, 0, 0, 0, 1, 0, 1, 0,\n",
              "       0, 1, 1, 0, 0, 0, 0, 0, 1, 0, 0, 1, 0, 0, 0, 0, 0, 0, 0, 0, 0, 0,\n",
              "       1, 1, 0, 0, 0, 0, 0, 1, 0, 1, 1, 0, 0, 1, 0, 1, 0, 0, 0, 0, 0, 1,\n",
              "       0, 0, 0, 0, 0, 1, 1, 0, 1, 1, 0, 0, 0, 1, 0, 0, 0, 0, 0, 0, 1, 0,\n",
              "       0, 1, 0, 1, 0, 0, 0, 0, 0, 0, 0, 1, 0, 0, 0, 0, 0, 1, 0, 0, 0, 0,\n",
              "       0, 0, 0, 1, 1, 0, 1, 0, 1, 0, 0, 0, 1, 0, 0, 1, 0, 1, 0, 1, 0, 0,\n",
              "       0, 0, 0, 0, 0, 0, 0, 0, 1, 0, 0, 1, 1, 0, 0, 0, 1, 0, 0, 0, 0, 0,\n",
              "       1, 1, 1, 1, 1, 1, 0, 0, 0, 0, 1, 1, 0, 1, 0, 1, 0, 0, 0, 0, 1, 1,\n",
              "       0, 0, 0, 0, 0, 1, 0, 0, 0, 1, 0, 1, 1, 0, 1, 0, 0, 0, 0, 0, 1, 1,\n",
              "       1, 0, 1, 0, 0, 0, 1, 0, 0, 0, 0, 0, 1, 1, 0, 1, 0, 0, 0, 0, 0, 1,\n",
              "       0, 0, 0, 0, 0, 1, 1, 0, 1, 0, 1, 0, 0, 1, 0, 0, 1, 0, 0, 1, 1, 0,\n",
              "       0, 0, 0, 1, 1, 1, 0, 0, 0, 0, 0, 1, 0, 0, 0, 0, 1, 0, 1, 0, 1, 0,\n",
              "       1, 0, 0, 1, 1, 0, 0, 0, 0, 0, 0, 0, 1, 0, 0, 0, 0, 1, 0, 0, 1, 0,\n",
              "       1, 0, 0, 0, 1, 0, 1, 0, 0, 0, 0, 0, 0, 0, 0, 1, 0, 0, 0, 0, 0, 0,\n",
              "       0, 1, 1, 1, 0, 0, 0, 1, 1, 1, 0, 0, 0, 0, 0, 0, 0, 0, 0, 1, 1, 0,\n",
              "       0, 0, 0, 1, 0, 0, 1, 0, 0, 0, 1, 0, 0, 1, 1, 0, 0, 0, 0, 1, 0, 1,\n",
              "       0, 0, 1, 0, 0, 0, 0, 1, 0, 1, 1, 0, 0, 0, 0, 0, 1, 0, 0, 1, 0, 1,\n",
              "       1, 0, 0, 0, 0, 1, 1, 0, 0, 0, 0, 0, 0, 0, 1, 0, 0, 0, 0, 0, 0, 0,\n",
              "       0, 1, 0, 1, 0, 0, 1, 0, 0, 1, 0, 0, 0, 1, 0, 1, 0, 0, 1, 0, 0, 1,\n",
              "       0, 0, 0, 1, 0, 1, 0, 0, 0, 1, 0, 1, 1, 0, 0, 1, 0, 0, 1, 0, 1, 0,\n",
              "       1, 0, 0, 1, 0, 0, 0, 1, 0, 1, 1, 0, 0, 0, 0, 0, 0, 0, 0, 0, 0, 0,\n",
              "       0, 1, 0, 1, 1, 0, 0, 0, 1, 1, 0, 1, 1, 1, 0, 1, 1, 1, 0, 0, 0, 0,\n",
              "       0, 0, 0, 0, 0, 0, 0, 0, 0, 1, 0, 1, 0, 1, 1, 1, 1, 1, 0, 1, 1, 1,\n",
              "       1, 1, 1, 1, 0, 0, 1, 0, 0, 0, 0, 1, 0, 0, 0, 0, 0, 1, 1, 0, 0, 0,\n",
              "       0, 1, 1, 0, 0, 0, 0, 1, 0, 0, 0, 0, 0, 0, 1, 0, 0, 0, 0, 0, 1, 0,\n",
              "       0, 0, 0, 0, 0, 1, 1, 0, 0, 0, 1, 0, 1, 0, 0, 0, 1, 0, 0, 0, 0, 0,\n",
              "       1, 0, 0, 1, 1, 1, 1, 0, 0, 0, 0, 0, 0, 0, 0, 0, 0, 0, 0, 1, 0, 0,\n",
              "       0, 0, 0, 0, 0, 1, 1, 0, 1, 0, 0, 0, 1, 0, 0, 0, 0, 1, 1, 1, 1, 0,\n",
              "       0, 0, 0, 1, 0, 0, 1, 0, 1, 0, 0, 1, 0, 0, 0, 0, 0, 1, 0, 0, 0, 0,\n",
              "       0, 0, 0, 1, 0, 0, 0, 0, 0, 1, 0, 0, 0, 1, 0, 0, 0, 0, 0, 0, 1, 0,\n",
              "       0, 1, 0, 0, 0, 0, 0, 0, 0, 0, 0, 1, 0, 1, 1, 0, 1, 0, 1, 0, 0, 0,\n",
              "       0, 0, 0, 0, 0, 1, 0, 1, 0, 0, 1, 1, 0, 0, 1, 0, 0, 0, 0, 0, 1, 0,\n",
              "       0, 0, 0, 0, 0, 1, 1, 0, 0, 0, 0, 0, 1, 1, 0, 0, 0, 0, 0, 0, 0, 0,\n",
              "       0, 0, 0, 0, 0, 0, 1, 0, 0, 0, 0, 0, 0, 1, 1, 0, 0, 0, 1, 0, 0, 0,\n",
              "       1, 0, 1, 1, 1, 1, 1, 1, 0, 1, 1, 0, 1, 0, 1, 1, 1, 0, 0, 0, 0, 1,\n",
              "       0, 0, 0, 1, 0, 1, 0, 0, 1, 0, 1, 1, 0, 0, 0, 0, 0, 0, 0, 1, 0, 0,\n",
              "       1, 1, 0, 0, 0, 0, 0, 0, 1, 0, 0, 1, 0, 0, 1, 0, 1, 0, 0, 0, 1, 0,\n",
              "       0, 0, 0, 0, 0, 1, 0, 1, 0, 1, 0, 0, 0, 0, 1, 1, 1, 0, 0, 1, 0, 0,\n",
              "       0, 0, 1, 1, 0, 0, 0, 1, 1, 0, 0, 0, 0, 0, 0, 0, 0, 0, 0, 0, 0, 1,\n",
              "       0, 0, 0, 0, 0, 0, 0, 0, 0, 1, 0, 0, 0, 1, 0, 0, 0, 0, 0, 0, 0, 0,\n",
              "       0, 1, 0, 1, 0, 1, 0, 1, 0, 0])"
            ]
          },
          "metadata": {},
          "execution_count": 65
        }
      ]
    },
    {
      "cell_type": "code",
      "source": [
        "np.unique(dados_bernoulli, return_counts=True)"
      ],
      "metadata": {
        "colab": {
          "base_uri": "https://localhost:8080/"
        },
        "id": "KgNikJ52Yb7N",
        "outputId": "e4ad4e4b-20ad-41fa-d8a0-7dc26f364183"
      },
      "execution_count": 66,
      "outputs": [
        {
          "output_type": "execute_result",
          "data": {
            "text/plain": [
              "(array([0, 1]), array([700, 300]))"
            ]
          },
          "metadata": {},
          "execution_count": 66
        }
      ]
    },
    {
      "cell_type": "code",
      "source": [
        "sns.distplot(dados_bernoulli, kde=False)"
      ],
      "metadata": {
        "colab": {
          "base_uri": "https://localhost:8080/",
          "height": 638
        },
        "id": "WueEjw9dY550",
        "outputId": "1cec6427-515d-44ac-bb63-51c6abc0aa18"
      },
      "execution_count": 67,
      "outputs": [
        {
          "output_type": "stream",
          "name": "stderr",
          "text": [
            "<ipython-input-67-da5a21e21da8>:1: UserWarning: \n",
            "\n",
            "`distplot` is a deprecated function and will be removed in seaborn v0.14.0.\n",
            "\n",
            "Please adapt your code to use either `displot` (a figure-level function with\n",
            "similar flexibility) or `histplot` (an axes-level function for histograms).\n",
            "\n",
            "For a guide to updating your code to use the new functions, please see\n",
            "https://gist.github.com/mwaskom/de44147ed2974457ad6372750bbe5751\n",
            "\n",
            "  sns.distplot(dados_bernoulli, kde=False)\n"
          ]
        },
        {
          "output_type": "execute_result",
          "data": {
            "text/plain": [
              "<Axes: >"
            ]
          },
          "metadata": {},
          "execution_count": 67
        },
        {
          "output_type": "display_data",
          "data": {
            "text/plain": [
              "<Figure size 640x480 with 1 Axes>"
            ],
            "image/png": "[encoded data removed]"
          },
          "metadata": {}
        }
      ]
    },
    {
      "cell_type": "markdown",
      "source": [
        "##Aula 10 - Distribuição Binomial"
      ],
      "metadata": {
        "id": "x1fLcsk-ZLHY"
      }
    },
    {
      "cell_type": "code",
      "source": [
        "from scipy.stats import binom"
      ],
      "metadata": {
        "id": "35VJ1s3IZNvN"
      },
      "execution_count": 68,
      "outputs": []
    },
    {
      "cell_type": "code",
      "source": [
        "dados_binomial = binom.rvs(size = 1000, n = 10, p = 0.3)\n",
        "dados_binomial"
      ],
      "metadata": {
        "colab": {
          "base_uri": "https://localhost:8080/"
        },
        "id": "_sz2VcVbZVae",
        "outputId": "5961dad4-9264-49c4-99b2-6102008a6d40"
      },
      "execution_count": 69,
      "outputs": [
        {
          "output_type": "execute_result",
          "data": {
            "text/plain": [
              "array([4, 3, 1, 3, 3, 2, 2, 2, 4, 4, 2, 4, 2, 3, 2, 2, 6, 4, 5, 3, 0, 3,\n",
              "       3, 2, 3, 3, 5, 2, 3, 2, 1, 1, 4, 7, 3, 2, 1, 3, 2, 5, 3, 5, 5, 1,\n",
              "       5, 5, 3, 2, 2, 4, 5, 3, 3, 3, 4, 2, 4, 0, 2, 3, 2, 3, 4, 2, 1, 4,\n",
              "       3, 4, 1, 3, 2, 3, 3, 0, 2, 1, 5, 2, 2, 3, 4, 1, 4, 2, 3, 4, 1, 3,\n",
              "       3, 4, 6, 1, 3, 3, 5, 5, 2, 5, 2, 2, 4, 4, 8, 2, 3, 6, 4, 1, 6, 3,\n",
              "       2, 3, 5, 2, 4, 1, 2, 2, 4, 0, 3, 4, 2, 4, 4, 4, 3, 2, 3, 1, 3, 4,\n",
              "       4, 2, 3, 5, 2, 2, 1, 3, 6, 2, 3, 5, 2, 3, 4, 6, 3, 3, 2, 4, 2, 4,\n",
              "       3, 1, 5, 2, 5, 1, 2, 4, 2, 1, 3, 4, 4, 4, 0, 2, 3, 2, 5, 2, 4, 3,\n",
              "       2, 3, 2, 2, 3, 4, 4, 3, 4, 1, 0, 1, 2, 6, 4, 4, 5, 3, 6, 4, 4, 1,\n",
              "       4, 3, 2, 4, 2, 5, 2, 3, 4, 1, 2, 5, 3, 4, 4, 0, 3, 3, 4, 2, 1, 4,\n",
              "       3, 2, 2, 3, 3, 4, 3, 3, 4, 2, 3, 2, 3, 4, 1, 2, 6, 3, 2, 2, 2, 1,\n",
              "       4, 1, 2, 1, 4, 3, 3, 2, 3, 3, 3, 4, 4, 4, 3, 1, 4, 3, 4, 2, 2, 4,\n",
              "       3, 4, 6, 4, 4, 4, 3, 4, 4, 3, 5, 2, 4, 4, 3, 2, 1, 3, 3, 1, 2, 3,\n",
              "       4, 3, 5, 2, 3, 3, 3, 2, 2, 3, 2, 4, 4, 2, 4, 2, 4, 2, 5, 2, 3, 3,\n",
              "       3, 1, 3, 0, 0, 2, 4, 3, 0, 2, 3, 4, 1, 3, 5, 1, 4, 3, 3, 1, 5, 1,\n",
              "       2, 6, 3, 2, 3, 2, 2, 4, 2, 2, 4, 5, 3, 2, 4, 5, 2, 2, 5, 4, 1, 3,\n",
              "       5, 4, 4, 4, 4, 3, 4, 4, 5, 4, 3, 3, 3, 1, 6, 5, 3, 6, 2, 3, 2, 1,\n",
              "       3, 1, 3, 2, 4, 2, 2, 3, 1, 5, 4, 2, 4, 2, 4, 4, 1, 4, 4, 2, 3, 2,\n",
              "       4, 2, 3, 5, 4, 4, 2, 2, 3, 1, 1, 3, 3, 4, 2, 4, 3, 3, 4, 4, 5, 4,\n",
              "       2, 1, 5, 3, 2, 3, 2, 4, 1, 2, 2, 5, 4, 3, 4, 2, 3, 4, 5, 3, 1, 6,\n",
              "       1, 4, 5, 3, 6, 3, 3, 1, 3, 5, 0, 1, 2, 3, 7, 3, 2, 3, 2, 2, 4, 4,\n",
              "       0, 6, 1, 2, 2, 4, 2, 4, 3, 3, 3, 2, 3, 2, 3, 5, 4, 4, 4, 3, 4, 4,\n",
              "       2, 3, 4, 6, 5, 2, 5, 2, 5, 1, 4, 1, 3, 3, 2, 4, 1, 2, 6, 1, 4, 3,\n",
              "       7, 2, 4, 5, 4, 4, 5, 4, 4, 2, 4, 3, 5, 1, 4, 2, 3, 3, 3, 4, 3, 5,\n",
              "       3, 3, 2, 2, 2, 3, 4, 2, 2, 5, 0, 4, 3, 3, 3, 3, 2, 3, 3, 2, 2, 2,\n",
              "       4, 5, 4, 1, 2, 1, 3, 3, 0, 3, 1, 2, 1, 2, 1, 3, 2, 3, 3, 1, 3, 1,\n",
              "       4, 3, 4, 4, 2, 2, 3, 4, 4, 5, 4, 4, 5, 7, 2, 1, 3, 2, 3, 1, 4, 1,\n",
              "       1, 3, 3, 3, 3, 4, 4, 2, 3, 2, 5, 3, 0, 3, 1, 4, 2, 3, 1, 2, 3, 5,\n",
              "       2, 4, 5, 3, 3, 3, 1, 3, 2, 6, 4, 2, 4, 4, 4, 5, 2, 5, 4, 4, 4, 3,\n",
              "       2, 3, 6, 4, 1, 3, 2, 2, 4, 2, 4, 1, 2, 3, 3, 5, 4, 5, 3, 3, 3, 1,\n",
              "       1, 1, 4, 4, 2, 6, 2, 2, 2, 1, 0, 4, 3, 3, 3, 6, 1, 3, 2, 5, 2, 2,\n",
              "       0, 2, 0, 1, 1, 1, 4, 2, 3, 2, 4, 3, 3, 2, 2, 3, 3, 2, 1, 3, 2, 1,\n",
              "       4, 2, 4, 4, 4, 2, 3, 3, 2, 2, 3, 4, 2, 4, 3, 4, 4, 4, 3, 1, 2, 1,\n",
              "       3, 2, 3, 3, 3, 3, 1, 4, 3, 4, 3, 4, 4, 3, 3, 2, 3, 3, 1, 4, 6, 3,\n",
              "       4, 4, 4, 5, 2, 4, 3, 4, 4, 6, 4, 2, 4, 2, 6, 5, 1, 1, 3, 3, 3, 3,\n",
              "       1, 2, 4, 2, 4, 4, 3, 5, 2, 3, 4, 3, 3, 1, 4, 5, 1, 2, 1, 5, 2, 5,\n",
              "       3, 6, 3, 1, 2, 3, 3, 5, 4, 1, 2, 3, 2, 2, 5, 1, 2, 3, 3, 2, 1, 2,\n",
              "       2, 4, 6, 2, 4, 2, 3, 4, 1, 2, 4, 2, 2, 5, 3, 2, 0, 5, 1, 2, 3, 2,\n",
              "       2, 1, 2, 2, 3, 2, 3, 5, 4, 3, 5, 5, 2, 3, 3, 5, 3, 2, 3, 3, 5, 2,\n",
              "       3, 2, 6, 1, 2, 1, 3, 3, 3, 3, 3, 1, 2, 1, 2, 1, 3, 1, 4, 4, 4, 3,\n",
              "       6, 2, 6, 3, 4, 4, 4, 4, 4, 1, 2, 6, 3, 2, 5, 3, 2, 2, 2, 3, 2, 2,\n",
              "       3, 3, 2, 3, 2, 3, 5, 4, 3, 4, 3, 4, 2, 1, 3, 4, 5, 5, 2, 2, 2, 4,\n",
              "       0, 4, 4, 4, 2, 4, 0, 6, 4, 5, 3, 4, 4, 2, 3, 2, 4, 2, 1, 4, 5, 2,\n",
              "       1, 3, 4, 1, 5, 3, 1, 2, 2, 3, 6, 0, 3, 5, 4, 0, 4, 2, 4, 4, 2, 0,\n",
              "       2, 1, 3, 1, 4, 4, 3, 2, 1, 4, 2, 0, 1, 3, 2, 1, 1, 2, 2, 5, 2, 4,\n",
              "       2, 2, 2, 2, 5, 5, 4, 3, 3, 2])"
            ]
          },
          "metadata": {},
          "execution_count": 69
        }
      ]
    },
    {
      "cell_type": "code",
      "source": [
        "np.unique(dados_binomial, return_counts=True)"
      ],
      "metadata": {
        "colab": {
          "base_uri": "https://localhost:8080/"
        },
        "id": "it3cjZZ0Zdr9",
        "outputId": "3bd8d9e0-aa22-4b3c-d241-17b23436fac8"
      },
      "execution_count": 70,
      "outputs": [
        {
          "output_type": "execute_result",
          "data": {
            "text/plain": [
              "(array([0, 1, 2, 3, 4, 5, 6, 7, 8]),\n",
              " array([ 25, 116, 247, 263, 225,  86,  33,   4,   1]))"
            ]
          },
          "metadata": {},
          "execution_count": 70
        }
      ]
    },
    {
      "cell_type": "code",
      "source": [
        "sns.distplot(dados_binomial, kde=False)"
      ],
      "metadata": {
        "colab": {
          "base_uri": "https://localhost:8080/",
          "height": 638
        },
        "id": "FIIvZZRyZjj9",
        "outputId": "b443ef58-eddf-4a9f-a6e4-87f8ecc87074"
      },
      "execution_count": 71,
      "outputs": [
        {
          "output_type": "stream",
          "name": "stderr",
          "text": [
            "<ipython-input-71-da38c164657a>:1: UserWarning: \n",
            "\n",
            "`distplot` is a deprecated function and will be removed in seaborn v0.14.0.\n",
            "\n",
            "Please adapt your code to use either `displot` (a figure-level function with\n",
            "similar flexibility) or `histplot` (an axes-level function for histograms).\n",
            "\n",
            "For a guide to updating your code to use the new functions, please see\n",
            "https://gist.github.com/mwaskom/de44147ed2974457ad6372750bbe5751\n",
            "\n",
            "  sns.distplot(dados_binomial, kde=False)\n"
          ]
        },
        {
          "output_type": "execute_result",
          "data": {
            "text/plain": [
              "<Axes: >"
            ]
          },
          "metadata": {},
          "execution_count": 71
        },
        {
          "output_type": "display_data",
          "data": {
            "text/plain": [
              "<Figure size 640x480 with 1 Axes>"
            ],
            "image/png": "[encoded data removed]"
          },
          "metadata": {}
        }
      ]
    },
    {
      "cell_type": "markdown",
      "source": [
        "##Aula 11 - Distribuição de Poisson"
      ],
      "metadata": {
        "id": "oOFHy4SDM6d5"
      }
    },
    {
      "cell_type": "code",
      "source": [
        "from scipy.stats import poisson"
      ],
      "metadata": {
        "id": "fdPWmfdMM9sj"
      },
      "execution_count": 72,
      "outputs": []
    },
    {
      "cell_type": "code",
      "source": [
        "dados_poisson = poisson.rvs(size = 1000, mu = 10)\n",
        "dados_poisson"
      ],
      "metadata": {
        "colab": {
          "base_uri": "https://localhost:8080/"
        },
        "id": "O7EB99-uNCUb",
        "outputId": "b16664b0-3685-48fd-d49f-3432e21d11c2"
      },
      "execution_count": 73,
      "outputs": [
        {
          "output_type": "execute_result",
          "data": {
            "text/plain": [
              "array([ 9, 10, 10, 10, 14, 17, 12, 14,  9,  9, 10, 10,  9,  8,  9,  9, 17,\n",
              "       11, 11,  5, 12,  7,  6,  7, 15,  8,  9, 23,  7, 11, 13,  9, 20, 10,\n",
              "        8, 10, 10,  8, 17, 13,  8, 10, 13,  7,  7, 10,  5,  9, 15, 10, 13,\n",
              "        8,  3,  9, 12, 10, 12, 11, 10, 11, 14, 10,  5,  7, 10, 16, 13, 12,\n",
              "        5, 10, 11,  8,  9,  7,  7,  5,  7,  9, 12, 13,  4,  6,  9, 12,  9,\n",
              "       10, 10,  8, 11, 12,  9, 12,  7, 12,  7,  7, 12,  8, 17,  6, 14,  9,\n",
              "        8, 11,  7, 10,  9,  7, 13, 14,  6,  8, 19,  6, 11, 12, 11, 11, 10,\n",
              "       15, 13,  6, 10,  5,  6,  6, 20,  8, 11, 10,  7,  9,  4, 12,  5, 11,\n",
              "        7, 13, 12, 15,  9, 12,  4, 15, 10, 11, 12,  9,  7, 14, 10, 11,  8,\n",
              "       11, 16, 15, 12, 10, 13,  9, 12, 11, 10,  6, 13,  9, 16,  9,  6,  9,\n",
              "        8, 10,  9, 12,  8, 11, 10,  9, 10,  6,  9,  8, 10, 11, 11, 16,  7,\n",
              "        5,  7,  7, 10, 15, 15, 11, 11,  8,  9,  9, 13, 11,  6, 13, 19, 10,\n",
              "        9,  9, 16,  6, 10, 12, 13, 11, 11,  9,  6,  7,  9,  7,  8,  9, 11,\n",
              "       12, 12,  8, 11, 11, 11, 18, 10, 12, 11,  8, 12,  9,  8,  3,  9,  8,\n",
              "       11,  5,  6, 10, 13, 11,  7, 13, 10,  6,  7, 12, 11, 13, 12, 16,  7,\n",
              "        9, 13,  9,  8, 11, 10,  9,  7,  7, 14,  8, 14, 12,  8,  9,  6, 12,\n",
              "       12,  8,  8,  9,  9, 11, 14,  4, 12, 13, 17, 12, 12,  9,  6,  9,  4,\n",
              "       13, 13,  4,  8, 13,  4, 13, 10,  8, 12, 14,  7,  9, 17, 15, 10, 14,\n",
              "       11, 16, 10,  5, 11,  7,  9, 10,  5, 12, 10,  9, 15, 14, 11,  9, 13,\n",
              "       11, 10, 11,  9,  9, 15,  2, 11, 10, 13, 12,  7,  6,  8, 12,  8,  7,\n",
              "       10, 11, 13,  7, 14, 16, 15, 11,  8, 13, 11,  8,  8, 10, 10, 10, 10,\n",
              "        9,  6,  9, 12, 15, 11,  4, 10,  7,  5, 10,  6, 12, 13, 11,  8,  9,\n",
              "       15, 14,  9, 10, 14, 15,  8,  5, 16,  6,  9, 10,  6, 12,  3,  9, 12,\n",
              "       16, 11,  8, 10, 11, 14, 12,  5,  8, 11, 10,  8, 14, 18, 14,  6, 10,\n",
              "       12, 11, 14,  7,  9,  7,  8,  7,  7, 10, 11, 12,  6, 10, 10,  3, 11,\n",
              "       10,  8, 10, 10,  6,  9,  9,  7,  7,  6, 12, 16, 15, 14, 11, 10, 11,\n",
              "       10, 13, 13, 12, 11,  6,  6,  9,  7, 10,  9, 11, 15,  7,  9,  6, 14,\n",
              "        8,  7, 14, 12, 11, 11, 11,  3, 10,  7, 14, 11,  7, 10, 13, 10, 11,\n",
              "        7,  8, 11,  8,  8, 11,  9, 12,  8,  5, 10, 11, 11,  5,  7, 13, 15,\n",
              "        8,  7, 11,  9,  4, 11, 14, 11, 11, 15,  9,  7, 11, 13, 10,  5,  6,\n",
              "       15, 16,  9, 11,  5,  5,  8, 16,  6, 10, 14, 10,  9,  9,  8,  3,  9,\n",
              "        7,  9,  8, 10,  9,  9,  4,  5,  9, 10,  9, 11,  6,  8,  7,  8,  9,\n",
              "        8, 11, 12,  5,  8,  7,  9, 10, 11, 15, 14, 10,  9, 10,  9,  9, 11,\n",
              "        9, 10,  8,  4,  8,  4,  5,  9, 16, 14, 11,  5, 10,  6, 10, 11,  7,\n",
              "       11, 16,  8, 16, 10, 12, 11, 10, 10,  7, 14, 10, 15,  8, 10,  5, 10,\n",
              "       14, 15,  6,  9,  8, 14,  7, 11,  7, 12,  6,  9,  8, 10,  8,  4,  8,\n",
              "       11, 11,  8,  8,  4, 10,  5, 11,  8,  9, 12, 10,  9,  9,  8,  9, 11,\n",
              "       11,  9, 13,  9, 11, 20,  5,  6,  7, 14, 12, 10,  7,  9,  6,  8, 12,\n",
              "       11, 13, 11,  9,  7,  8,  5, 14,  8,  8, 11,  6, 11,  4,  4,  9, 12,\n",
              "       15,  5,  8,  6, 12, 12, 13,  8, 10,  7, 13, 12, 17, 11,  6,  4, 10,\n",
              "       11, 13, 12, 19,  8,  4, 13, 13, 11,  9, 15,  9, 16,  5, 12, 11, 15,\n",
              "       10,  8, 13, 11, 11,  6,  7, 10,  7,  7, 13, 10,  8,  6,  9,  6, 15,\n",
              "        6,  6,  8, 12, 12,  7,  4, 11, 14, 10, 11,  9,  9, 11, 12, 14,  9,\n",
              "       11,  9,  8, 11,  8,  8,  9, 22,  8, 12, 15,  7,  5, 12,  6,  8,  8,\n",
              "       13,  7, 13,  7,  9, 10,  7,  5,  9,  8, 19, 11,  6,  9, 13,  7, 13,\n",
              "        8,  5,  6, 13,  8,  9, 10,  6, 12, 13, 14, 16, 11, 10,  7, 17,  4,\n",
              "       18, 11, 11, 21,  7,  7, 12, 13,  9,  8, 11, 11,  3, 10, 12,  9, 10,\n",
              "        9,  9,  9,  9,  5,  5, 10, 10, 10, 12, 12,  8,  4,  4,  8, 13,  9,\n",
              "       14,  9,  6, 11, 10, 12,  9,  9, 15, 14,  7, 15,  9,  5, 11, 13,  9,\n",
              "        4, 10, 12,  9, 11, 11, 12,  7, 14,  8, 10, 14,  9, 16, 10,  8, 21,\n",
              "       15, 15,  9, 11, 10,  9, 11, 11,  8,  7,  5,  8,  5,  5, 11, 15, 11,\n",
              "       12,  6,  7, 11,  7, 11, 13, 10, 10, 11,  8,  6, 11,  9, 11,  5, 12,\n",
              "       16,  6, 12, 13, 11,  6, 14, 11, 12, 11, 11,  6, 10, 13, 13,  9, 10,\n",
              "        8,  8,  9,  6, 13,  9, 11, 16,  5,  7,  9,  9, 11,  4, 12,  9, 15,\n",
              "        6,  9, 15,  9, 16, 11,  7,  8, 14,  8,  7, 11, 10,  8, 17, 13, 10,\n",
              "        7, 13,  7, 11, 10, 10,  8,  8, 17,  7, 13,  8, 14, 11,  8, 11, 12,\n",
              "       14, 15, 12,  7,  9, 10,  6,  9, 11, 11,  8, 10, 16,  7,  6, 12, 10,\n",
              "        9, 13,  7,  6, 11,  7, 11,  7,  7,  6, 11, 10, 10, 10, 10,  9,  4,\n",
              "       11, 13, 13, 11, 13, 12,  7,  4, 18, 13, 11, 12, 12,  6])"
            ]
          },
          "metadata": {},
          "execution_count": 73
        }
      ]
    },
    {
      "cell_type": "code",
      "source": [
        "min(dados_poisson), max(dados_poisson), len(dados_poisson)"
      ],
      "metadata": {
        "colab": {
          "base_uri": "https://localhost:8080/"
        },
        "id": "57O1WSO2NKhI",
        "outputId": "bb5e639e-ea52-49d7-dc85-0f080e761a26"
      },
      "execution_count": 74,
      "outputs": [
        {
          "output_type": "execute_result",
          "data": {
            "text/plain": [
              "(2, 23, 1000)"
            ]
          },
          "metadata": {},
          "execution_count": 74
        }
      ]
    },
    {
      "cell_type": "code",
      "source": [
        "sns.distplot(dados_poisson)"
      ],
      "metadata": {
        "colab": {
          "base_uri": "https://localhost:8080/",
          "height": 638
        },
        "id": "d_h2jWR-NPG6",
        "outputId": "3c5896c6-cc23-4508-9447-7d47a0cd769e"
      },
      "execution_count": 75,
      "outputs": [
        {
          "output_type": "stream",
          "name": "stderr",
          "text": [
            "<ipython-input-75-7f597d35b4e5>:1: UserWarning: \n",
            "\n",
            "`distplot` is a deprecated function and will be removed in seaborn v0.14.0.\n",
            "\n",
            "Please adapt your code to use either `displot` (a figure-level function with\n",
            "similar flexibility) or `histplot` (an axes-level function for histograms).\n",
            "\n",
            "For a guide to updating your code to use the new functions, please see\n",
            "https://gist.github.com/mwaskom/de44147ed2974457ad6372750bbe5751\n",
            "\n",
            "  sns.distplot(dados_poisson)\n"
          ]
        },
        {
          "output_type": "execute_result",
          "data": {
            "text/plain": [
              "<Axes: ylabel='Density'>"
            ]
          },
          "metadata": {},
          "execution_count": 75
        },
        {
          "output_type": "display_data",
          "data": {
            "text/plain": [
              "<Figure size 640x480 with 1 Axes>"
            ],
            "image/png": "[encoded data removed]"
          },
          "metadata": {}
        }
      ]
    },
    {
      "cell_type": "code",
      "source": [
        "np.unique(dados_poisson, return_counts=True)"
      ],
      "metadata": {
        "colab": {
          "base_uri": "https://localhost:8080/"
        },
        "id": "odPk-7XYNS_p",
        "outputId": "6ad0049b-6373-4e79-8cdc-7253f2bb1b6a"
      },
      "execution_count": 76,
      "outputs": [
        {
          "output_type": "execute_result",
          "data": {
            "text/plain": [
              "(array([ 2,  3,  4,  5,  6,  7,  8,  9, 10, 11, 12, 13, 14, 15, 16, 17, 18,\n",
              "        19, 20, 21, 22, 23]),\n",
              " array([  1,   7,  26,  40,  63,  89, 103, 133, 124, 140,  83,  64,  43,\n",
              "         36,  23,  10,   4,   4,   3,   2,   1,   1]))"
            ]
          },
          "metadata": {},
          "execution_count": 76
        }
      ]
    }
  ]
}